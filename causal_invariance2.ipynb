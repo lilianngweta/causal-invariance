{
 "cells": [
  {
   "cell_type": "markdown",
   "metadata": {},
   "source": [
    "<br>"
   ]
  },
  {
   "cell_type": "markdown",
   "metadata": {},
   "source": [
    "<br>"
   ]
  },
  {
   "cell_type": "markdown",
   "metadata": {},
   "source": [
    "# This next cell contains methods for generating data for training the feature extractor and data for environments 1, 2, and 3 by adding color to the MNIST images and binarizing the image labels."
   ]
  },
  {
   "cell_type": "code",
   "execution_count": 1,
   "metadata": {},
   "outputs": [],
   "source": [
    "import numpy as np\n",
    "import struct\n",
    "import matplotlib.pyplot as plt\n",
    "from mpl_toolkits.axes_grid1 import ImageGrid\n",
    "import numpy as np\n",
    "import torch\n",
    "from torchvision import datasets\n",
    "from torch import nn, optim, autograd\n",
    "import pandas as pd\n",
    "from numpy import vstack\n",
    "from numpy import argmax\n",
    "from pandas import read_csv\n",
    "from sklearn.metrics import accuracy_score\n",
    "from torchvision.datasets import MNIST\n",
    "from torchvision.transforms import Compose\n",
    "from torchvision.transforms import ToTensor\n",
    "from torchvision.transforms import Normalize\n",
    "from torch.utils.data import DataLoader\n",
    "from torch.nn import Linear\n",
    "from torch.nn import ReLU\n",
    "from torch.nn import Softmax\n",
    "from torch.nn import Module\n",
    "from torch.optim import Adam\n",
    "import torchvision.transforms as T\n",
    "from PIL import Image\n",
    "import matplotlib.pyplot as plt\n",
    "\n",
    "\n",
    "\n",
    "# Download and split the data\n",
    "mnist = datasets.MNIST('~/datasets/mnist', train=True, download=True)\n",
    "mnist_train = (mnist.data[:40000], mnist.targets[:40000])\n",
    "mnist_test = (mnist.data[40000:], mnist.targets[40000:])\n",
    "mnist_all = (mnist.data, mnist.targets)\n",
    "\n",
    "#Shuffle the data\n",
    "rng_state = np.random.get_state()\n",
    "np.random.shuffle(mnist_train[0].numpy())\n",
    "np.random.set_state(rng_state)\n",
    "np.random.shuffle(mnist_train[1].numpy())\n",
    "\n",
    "rng_state = np.random.get_state()\n",
    "np.random.shuffle(mnist_all[0].numpy())\n",
    "np.random.set_state(rng_state)\n",
    "np.random.shuffle(mnist_all[1].numpy())\n",
    "\n",
    "# Splitting the data that will be used to train the feature extractor \n",
    "# into 80% train set and 20% test set\n",
    "X_train = mnist_all[0][:int(0.8*len(mnist_all[0]))] \n",
    "y_train = mnist_all[1][:int(0.8*len(mnist_all[1]))] \n",
    "X_test = mnist_all[0][int(0.8*len(mnist_all[0])):]\n",
    "y_test = mnist_all[1][int(0.8*len(mnist_all[1])):]\n",
    "\n",
    "\n",
    "# used to binarize the target variable\n",
    "def binarize(y, label_noise=0.):\n",
    "    \n",
    "    y = np.copy(y) > 4\n",
    "    \n",
    "    if label_noise > 0:\n",
    "        y = np.logical_xor(y, np.random.binomial(1, label_noise, size=len(y)))\n",
    "    \n",
    "    return y.astype(int)\n",
    "\n",
    "# used to randomly add color to the dataset used to train the feature extractor\n",
    "def color_digits(X, y, color_noise=None, downsample=True):    \n",
    "    if downsample:\n",
    "        X = np.copy(X)[:,::2,::2]\n",
    "    \n",
    "    if color_noise is None:\n",
    "        color = np.random.choice([True, False], size=len(y))\n",
    "    else:\n",
    "        color = np.logical_xor(y, np.random.binomial(1, color_noise, size=len(y)))\n",
    "    colored_X = np.repeat(X[:,None,:,:],2,axis=1)\n",
    "    colored_X[color,0,:,:] = 0\n",
    "    colored_X[~color,1,:,:] = 0    \n",
    "    colored_X = colored_X.reshape(X.shape[0],-1)    \n",
    "    return (colored_X.astype(float)/ 255.), color.astype(int)\n",
    "\n",
    "# Used to generate environments 1, 2, and 3 by varying the distribution of color\n",
    "def generate_environments(X, y, color_noise=None, downsample=True):    \n",
    "    if downsample:\n",
    "        X = np.copy(X)[:,::2,::2]\n",
    "    \n",
    "    if color_noise is None:\n",
    "        color = np.random.choice([True, False], size=len(y))\n",
    "    else:\n",
    "        color = np.logical_xor(y, np.random.binomial(1, color_noise, size=len(y)))\n",
    "    colored_X = np.repeat(X[:,None,:,:],2,axis=1)\n",
    "    colored_X[color,0,:,:] = 0\n",
    "    colored_X[~color,1,:,:] = 0\n",
    "    \n",
    "    colored_X = colored_X.reshape(X.shape[0],-1)\n",
    "    \n",
    "    return {\n",
    "      'images': (colored_X.astype(float) / 255.),\n",
    "      'labels': y[:, None],\n",
    "      'colors': color[:, None]\n",
    "    }\n",
    "\n",
    "    \n",
    "    \n",
    "# Used to plot colored images    \n",
    "def plot_images(X, n_row=10, n_col=10, shape=(2,14,14), scale=False):\n",
    "    fig = plt.figure(figsize=(n_row, n_col))\n",
    "    grid = ImageGrid(fig, 111,  \n",
    "                     nrows_ncols=(n_row, n_col),  # creates 2x2 grid of axes\n",
    "                     axes_pad=0.05,  # pad between axes in inch.\n",
    "                     )\n",
    "    for ax in grid:\n",
    "        index = np.random.choice(np.arange(X.shape[0]))\n",
    "        img = X[index].reshape(shape)\n",
    "        if scale:\n",
    "            img = img - img.min()\n",
    "            img /= img.max()\n",
    "        img = np.vstack((img, np.zeros((1,shape[1],shape[2]))))\n",
    "        img = np.moveaxis(img, 0, -1)\n",
    "        ax.imshow(img)\n",
    "        ax.set_axis_off()\n",
    "    plt.show()\n",
    "    return"
   ]
  },
  {
   "cell_type": "markdown",
   "metadata": {},
   "source": [
    "<br>"
   ]
  },
  {
   "cell_type": "markdown",
   "metadata": {},
   "source": [
    "# Define, train, and evaluate the feature extractor"
   ]
  },
  {
   "cell_type": "code",
   "execution_count": 2,
   "metadata": {},
   "outputs": [
    {
     "data": {
      "image/png": "[encoded data removed]",
      "text/plain": [
       "<Figure size 720x720 with 200 Axes>"
      ]
     },
     "metadata": {
      "needs_background": "light"
     },
     "output_type": "display_data"
    },
    {
     "name": "stdout",
     "output_type": "stream",
     "text": [
      "Sequential(\n",
      "  (0): Linear(in_features=392, out_features=50, bias=True)\n",
      "  (1): ReLU()\n",
      "  (2): Linear(in_features=50, out_features=2, bias=True)\n",
      ")\n",
      "Label Accuracy:  0.9465833333333333\n",
      "Color Accuracy:  1.0\n"
     ]
    }
   ],
   "source": [
    "import numpy as np\n",
    "import torch\n",
    "from torch.utils.data import TensorDataset, DataLoader\n",
    "\n",
    "class MLP(torch.nn.Module):\n",
    "\n",
    "    def __init__(self, size=[2*14*14, 2]):\n",
    "        super(MLP, self).__init__()\n",
    "        layers = []\n",
    "        for i in range(len(size)-2):\n",
    "            layers.append(torch.nn.Linear(size[i], size[i+1]))\n",
    "            layers.append(torch.nn.ReLU())\n",
    "        layers.append(torch.nn.Linear(size[-2], size[-1]))\n",
    "        self.net = torch.nn.Sequential(*layers)\n",
    "        print(self.net)\n",
    "\n",
    "    def forward(self, x):\n",
    "        return self.net(x)\n",
    "\n",
    "def tensor_numpy(arrays, device):\n",
    "    out = []\n",
    "    for a in arrays:\n",
    "        out.append(torch.from_numpy(a).float().to(device))\n",
    "    return out\n",
    "    \n",
    "    \n",
    "np.random.seed(1)\n",
    "label_noise = 0.\n",
    "color_noise = None\n",
    "\n",
    "y_train = binarize(y_train, label_noise=label_noise)\n",
    "y_test = binarize(y_test, label_noise=label_noise)\n",
    "\n",
    "X_train, color_train = color_digits(X_train, y_train, color_noise, downsample=True)\n",
    "X_test, color_test = color_digits(X_test, y_test, color_noise, downsample=True)\n",
    "\n",
    "plot_images(X_train)\n",
    "# plot_images(X_test)\n",
    "\n",
    "# device = torch.device('cuda' if torch.cuda.is_available() else 'cpu')\n",
    "device = torch.device('cpu')\n",
    "\n",
    "hidden_size = [2*14*14, 50, 2]\n",
    "net = MLP(hidden_size).to(device)\n",
    "\n",
    "tr_x, tr_y, tr_c = tensor_numpy([X_train, y_train, color_train], device)\n",
    "te_x, te_y, te_c = tensor_numpy([X_test, y_test, color_test], device)\n",
    "\n",
    "bs = 256\n",
    "\n",
    "tr_dataset = TensorDataset(tr_x, tr_y, tr_c)\n",
    "tr_loader = DataLoader(tr_dataset, batch_size = bs, shuffle = True)\n",
    "# te_dataset = TensorDataset(te_x, te_y, te_c)\n",
    "# te_loader = DataLoader(te_dataset, batch_size = bs, shuffle = True)\n",
    "\n",
    "loss_label = torch.nn.BCEWithLogitsLoss()\n",
    "loss_color = torch.nn.BCEWithLogitsLoss()\n",
    "\n",
    "optimizer = torch.optim.Adam(net.parameters(), lr=1e-3, weight_decay=1e-5)\n",
    "\n",
    "epoch = 10\n",
    "for e in range(epoch):\n",
    "    \n",
    "    for x, y, c in tr_loader:\n",
    "        \n",
    "        optimizer.zero_grad()\n",
    "        \n",
    "        out = net(x)\n",
    "        loss_y = loss_label(out[:,0], y)\n",
    "        loss_c = loss_color(out[:,1], c)\n",
    "        loss = loss_y + loss_c\n",
    "        \n",
    "        loss.backward()\n",
    "        optimizer.step()\n",
    "        \n",
    "            \n",
    "with torch.no_grad():\n",
    "    test_preds = 1*(net(te_x).detach().cpu().numpy()>0)\n",
    "#     acc_y = (test_preds[:,0] == y_test).mean()\n",
    "#     acc_c = (test_preds[:,1] == color_test).mean()\n",
    "    acc_y = accuracy_score(y_test, test_preds[:,0])\n",
    "    acc_c = accuracy_score(color_test, test_preds[:,1])\n",
    "    print('Label Accuracy: ', acc_y)\n",
    "    print('Color Accuracy: ', acc_c)\n"
   ]
  },
  {
   "cell_type": "markdown",
   "metadata": {},
   "source": [
    "<br>"
   ]
  },
  {
   "cell_type": "markdown",
   "metadata": {},
   "source": [
    "# Use the trained feature extractor to extract features from data that will be used to train and test our classifiers"
   ]
  },
  {
   "cell_type": "code",
   "execution_count": 3,
   "metadata": {},
   "outputs": [
    {
     "name": "stdout",
     "output_type": "stream",
     "text": [
      "Combined environments 1 and 2 data size - used to train our final prediction models\n",
      "40000\n",
      "40000\n",
      "Environment 3 data size - used to test our final prediction models\n",
      "20000\n",
      "20000\n",
      "Printing all the trained model layers\n",
      "[Sequential(\n",
      "  (0): Linear(in_features=392, out_features=50, bias=True)\n",
      "  (1): ReLU()\n",
      "  (2): Linear(in_features=50, out_features=2, bias=True)\n",
      ")]\n",
      "Printing model layers after dropping the output layer for feature extraction\n",
      "Sequential(\n",
      "  (0): Linear(in_features=392, out_features=50, bias=True)\n",
      "  (1): ReLU()\n",
      ")\n",
      "Printing the extracted features - first train features followed by test features shape/size!!!\n",
      "(40000, 51)\n",
      "(20000, 51)\n"
     ]
    }
   ],
   "source": [
    "label_noise = 0.\n",
    "color_noise = None\n",
    "\n",
    "\n",
    "env1_X_train = mnist_train[0][::2]\n",
    "env1_y_train = binarize(mnist_train[1][::2], label_noise=label_noise)\n",
    "\n",
    "env2_X_train = mnist_train[0][1::2]\n",
    "env2_y_train = binarize(mnist_train[1][1::2], label_noise=label_noise)\n",
    "\n",
    "env3_X_train = mnist_test[0]\n",
    "env3_y_train = binarize(mnist_test[1], label_noise=label_noise)\n",
    "\n",
    "envs = [\n",
    "generate_environments(env1_X_train, env1_y_train, 0.2),\n",
    "generate_environments(env2_X_train, env2_y_train, 0.4),\n",
    "generate_environments(env3_X_train, env3_y_train, 0.9)\n",
    "]\n",
    "\n",
    "\n",
    "class feature_extractor(nn.Module):\n",
    "    def __init__(self):\n",
    "        super().__init__()   \n",
    "        net.eval()\n",
    "        self.children_list = []\n",
    "        for n,c in net.named_children():\n",
    "            self.children_list.append(c)\n",
    "            \n",
    "        print(\"Printing all the trained model layers\")\n",
    "        print(self.children_list)\n",
    "        self.children_list = self.children_list[0][:2]\n",
    "        print(\"Printing model layers after dropping the output layer for feature extraction\")    \n",
    "        print(self.children_list)\n",
    "        self.net = nn.Sequential(*self.children_list)\n",
    "        self.pretrained = None\n",
    "        \n",
    "    def forward(self,x):\n",
    "        x = self.net(x)\n",
    "        return x\n",
    "\n",
    "\n",
    "def extract_features(model,x,y, device = 'cpu'):\n",
    "    extracted_features = []\n",
    "    labels = []   \n",
    "    with torch.no_grad():\n",
    "        x = x.to(device)\n",
    "        extracted_features = model(x.float())\n",
    "    extracted_features = torch.flatten(extracted_features, 1)\n",
    "    extracted_features_df = pd.DataFrame(extracted_features.numpy())\n",
    "    extracted_features_df[\"target\"] = y.cpu().numpy()\n",
    "    return extracted_features_df\n",
    "\n",
    "\n",
    "\n",
    "train_envs_1_and_2_inputs = torch.cat((torch.from_numpy(envs[0]['images']), torch.from_numpy(envs[1]['images'])), 0)\n",
    "train_envs_1_and_2_targets = torch.cat((torch.from_numpy(envs[0]['labels']), torch.from_numpy(envs[1]['labels'])), 0)\n",
    "\n",
    "print(\"Combined environments 1 and 2 data size - used to train our final prediction models\")\n",
    "print(len(train_envs_1_and_2_inputs))\n",
    "print(len(train_envs_1_and_2_targets))\n",
    "\n",
    "test_inputs =torch.from_numpy(envs[2]['images'])\n",
    "test_targets =torch.from_numpy(envs[2]['labels'])\n",
    "\n",
    "print(\"Environment 3 data size - used to test our final prediction models\")\n",
    "print(len(test_inputs))\n",
    "print(len(test_targets))\n",
    "\n",
    "feature_extractor = feature_extractor()\n",
    "\n",
    "train_extracted_features_df = extract_features(feature_extractor,train_envs_1_and_2_inputs, train_envs_1_and_2_targets)\n",
    "test_extracted_features_df = extract_features(feature_extractor,test_inputs, test_targets)\n",
    "\n",
    "\n",
    "print(\"Printing the extracted features - first train features followed by test features shape/size!!!\")\n",
    "# print(train_extracted_features_df)\n",
    "print(train_extracted_features_df.shape)\n",
    "# print(test_extracted_features_df)\n",
    "print(test_extracted_features_df.shape)\n"
   ]
  },
  {
   "cell_type": "markdown",
   "metadata": {},
   "source": [
    "# Plain Linear Classifier"
   ]
  },
  {
   "cell_type": "code",
   "execution_count": 4,
   "metadata": {},
   "outputs": [
    {
     "name": "stdout",
     "output_type": "stream",
     "text": [
      "Printing the shape of the input!\n",
      "torch.Size([40000, 50])\n",
      "Printing the shape of the target!\n",
      "torch.Size([40000, 1])\n",
      "\n",
      "Plain Logistic Regression Mean Accuracy within training env:  0.8089 std:  0.0\n",
      "Plain Logistic Regression Mean Accuracy on env 3:  0.3733 std:  0.0\n"
     ]
    }
   ],
   "source": [
    "import pandas as pd\n",
    "import numpy as np\n",
    "import matplotlib.pyplot as plt\n",
    "import torch\n",
    "from sklearn.metrics import accuracy_score\n",
    "\n",
    "from sklearn import preprocessing\n",
    "from sklearn.model_selection import train_test_split\n",
    "\n",
    "from numpy import vstack\n",
    "from numpy import sqrt\n",
    "\n",
    "# train_data_path = './data/mnist_train_extracted_features.csv'\n",
    "# test_data_path = './data/mnist_test_extracted_features.csv'\n",
    "\n",
    "train_data_path = train_extracted_features_df\n",
    "test_data_path = test_extracted_features_df\n",
    "\n",
    "#***** Obtaining the within training environment test data\n",
    "train, within_test = train_test_split(train_data_path, test_size=0.5, random_state=100)\n",
    "\n",
    "\n",
    "def read_data(path):\n",
    "#     data_df = pd.read_csv(path).to_numpy()\n",
    "    data_df = path.to_numpy()\n",
    "\n",
    "    targets = data_df[:, -1] \n",
    "    X = data_df[:, :-1] \n",
    "\n",
    "    # Standardize the data\n",
    "    sscaler = preprocessing.StandardScaler()\n",
    "    sscaler.fit(X)\n",
    "    X = sscaler.transform(X)\n",
    "\n",
    "\n",
    "    X_torch = torch.from_numpy(X)\n",
    "    targets_torch = torch.from_numpy(targets)\n",
    "    return X_torch, targets_torch\n",
    "\n",
    "\n",
    "\n",
    "\n",
    "class LogisticRegression(torch.nn.Module):\n",
    "    def __init__(self, d):\n",
    "        super(LogisticRegression, self).__init__()\n",
    "        self.linear = torch.nn.Linear(d,1)\n",
    "\n",
    "    def forward(self, x):\n",
    "        y_hat = self.linear(x)\n",
    "        return torch.sigmoid(y_hat)\n",
    "\n",
    "    \n",
    "   \n",
    "    \n",
    "# train the model\n",
    "def train_model(inputs, targets, model):\n",
    "    # define the optimization\n",
    "    optimizer = torch.optim.SGD(model.parameters(), lr=0.01)\n",
    "    criterion = torch.nn.BCELoss()\n",
    "    \n",
    "    for epoch in range(100):        \n",
    "        optimizer.zero_grad() \n",
    "        y_hat = model(inputs.float())\n",
    "        loss = criterion(y_hat.float(), targets.float())\n",
    "        loss.backward()\n",
    "        optimizer.step()\n",
    "      \n",
    "        \n",
    "\n",
    "# evaluate the model\n",
    "def model_eval(inputs, targets, model):\n",
    "    predictions, actuals = list(), list()\n",
    "    yhat = model.forward(inputs.float())\n",
    "    yhat = np.where(yhat.detach().numpy() < 0.5, 0, 1)\n",
    "    actual = targets.detach().cpu().numpy()\n",
    "    actual = actual.reshape((len(actual), 1))\n",
    "    yhat = yhat.reshape((len(yhat), 1))\n",
    "\n",
    "    predictions.append(yhat)\n",
    "    actuals.append(actual)\n",
    "\n",
    "    predictions, actuals = vstack(predictions), vstack(actuals)\n",
    "#     calculate accuracy\n",
    "    acc = accuracy_score(actuals, predictions)\n",
    "#     acc = accuracy_score(actual, yhat)\n",
    "    return acc\n",
    "\n",
    "\n",
    "X_torch_train, targets_torch_train = read_data(train_data_path)\n",
    "X_torch_test, targets_torch_test = read_data(test_data_path)\n",
    "X_torch_test_within, targets_torch_test_within = read_data(within_test)\n",
    "\n",
    "\n",
    "targets_torch_train = targets_torch_train.reshape(-1,1)\n",
    "targets_torch_test = targets_torch_test.reshape(-1,1)\n",
    "targets_torch_test_within = targets_torch_test_within.reshape(-1,1)\n",
    "\n",
    "d = X_torch_train.shape[1]\n",
    "\n",
    "print(\"Printing the shape of the input!\")\n",
    "print(X_torch_train.shape)\n",
    "\n",
    "print(\"Printing the shape of the target!\")\n",
    "print(targets_torch_train.shape)\n",
    "\n",
    "model = LogisticRegression(d) \n",
    "\n",
    "train_model(X_torch_train, targets_torch_train, model)\n",
    "\n",
    "\n",
    "accuracy_list = []\n",
    "within_accuracy_list = []\n",
    "for i in range(10):\n",
    "    accuracy = model_eval(X_torch_test, targets_torch_test, model)\n",
    "    accuracy_within = model_eval(X_torch_test_within, targets_torch_test_within, model)\n",
    "    accuracy_list.append(accuracy)\n",
    "    within_accuracy_list.append(accuracy_within)\n",
    "print()\n",
    "print('Plain Logistic Regression Mean Accuracy within training env: ', np.mean(within_accuracy_list).round(4), \n",
    "      'std: ', np.std(within_accuracy_list).round(3))\n",
    "print('Plain Logistic Regression Mean Accuracy on env 3: ', np.mean(accuracy_list).round(4), 'std: ', \n",
    "      np.std(accuracy_list).round(3))\n"
   ]
  },
  {
   "cell_type": "markdown",
   "metadata": {},
   "source": [
    "<br>"
   ]
  },
  {
   "cell_type": "markdown",
   "metadata": {},
   "source": [
    "# Linear Classifier with NOTEARS (without threshold)"
   ]
  },
  {
   "cell_type": "code",
   "execution_count": 5,
   "metadata": {},
   "outputs": [
    {
     "name": "stdout",
     "output_type": "stream",
     "text": [
      "Final DAG!!!!!\n",
      "[[0.00000000e+00 0.00000000e+00 0.00000000e+00 ... 0.00000000e+00\n",
      "  0.00000000e+00 0.00000000e+00]\n",
      " [0.00000000e+00 0.00000000e+00 0.00000000e+00 ... 6.52426340e-09\n",
      "  3.57930146e-06 2.53869619e-01]\n",
      " [0.00000000e+00 0.00000000e+00 0.00000000e+00 ... 0.00000000e+00\n",
      "  0.00000000e+00 0.00000000e+00]\n",
      " ...\n",
      " [0.00000000e+00 0.00000000e+00 0.00000000e+00 ... 0.00000000e+00\n",
      "  1.58295024e-07 0.00000000e+00]\n",
      " [0.00000000e+00 0.00000000e+00 0.00000000e+00 ... 0.00000000e+00\n",
      "  0.00000000e+00 0.00000000e+00]\n",
      " [0.00000000e+00 2.24394150e-07 0.00000000e+00 ... 0.00000000e+00\n",
      "  0.00000000e+00 0.00000000e+00]]\n",
      "Linear Model with NOTEARS Accuracy within training env: 0.877\n",
      "Linear Model with NOTEARS Accuracy on env 3: 0.683\n",
      "\n",
      "Linear Model with NOTEARS Mean Accuracy within training env:  0.8773 std:  0.0\n",
      "Linear Model with NOTEARS Mean Accuracy on env 3:  0.6826 std:  0.0\n"
     ]
    }
   ],
   "source": [
    "#####################################################################################################################\n",
    "# Some parts of the code in this cell are from: Zheng, Xun, et al. \"Dags with no tears: Continuous optimization for \n",
    "# structure learning.\" Advances in Neural Information Processing Systems 31 (2018). \n",
    "# Their code is available here https://github.com/xunzheng/notears\n",
    "######################################################################################################################\n",
    "\n",
    "\n",
    "import numpy as np\n",
    "import scipy.linalg as slin\n",
    "import scipy.optimize as sopt\n",
    "from scipy.special import expit as sigmoid\n",
    "import pandas as pd\n",
    "from sklearn import preprocessing\n",
    "import torch\n",
    "\n",
    "import pandas as pd\n",
    "import numpy as np\n",
    "import matplotlib.pyplot as plt\n",
    "import torch\n",
    "from sklearn.metrics import accuracy_score\n",
    "\n",
    "from sklearn import preprocessing\n",
    "from sklearn.model_selection import train_test_split\n",
    "\n",
    "\n",
    "\n",
    "from numpy import vstack\n",
    "from numpy import sqrt\n",
    "\n",
    "\n",
    "# train_data_path = './data/mnist_train_extracted_features.csv'\n",
    "# test_data_path = './data/mnist_test_extracted_features.csv'\n",
    "\n",
    "train_data_path = train_extracted_features_df\n",
    "test_data_path = test_extracted_features_df\n",
    "\n",
    "#***** Obtaining the within training environment test data\n",
    "train, within_test = train_test_split(train_data_path, test_size=0.5, random_state=100)\n",
    "\n",
    "\n",
    "\n",
    "\n",
    "def read_data(path):\n",
    "#     data = pd.read_csv(path).to_numpy()\n",
    "    data = path.to_numpy()\n",
    "    \n",
    "    X = data.copy()\n",
    "    targets = X[:, -1] \n",
    "\n",
    "    # Standardize the data\n",
    "    sscaler = preprocessing.StandardScaler()\n",
    "    sscaler.fit(data)\n",
    "    data = sscaler.transform(data)\n",
    "    return data,targets\n",
    "\n",
    "\n",
    "def notears_linear(X, y, lambda1, loss_type, max_iter=100, h_tol=1e-8, rho_max=1e+16, w_threshold=0.3):\n",
    "    \"\"\"Solve min_W L(W; X) + lambda1 ‖W‖_1 s.t. h(W) = 0 using augmented Lagrangian.\n",
    "\n",
    "    Args:\n",
    "        X (np.ndarray): [n, d] sample matrix\n",
    "        lambda1 (float): l1 penalty parameter\n",
    "        loss_type (str): l2, logistic, poisson\n",
    "        max_iter (int): max num of dual ascent steps\n",
    "        h_tol (float): exit if |h(w_est)| <= htol\n",
    "        rho_max (float): exit if rho >= rho_max\n",
    "        w_threshold (float): drop edge if |weight| < threshold\n",
    "\n",
    "    Returns:\n",
    "        W_est (np.ndarray): [d, d] estimated DAG\n",
    "    \"\"\"\n",
    "    def _loss(W):\n",
    "        \"\"\"Evaluate value and gradient of loss.\"\"\"\n",
    "        M = X @ W\n",
    "        \n",
    "        yhat = M[:, -1]\n",
    "        targets = y\n",
    "        criterion = torch.nn.BCELoss()\n",
    "        \n",
    "        yhat = torch.from_numpy(yhat)\n",
    "        targets = torch.from_numpy(targets)\n",
    "        \n",
    "        yhat = torch.sigmoid(yhat) \n",
    "        \n",
    "        yhat = yhat.reshape(-1,1)\n",
    "        targets = targets.reshape(-1,1)\n",
    "        \n",
    "        if loss_type == 'l2':\n",
    "            R = X - M\n",
    "            loss_pred = criterion(yhat.float(), targets.float())\n",
    "            loss = 0.5 / X.shape[0] * (R ** 2).sum()\n",
    "            G_loss = - 1.0 / X.shape[0] * X.T @ R\n",
    "        elif loss_type == 'logistic':\n",
    "            loss_pred = criterion(yhat, targets)\n",
    "            loss = 1.0 / X.shape[0] * (np.logaddexp(0, M) - X * M).sum()\n",
    "            G_loss = 1.0 / X.shape[0] * X.T @ (sigmoid(M) - X)\n",
    "        elif loss_type == 'poisson':\n",
    "            loss_pred = criterion(yhat, targets)\n",
    "            S = np.exp(M)\n",
    "            loss = 1.0 / X.shape[0] * (S - X * M).sum()\n",
    "            G_loss = 1.0 / X.shape[0] * X.T @ (S - X)\n",
    "        else:\n",
    "            raise ValueError('unknown loss type')\n",
    "        return loss, loss_pred, G_loss\n",
    "\n",
    "    def _h(W):\n",
    "        \"\"\"Evaluate value and gradient of acyclicity constraint.\"\"\"\n",
    "        E = slin.expm(W * W)  # (Zheng et al. 2018)\n",
    "        h = np.trace(E) - d\n",
    "        #     # A different formulation, slightly faster at the cost of numerical stability\n",
    "        #     M = np.eye(d) + W * W / d  # (Yu et al. 2019)\n",
    "        #     E = np.linalg.matrix_power(M, d - 1)\n",
    "        #     h = (E.T * M).sum() - d\n",
    "        G_h = E.T * W * 2\n",
    "        return h, G_h\n",
    "\n",
    "    def _adj(w):\n",
    "        \"\"\"Convert doubled variables ([2 d^2] array) back to original variables ([d, d] matrix).\"\"\"\n",
    "        return (w[:d * d] - w[d * d:]).reshape([d, d])\n",
    "\n",
    "    def _func(w):\n",
    "        \"\"\"Evaluate value and gradient of augmented Lagrangian for doubled variables ([2 d^2] array).\"\"\"\n",
    "        W = _adj(w)\n",
    "        loss, loss_pred, G_loss = _loss(W)\n",
    "        h, G_h = _h(W)\n",
    "        obj = loss + loss_pred + 0.5 * rho * h * h + alpha * h + lambda1 * w.sum()\n",
    "        G_smooth = G_loss + (rho * h + alpha) * G_h\n",
    "        g_obj = np.concatenate((G_smooth + lambda1, - G_smooth + lambda1), axis=None)\n",
    "        return obj, g_obj\n",
    "\n",
    "    n, d = X.shape\n",
    "    w_est, rho, alpha, h = np.zeros(2 * d * d), 1.0, 0.0, np.inf  # double w_est into (w_pos, w_neg)\n",
    "    bnds = [(0, 0) if i == j else (0, None) for _ in range(2) for i in range(d) for j in range(d)]\n",
    "    if loss_type == 'l2':\n",
    "        X = X - np.mean(X, axis=0, keepdims=True)\n",
    "    for _ in range(max_iter):\n",
    "        w_new, h_new = None, None\n",
    "        while rho < rho_max:\n",
    "            sol = sopt.minimize(_func, w_est, method='L-BFGS-B', jac=True, bounds=bnds)\n",
    "            w_new = sol.x\n",
    "            h_new, _ = _h(_adj(w_new))\n",
    "            if h_new > 0.25 * h:\n",
    "                rho *= 10\n",
    "            else:\n",
    "                break\n",
    "        w_est, h = w_new, h_new\n",
    "        alpha += rho * h\n",
    "        if h <= h_tol or rho >= rho_max:\n",
    "            break\n",
    "    W_est = _adj(w_est)\n",
    "#     W_est[np.abs(W_est) < w_threshold] = 0\n",
    "    return W_est\n",
    "\n",
    "\n",
    "\n",
    "\n",
    "# evaluate the model\n",
    "def model_eval(inputs, targets, W):\n",
    "    reconstructed_inputs = inputs @ W\n",
    "    \n",
    "    yhat = torch.from_numpy(reconstructed_inputs[:, -1])\n",
    "    targets = torch.from_numpy(targets)\n",
    "    \n",
    "    yhat = torch.sigmoid(yhat) \n",
    "    yhat = np.where(yhat.detach().numpy() < 0.5, 0, 1)\n",
    "    \n",
    "    actual = targets.cpu().numpy()\n",
    "    actual = actual.reshape((len(actual), 1))\n",
    "    yhat = yhat.reshape((len(yhat), 1))\n",
    "    # calculate accuracy\n",
    "    acc = accuracy_score(actual, yhat)\n",
    "    return acc\n",
    "\n",
    "\n",
    "\n",
    "\n",
    "if __name__ == '__main__':\n",
    "    \n",
    "    X_train, train_targets = read_data(train_data_path)\n",
    "    X_test, test_targets = read_data(test_data_path)\n",
    "    \n",
    "    X_test_within, targets_test_within = read_data(within_test)\n",
    "    W_est = notears_linear(X_train,train_targets, lambda1=0.1, loss_type='l2')\n",
    "    \n",
    "    print(\"Final DAG!!!!!\")\n",
    "    print(W_est)\n",
    "    \n",
    "    accuracy = model_eval(X_test, test_targets, W_est)\n",
    "    accuracy_within = model_eval(X_test_within, targets_test_within, W_est)\n",
    "    print('Linear Model with NOTEARS Accuracy within training env: %.3f' % accuracy_within)\n",
    "    print('Linear Model with NOTEARS Accuracy on env 3: %.3f' % accuracy)\n",
    "    \n",
    "    np.savetxt('W_est.csv', W_est, delimiter=',')\n",
    "    \n",
    "    accuracy_list_notears = []\n",
    "    within_accuracy_list_notears = []\n",
    "    for i in range(10):\n",
    "        accuracy_notears = model_eval(X_test, test_targets, W_est)\n",
    "        accuracy_within_notears = model_eval(X_test_within, targets_test_within, W_est)\n",
    "        accuracy_list_notears.append(accuracy_notears)\n",
    "        within_accuracy_list_notears.append(accuracy_within_notears)\n",
    "    print()\n",
    "    print('Linear Model with NOTEARS Mean Accuracy within training env: ', np.mean(within_accuracy_list_notears).round(4), \n",
    "          'std: ', np.std(within_accuracy_list_notears).round(3))\n",
    "    print('Linear Model with NOTEARS Mean Accuracy on env 3: ', np.mean(accuracy_list_notears).round(4), 'std: ', \n",
    "          np.std(accuracy_list_notears).round(3))\n",
    "\n",
    "\n",
    "\n",
    "\n"
   ]
  },
  {
   "cell_type": "markdown",
   "metadata": {},
   "source": [
    "<br>"
   ]
  },
  {
   "cell_type": "markdown",
   "metadata": {},
   "source": [
    "<br>"
   ]
  },
  {
   "cell_type": "markdown",
   "metadata": {},
   "source": [
    "# Analysis of causal features and features with high correlation coefficients to color and label targets in the feature extractor"
   ]
  },
  {
   "cell_type": "markdown",
   "metadata": {},
   "source": [
    "## Correlation coefficients"
   ]
  },
  {
   "cell_type": "code",
   "execution_count": 6,
   "metadata": {},
   "outputs": [
    {
     "data": {
      "text/plain": [
       "[Parameter containing:\n",
       " tensor([[ 2.0857e-38, -2.7463e-39, -1.7912e-40,  ...,  1.1575e-01,\n",
       "          -1.3991e-38, -5.7981e-38],\n",
       "         [-2.2110e-38,  2.3893e-38, -4.4334e-38,  ...,  1.6731e-01,\n",
       "           2.0864e-39, -4.9193e-38],\n",
       "         [ 1.4948e-38, -4.0035e-38, -1.7797e-38,  ..., -7.9866e-02,\n",
       "          -9.5270e-40, -5.4243e-38],\n",
       "         ...,\n",
       "         [-3.8401e-38,  4.7179e-38,  5.7980e-39,  ..., -1.8187e-01,\n",
       "          -1.6029e-38, -5.4607e-38],\n",
       "         [ 2.4071e-38,  4.8597e-38, -2.8502e-38,  ...,  1.8759e-01,\n",
       "          -3.0321e-38, -1.7593e-38],\n",
       "         [ 3.8510e-38,  1.8353e-38, -3.8616e-38,  ...,  9.4795e-02,\n",
       "          -1.5059e-38,  6.5034e-38]], requires_grad=True),\n",
       " Parameter containing:\n",
       " tensor([0.1729, 0.1016, 0.0627, 0.2844, 0.1683, 0.1691, 0.0962, 0.0997, 0.1515,\n",
       "         0.0697, 0.1234, 0.1903, 0.0403, 0.0715, 0.1876, 0.1107, 0.3390, 0.1768,\n",
       "         0.1012, 0.2374, 0.2878, 0.1572, 0.1927, 0.0669, 0.0771, 0.1708, 0.1488,\n",
       "         0.1921, 0.1012, 0.1590, 0.1987, 0.1574, 0.0890, 0.2258, 0.0568, 0.1038,\n",
       "         0.1992, 0.0544, 0.0470, 0.1386, 0.1847, 0.1372, 0.1073, 0.1796, 0.0986,\n",
       "         0.0173, 0.0410, 0.0703, 0.2309, 0.1985], requires_grad=True),\n",
       " Parameter containing:\n",
       " tensor([[ 0.5056,  0.6724, -0.2891,  0.3458,  0.2991,  0.1965, -0.7111, -0.8293,\n",
       "          -0.4711, -0.2584,  0.0472,  0.2451, -0.5981, -0.2768,  0.0043,  0.3729,\n",
       "           0.1183,  0.1348, -0.3776,  0.0327,  0.2043, -0.4849,  0.0072,  0.4322,\n",
       "          -0.4582, -0.7507, -0.3659,  0.0178, -0.1759, -0.4739,  0.3198,  0.4355,\n",
       "           0.3654,  0.3246, -0.8624, -0.5349, -0.5313, -0.6755,  0.3984, -0.2899,\n",
       "           0.4855,  0.0113,  0.3361,  0.3329, -0.4256, -0.8852,  0.3647, -0.5089,\n",
       "           0.4267,  0.1022],\n",
       "         [-0.2518,  0.1840, -0.2910,  0.1979, -0.2920,  0.3115, -0.1319, -0.1827,\n",
       "           0.1621,  0.2204,  0.3170,  0.2880, -0.2181,  0.2295,  0.2376, -0.2668,\n",
       "           0.2890,  0.3463,  0.2101, -0.3307,  0.2132, -0.2617, -0.3406, -0.2243,\n",
       "           0.2784, -0.0778, -0.2495, -0.2573,  0.3624, -0.2678,  0.2980, -0.2244,\n",
       "          -0.2587,  0.2121,  0.0405,  0.1201,  0.2304, -0.2252, -0.4474, -0.2973,\n",
       "           0.2043,  0.2655, -0.3556, -0.3159, -0.2532, -0.2526, -0.2958,  0.1341,\n",
       "           0.2443,  0.2991]], requires_grad=True),\n",
       " Parameter containing:\n",
       " tensor([-0.0241, -0.0573], requires_grad=True)]"
      ]
     },
     "execution_count": 6,
     "metadata": {},
     "output_type": "execute_result"
    }
   ],
   "source": [
    "# All the weights of the feature extractor\n",
    "all_weights = list(net.parameters())\n",
    "all_weights"
   ]
  },
  {
   "cell_type": "code",
   "execution_count": 7,
   "metadata": {},
   "outputs": [
    {
     "name": "stdout",
     "output_type": "stream",
     "text": [
      "Printing Label Coeficients:\n"
     ]
    },
    {
     "data": {
      "text/plain": [
       "tensor([ 0.5056,  0.6724, -0.2891,  0.3458,  0.2991,  0.1965, -0.7111, -0.8293,\n",
       "        -0.4711, -0.2584,  0.0472,  0.2451, -0.5981, -0.2768,  0.0043,  0.3729,\n",
       "         0.1183,  0.1348, -0.3776,  0.0327,  0.2043, -0.4849,  0.0072,  0.4322,\n",
       "        -0.4582, -0.7507, -0.3659,  0.0178, -0.1759, -0.4739,  0.3198,  0.4355,\n",
       "         0.3654,  0.3246, -0.8624, -0.5349, -0.5313, -0.6755,  0.3984, -0.2899,\n",
       "         0.4855,  0.0113,  0.3361,  0.3329, -0.4256, -0.8852,  0.3647, -0.5089,\n",
       "         0.4267,  0.1022], grad_fn=<SelectBackward0>)"
      ]
     },
     "metadata": {},
     "output_type": "display_data"
    },
    {
     "name": "stdout",
     "output_type": "stream",
     "text": [
      "Printing Color Coeficients:\n"
     ]
    },
    {
     "data": {
      "text/plain": [
       "tensor([-0.2518,  0.1840, -0.2910,  0.1979, -0.2920,  0.3115, -0.1319, -0.1827,\n",
       "         0.1621,  0.2204,  0.3170,  0.2880, -0.2181,  0.2295,  0.2376, -0.2668,\n",
       "         0.2890,  0.3463,  0.2101, -0.3307,  0.2132, -0.2617, -0.3406, -0.2243,\n",
       "         0.2784, -0.0778, -0.2495, -0.2573,  0.3624, -0.2678,  0.2980, -0.2244,\n",
       "        -0.2587,  0.2121,  0.0405,  0.1201,  0.2304, -0.2252, -0.4474, -0.2973,\n",
       "         0.2043,  0.2655, -0.3556, -0.3159, -0.2532, -0.2526, -0.2958,  0.1341,\n",
       "         0.2443,  0.2991], grad_fn=<SelectBackward0>)"
      ]
     },
     "metadata": {},
     "output_type": "display_data"
    }
   ],
   "source": [
    "# Extract coeficients of features for the label and coeficients of features for the color\n",
    "label_coefficients = all_weights[2][0]\n",
    "print(\"Printing Label Coeficients:\")\n",
    "display(label_coefficients)\n",
    "color_coefficients = all_weights[2][1]\n",
    "print(\"Printing Color Coeficients:\")\n",
    "display(color_coefficients)"
   ]
  },
  {
   "cell_type": "code",
   "execution_count": 8,
   "metadata": {},
   "outputs": [
    {
     "name": "stdout",
     "output_type": "stream",
     "text": [
      "Printing out indeces of sorted features from highest to lowest coefficients for label\n"
     ]
    },
    {
     "data": {
      "text/plain": [
       "tensor([45, 34,  7, 25,  6, 37,  1, 12, 35, 36, 47,  0, 40, 21, 29,  8, 24, 31,\n",
       "        23, 48, 44, 38, 18, 15, 26, 32, 46,  3, 42, 43, 33, 30,  4, 39,  2, 13,\n",
       "         9, 11, 20,  5, 28, 17, 16, 49, 10, 19, 27, 41, 22, 14])"
      ]
     },
     "metadata": {},
     "output_type": "display_data"
    },
    {
     "name": "stdout",
     "output_type": "stream",
     "text": [
      "Printing out feature correlation coefficients from highest to lowest for label\n"
     ]
    },
    {
     "data": {
      "text/plain": [
       "tensor([-0.8852, -0.8624, -0.8293, -0.7507, -0.7111, -0.6755,  0.6724, -0.5981,\n",
       "        -0.5349, -0.5313, -0.5089,  0.5056,  0.4855, -0.4849, -0.4739, -0.4711,\n",
       "        -0.4582,  0.4355,  0.4322,  0.4267, -0.4256,  0.3984, -0.3776,  0.3729,\n",
       "        -0.3659,  0.3654,  0.3647,  0.3458,  0.3361,  0.3329,  0.3246,  0.3198,\n",
       "         0.2991, -0.2899, -0.2891, -0.2768, -0.2584,  0.2451,  0.2043,  0.1965,\n",
       "        -0.1759,  0.1348,  0.1183,  0.1022,  0.0472,  0.0327,  0.0178,  0.0113,\n",
       "         0.0072,  0.0043], grad_fn=<IndexBackward0>)"
      ]
     },
     "metadata": {},
     "output_type": "display_data"
    },
    {
     "name": "stdout",
     "output_type": "stream",
     "text": [
      "Printing out indeces of sorted features from highest to lowest coefficients for color\n"
     ]
    },
    {
     "data": {
      "text/plain": [
       "tensor([38, 28, 42, 17, 22, 19, 10, 43,  5, 49, 30, 39, 46,  4,  2, 16, 11, 24,\n",
       "        29, 15, 41, 21, 32, 27, 44, 45,  0, 26, 48, 14, 36, 13, 37, 31, 23,  9,\n",
       "        12, 20, 33, 18, 40,  3,  1,  7,  8, 47,  6, 35, 25, 34])"
      ]
     },
     "metadata": {},
     "output_type": "display_data"
    },
    {
     "name": "stdout",
     "output_type": "stream",
     "text": [
      "Printing out feature correlation coefficients from highest to lowest for label\n"
     ]
    },
    {
     "data": {
      "text/plain": [
       "tensor([-0.4474,  0.3624, -0.3556,  0.3463, -0.3406, -0.3307,  0.3170, -0.3159,\n",
       "         0.3115,  0.2991,  0.2980, -0.2973, -0.2958, -0.2920, -0.2910,  0.2890,\n",
       "         0.2880,  0.2784, -0.2678, -0.2668,  0.2655, -0.2617, -0.2587, -0.2573,\n",
       "        -0.2532, -0.2526, -0.2518, -0.2495,  0.2443,  0.2376,  0.2304,  0.2295,\n",
       "        -0.2252, -0.2244, -0.2243,  0.2204, -0.2181,  0.2132,  0.2121,  0.2101,\n",
       "         0.2043,  0.1979,  0.1840, -0.1827,  0.1621,  0.1341, -0.1319,  0.1201,\n",
       "        -0.0778,  0.0405], grad_fn=<IndexBackward0>)"
      ]
     },
     "execution_count": 8,
     "metadata": {},
     "output_type": "execute_result"
    }
   ],
   "source": [
    "# Sorted features from highest to lowest absolute value of coefficients for label\n",
    "Sorted_features_highest_to_lowest_coefs_label = torch.argsort(label_coefficients.abs(), descending=True)\n",
    "print(\"Printing out indeces of sorted features from highest to lowest coefficients for label\")\n",
    "display(Sorted_features_highest_to_lowest_coefs_label)\n",
    "print(\"Printing out feature correlation coefficients from highest to lowest for label\")\n",
    "display(label_coefficients[Sorted_features_highest_to_lowest_coefs_label])\n",
    "\n",
    "\n",
    "\n",
    "# Sorted features from highest to lowest absolute value of coefficients for color\n",
    "Sorted_features_highest_to_lowest_coefs_color = torch.argsort(color_coefficients.abs(), descending=True)\n",
    "print(\"Printing out indeces of sorted features from highest to lowest coefficients for color\")\n",
    "display(Sorted_features_highest_to_lowest_coefs_color)\n",
    "print(\"Printing out feature correlation coefficients from highest to lowest for label\")\n",
    "color_coefficients[Sorted_features_highest_to_lowest_coefs_color]"
   ]
  },
  {
   "cell_type": "markdown",
   "metadata": {},
   "source": [
    "<br>"
   ]
  },
  {
   "cell_type": "markdown",
   "metadata": {},
   "source": [
    "<br>"
   ]
  },
  {
   "cell_type": "markdown",
   "metadata": {},
   "source": [
    "## Causal features"
   ]
  },
  {
   "cell_type": "code",
   "execution_count": 9,
   "metadata": {},
   "outputs": [
    {
     "data": {
      "text/plain": [
       "(50,)"
      ]
     },
     "metadata": {},
     "output_type": "display_data"
    },
    {
     "data": {
      "text/plain": [
       "(50,)"
      ]
     },
     "execution_count": 9,
     "metadata": {},
     "output_type": "execute_result"
    }
   ],
   "source": [
    "features_with_direct_links_to_the_label1 = W_est[0,:][1:]\n",
    "display(features_with_direct_links_to_the_label1.shape)\n",
    "features_with_direct_links_to_the_label2 = W_est[:,-1][1:]\n",
    "features_with_direct_links_to_the_label2.shape"
   ]
  },
  {
   "cell_type": "code",
   "execution_count": 10,
   "metadata": {},
   "outputs": [
    {
     "name": "stdout",
     "output_type": "stream",
     "text": [
      "Printing out indeces of sorted features from most causal to least causal group 1\n"
     ]
    },
    {
     "data": {
      "text/plain": [
       "tensor([37, 21,  9, 13, 26, 18, 40, 15, 30, 29, 14,  3, 42, 36, 25, 49, 31, 48,\n",
       "        32, 33, 34, 35, 47, 46, 38, 39, 45, 44, 43, 41, 12,  1,  2,  4,  5,  6,\n",
       "         7,  8, 10, 11, 28, 16, 17, 19, 20, 22, 23, 24,  0, 27])"
      ]
     },
     "metadata": {},
     "output_type": "display_data"
    },
    {
     "name": "stdout",
     "output_type": "stream",
     "text": [
      "Printing out feature causal coefficients from highest to lowest from group 1\n"
     ]
    },
    {
     "data": {
      "text/plain": [
       "array([ 3.09276370e-01,  6.52533576e-02, -3.00423820e-02, -8.17794465e-04,\n",
       "        2.70298929e-04,  2.29965689e-05, -2.76834074e-06, -9.50475676e-07,\n",
       "        4.58732112e-07, -3.38889570e-07,  1.07701553e-07,  6.62057673e-08,\n",
       "        1.50548159e-08,  0.00000000e+00,  0.00000000e+00,  0.00000000e+00,\n",
       "        0.00000000e+00,  0.00000000e+00,  0.00000000e+00,  0.00000000e+00,\n",
       "        0.00000000e+00,  0.00000000e+00,  0.00000000e+00,  0.00000000e+00,\n",
       "        0.00000000e+00,  0.00000000e+00,  0.00000000e+00,  0.00000000e+00,\n",
       "        0.00000000e+00,  0.00000000e+00,  0.00000000e+00,  0.00000000e+00,\n",
       "        0.00000000e+00,  0.00000000e+00,  0.00000000e+00,  0.00000000e+00,\n",
       "        0.00000000e+00,  0.00000000e+00,  0.00000000e+00,  0.00000000e+00,\n",
       "        0.00000000e+00,  0.00000000e+00,  0.00000000e+00,  0.00000000e+00,\n",
       "        0.00000000e+00,  0.00000000e+00,  0.00000000e+00,  0.00000000e+00,\n",
       "        0.00000000e+00,  0.00000000e+00])"
      ]
     },
     "metadata": {},
     "output_type": "display_data"
    },
    {
     "name": "stdout",
     "output_type": "stream",
     "text": [
      "\n",
      "Printing out indeces of sorted features from most causal to least causal group 2\n"
     ]
    },
    {
     "data": {
      "text/plain": [
       "tensor([ 0,  6, 24, 36,  2, 44, 28, 35, 45, 10, 32,  5, 30, 40, 29, 31, 33, 34,\n",
       "        37, 38, 39, 25, 41, 42, 43, 46, 47, 48, 49, 15,  1,  3,  4,  7,  8,  9,\n",
       "        11, 12, 13, 14, 27, 16, 17, 18, 19, 20, 21, 22, 23, 26])"
      ]
     },
     "metadata": {},
     "output_type": "display_data"
    },
    {
     "name": "stdout",
     "output_type": "stream",
     "text": [
      "Printing out feature causal coefficients from highest to lowest from group 2\n"
     ]
    },
    {
     "data": {
      "text/plain": [
       "array([ 2.53869619e-01, -2.18190999e-01, -1.65660457e-01, -1.55962351e-01,\n",
       "        1.05332620e-01, -9.54565934e-02, -2.33034880e-02, -2.23929140e-02,\n",
       "        1.72795585e-02,  2.28708710e-03,  1.56002754e-04, -3.47380157e-07,\n",
       "        0.00000000e+00,  0.00000000e+00,  0.00000000e+00,  0.00000000e+00,\n",
       "        0.00000000e+00,  0.00000000e+00,  0.00000000e+00,  0.00000000e+00,\n",
       "        0.00000000e+00,  0.00000000e+00,  0.00000000e+00,  0.00000000e+00,\n",
       "        0.00000000e+00,  0.00000000e+00,  0.00000000e+00,  0.00000000e+00,\n",
       "        0.00000000e+00,  0.00000000e+00,  0.00000000e+00,  0.00000000e+00,\n",
       "        0.00000000e+00,  0.00000000e+00,  0.00000000e+00,  0.00000000e+00,\n",
       "        0.00000000e+00,  0.00000000e+00,  0.00000000e+00,  0.00000000e+00,\n",
       "        0.00000000e+00,  0.00000000e+00,  0.00000000e+00,  0.00000000e+00,\n",
       "        0.00000000e+00,  0.00000000e+00,  0.00000000e+00,  0.00000000e+00,\n",
       "        0.00000000e+00,  0.00000000e+00])"
      ]
     },
     "metadata": {},
     "output_type": "display_data"
    }
   ],
   "source": [
    "# Sorted features from most causal to least causal group 1\n",
    "sorted_features_most__causal_to_least1 = torch.argsort(torch.from_numpy(features_with_direct_links_to_the_label1).abs(),descending=True)\n",
    "print(\"Printing out indeces of sorted features from most causal to least causal group 1\")\n",
    "display(sorted_features_most__causal_to_least1)\n",
    "print(\"Printing out feature causal coefficients from highest to lowest from group 1\")\n",
    "display(features_with_direct_links_to_the_label1[sorted_features_most__causal_to_least1])\n",
    "\n",
    "print()\n",
    "\n",
    "# Sorted features from most causal to least causal group 2\n",
    "sorted_features_most__causal_to_least2 = torch.argsort(torch.from_numpy(features_with_direct_links_to_the_label2).abs(), descending=True)\n",
    "print(\"Printing out indeces of sorted features from most causal to least causal group 2\")\n",
    "display(sorted_features_most__causal_to_least2)\n",
    "print(\"Printing out feature causal coefficients from highest to lowest from group 2\")\n",
    "display(features_with_direct_links_to_the_label2[sorted_features_most__causal_to_least2])\n",
    "\n",
    "\n",
    "\n"
   ]
  },
  {
   "cell_type": "code",
   "execution_count": 128,
   "metadata": {},
   "outputs": [
    {
     "data": {
      "text/plain": [
       "array([ 0,  4,  5, 14, 17, 25, 27, 28, 29, 30, 31, 32, 33, 34, 35, 36, 37,\n",
       "       38, 39, 43, 46])"
      ]
     },
     "execution_count": 128,
     "metadata": {},
     "output_type": "execute_result"
    }
   ],
   "source": [
    "all_causal_feature_indeces = np.union1d(sorted_features_most__causal_to_least1.numpy()[:16], sorted_features_most__causal_to_least2.numpy()[:16])  \n",
    "\n",
    "all_causal_feature_indeces"
   ]
  },
  {
   "cell_type": "code",
   "execution_count": 129,
   "metadata": {},
   "outputs": [
    {
     "data": {
      "text/plain": [
       "array([ 0, 14, 17, 25, 27, 29, 31, 35, 36, 38, 39, 43, 46])"
      ]
     },
     "execution_count": 129,
     "metadata": {},
     "output_type": "execute_result"
    }
   ],
   "source": [
    "# Identifying features that are correlated to label, but are also in the causal feature set to label\n",
    "\n",
    "label_corr_and_causal_features_intersection = np.intersect1d(all_causal_feature_indeces, Sorted_features_highest_to_lowest_coefs_label.numpy()[:26] )\n",
    "label_corr_and_causal_features_intersection\n"
   ]
  },
  {
   "cell_type": "code",
   "execution_count": 130,
   "metadata": {},
   "outputs": [
    {
     "data": {
      "text/plain": [
       "array([ 4,  5, 17, 27, 28, 30, 32, 34, 37, 43, 46])"
      ]
     },
     "execution_count": 130,
     "metadata": {},
     "output_type": "execute_result"
    }
   ],
   "source": [
    "# Identifying features that are correlated to color, but are also in the causal feature set to label \n",
    "\n",
    "color_corr_and_causal_features_intersection = np.intersect1d(all_causal_feature_indeces, Sorted_features_highest_to_lowest_coefs_color.numpy()[:26] )\n",
    "color_corr_and_causal_features_intersection\n"
   ]
  },
  {
   "cell_type": "code",
   "execution_count": 131,
   "metadata": {},
   "outputs": [
    {
     "data": {
      "text/plain": [
       "array([17, 18, 22, 27, 41, 43, 46])"
      ]
     },
     "execution_count": 131,
     "metadata": {},
     "output_type": "execute_result"
    }
   ],
   "source": [
    "# Identifying features that are correlated to both color and label\n",
    "\n",
    "color_corr_and_label_corr= np.intersect1d(Sorted_features_highest_to_lowest_coefs_label.numpy()[:26], Sorted_features_highest_to_lowest_coefs_color.numpy()[:26] )\n",
    "color_corr_and_label_corr\n",
    "\n"
   ]
  }
 ],
 "metadata": {
  "kernelspec": {
   "display_name": "Python [conda env:castle_env]",
   "language": "python",
   "name": "conda-env-castle_env-py"
  },
  "language_info": {
   "codemirror_mode": {
    "name": "ipython",
    "version": 3
   },
   "file_extension": ".py",
   "mimetype": "text/x-python",
   "name": "python",
   "nbconvert_exporter": "python",
   "pygments_lexer": "ipython3",
   "version": "3.9.7"
  }
 },
 "nbformat": 4,
 "nbformat_minor": 2
}

{
 "cells": [
  {
   "cell_type": "code",
   "execution_count": 1,
   "metadata": {},
   "outputs": [],
   "source": [
    "import torch\n",
    "import torchvision\n",
    "import torchvision.transforms as transforms\n",
    "from torch.utils.data import random_split, DataLoader\n",
    "import matplotlib.pyplot as plt\n",
    "from torchvision.utils import make_grid\n",
    "\n",
    "import numpy as np\n",
    "\n",
    "import matplotlib.pyplot as plt\n",
    "import torchvision.transforms as transforms\n",
    "import torchvision.transforms.functional as F\n",
    "from PIL import Image \n",
    "from scipy import ndimage, misc\n",
    "import matplotlib.pyplot as plt\n",
    "\n",
    "from image_feature_extractor import Img2Vec\n",
    "\n",
    "from sklearn.linear_model import LogisticRegression\n",
    "\n",
    "import torch\n",
    "from sklearn import preprocessing\n",
    "\n",
    "import seaborn as sns\n",
    "\n"
   ]
  },
  {
   "cell_type": "markdown",
   "metadata": {},
   "source": [
    "# Download CIFAR 10 data form torchvision"
   ]
  },
  {
   "cell_type": "code",
   "execution_count": 2,
   "metadata": {},
   "outputs": [
    {
     "name": "stdout",
     "output_type": "stream",
     "text": [
      "Files already downloaded and verified\n",
      "Files already downloaded and verified\n"
     ]
    }
   ],
   "source": [
    "\n",
    "train_dataset = torchvision.datasets.CIFAR10('~/datasets/cifar', train=True, download=True)\n",
    "test_dataset = torchvision.datasets.CIFAR10('~/datasets/cifar', train=False, download=True)\n"
   ]
  },
  {
   "cell_type": "markdown",
   "metadata": {},
   "source": [
    "# Useful functions"
   ]
  },
  {
   "cell_type": "code",
   "execution_count": 3,
   "metadata": {},
   "outputs": [],
   "source": [
    "def apply_contrast(images_data, contrast_factor):\n",
    "    to_tensor = transforms.ToTensor()   \n",
    "    images_list = [to_tensor(im) for im in images_data]\n",
    "    images = torch.stack(images_list)\n",
    "    contrasted_images = F.adjust_contrast(images, contrast_factor)\n",
    "    contrasted_images = np.array(np.stack([transforms.ToPILImage()(im) for im in contrasted_images]))\n",
    "    return contrasted_images\n",
    "\n",
    "def apply_rotation(images_data, angle):\n",
    "    rotated_images = []\n",
    "    for img in images_data:\n",
    "        rotated_image = ndimage.rotate(img, angle, reshape=False)\n",
    "        rotated_images.append(rotated_image)\n",
    "    rotated_images = np.array(rotated_images)\n",
    "    return rotated_images\n",
    "\n",
    "\n",
    "# Generate a list of original and modified images: every original image has a duplicate which is \n",
    "# the modified original image.\n",
    "def generate_duplicates_modified_original(image_set, mod_factor, mod_type=\"contrast\"):\n",
    "    original_labels = np.zeros(len(image_set.data))\n",
    "    modified_labels = np.ones(len(image_set.data))\n",
    "    \n",
    "    modified_images = None\n",
    "    \n",
    "    if mod_type==\"contrast\":\n",
    "        modified_images = apply_contrast(image_set.data, mod_factor) \n",
    "        \n",
    "    elif mod_type==\"rotation\":\n",
    "        modified_images = apply_rotation(image_set.data, mod_factor)\n",
    "\n",
    "    original_and_modified_images = np.concatenate((image_set.data, modified_images), axis=0)\n",
    "    modification_labels = np.concatenate((original_labels, modified_labels), axis=None)\n",
    "    image_labels = np.concatenate((image_set.targets, image_set.targets), axis=None)        \n",
    "    return modified_images, original_and_modified_images, modification_labels, image_labels\n",
    "\n",
    "\n",
    "# used to binarize the target variable\n",
    "def binarize(y):    \n",
    "    y = np.copy(y) > 5\n",
    "    return y.astype(int)\n",
    "\n",
    "def correlate_label_with_img_modification(image_dataset, mod_factor, mod_percent= 0.1, \n",
    "                                          binarize_label=True, mod_type=\"contrast\"):\n",
    "    y = binarize(image_dataset.targets)\n",
    "    mod_labels = np.logical_xor(y, np.random.binomial(1, mod_percent, size=len(y)))\n",
    "    \n",
    "    images_to_be_modified = image_dataset.data[mod_labels]\n",
    "    images_to_be_left_alone = image_dataset.data[~mod_labels]\n",
    "    \n",
    "    all_img_labels = None\n",
    "    \n",
    "    if binarize_label:\n",
    "        modified_imgs_labels = y[mod_labels]\n",
    "        unmodified_imgs_labels = y[~mod_labels]\n",
    "        all_img_labels = np.concatenate((modified_imgs_labels, unmodified_imgs_labels), axis=None)\n",
    "    else:\n",
    "        modified_imgs_labels = np.array(image_dataset.targets)[mod_labels]\n",
    "        unmodified_imgs_labels = np.array(image_dataset.targets)[~mod_labels]\n",
    "        all_img_labels = np.concatenate((modified_imgs_labels, unmodified_imgs_labels), axis=None)    \n",
    "    \n",
    "    all_images = None\n",
    "    \n",
    "    if mod_type == \"contrast\":\n",
    "        modified_images = apply_contrast(images_to_be_modified, mod_factor)\n",
    "        all_images = np.concatenate((modified_images, images_to_be_left_alone), axis=0)                    \n",
    "        \n",
    "    elif mod_type==\"rotation\":\n",
    "        modified_images = apply_rotation(images_to_be_modified, mod_factor)\n",
    "        all_images = np.concatenate((modified_images, images_to_be_left_alone), axis=0)\n",
    "        \n",
    "    return all_images, all_img_labels, mod_labels.astype(int)\n",
    "\n",
    "\n",
    "# Function to extract image features    \n",
    "def get_features(images, batch_size):\n",
    "    Z_list = []\n",
    "    img2vec = Img2Vec(model=\"resnet50\")\n",
    "#     img2vec = Img2Vec()\n",
    "    for first in range(0, len(images), batch_size):\n",
    "        images_subset = images[first:first+batch_size]\n",
    "        Z_subset = img2vec.get_vec(images_subset)\n",
    "        Z_list.append(Z_subset)\n",
    "    Z = np.vstack(Z_list)\n",
    "    return Z"
   ]
  },
  {
   "cell_type": "markdown",
   "metadata": {},
   "source": [
    "# Accuracies for different variations of data distributions per class"
   ]
  },
  {
   "cell_type": "code",
   "execution_count": 4,
   "metadata": {
    "scrolled": false
   },
   "outputs": [
    {
     "name": "stderr",
     "output_type": "stream",
     "text": [
      "Failed to detect the name of this notebook, you can set it manually with the WANDB_NOTEBOOK_NAME environment variable to enable code saving.\n",
      "\u001b[34m\u001b[1mwandb\u001b[0m: Currently logged in as: \u001b[33mlilianngweta\u001b[0m. Use \u001b[1m`wandb login --relogin`\u001b[0m to force relogin\n"
     ]
    },
    {
     "name": "stdout",
     "output_type": "stream",
     "text": [
      " Results for contrast factor:  0.1\n"
     ]
    },
    {
     "data": {
      "text/html": [
       "Tracking run with wandb version 0.13.2"
      ],
      "text/plain": [
       "<IPython.core.display.HTML object>"
      ]
     },
     "metadata": {},
     "output_type": "display_data"
    },
    {
     "data": {
      "text/html": [
       "Run data is saved locally in <code>/home/ngwetl/LILIAN_RESEARCH/causality-for-out-of-distribution-generalization-in-ml/causal-invariance/wandb/run-20220902_140219-37iskjij</code>"
      ],
      "text/plain": [
       "<IPython.core.display.HTML object>"
      ]
     },
     "metadata": {},
     "output_type": "display_data"
    },
    {
     "data": {
      "text/html": [
       "Syncing run <strong><a href=\"https://wandb.ai/lilianngweta/accuracy-vs-dist-variations/runs/37iskjij\" target=\"_blank\">major-lion-42</a></strong> to <a href=\"https://wandb.ai/lilianngweta/accuracy-vs-dist-variations\" target=\"_blank\">Weights & Biases</a> (<a href=\"https://wandb.me/run\" target=\"_blank\">docs</a>)<br/>"
      ],
      "text/plain": [
       "<IPython.core.display.HTML object>"
      ]
     },
     "metadata": {},
     "output_type": "display_data"
    },
    {
     "name": "stdout",
     "output_type": "stream",
     "text": [
      " Results for alpha value:  0.5\n"
     ]
    },
    {
     "name": "stderr",
     "output_type": "stream",
     "text": [
      "/software/anaconda3/envs/invariance_env/lib/python3.10/site-packages/sklearn/linear_model/_logistic.py:444: ConvergenceWarning: lbfgs failed to converge (status=1):\n",
      "STOP: TOTAL NO. of ITERATIONS REACHED LIMIT.\n",
      "\n",
      "Increase the number of iterations (max_iter) or scale the data as shown in:\n",
      "    https://scikit-learn.org/stable/modules/preprocessing.html\n",
      "Please also refer to the documentation for alternative solver options:\n",
      "    https://scikit-learn.org/stable/modules/linear_model.html#logistic-regression\n",
      "  n_iter_i = _check_optimize_result(\n"
     ]
    },
    {
     "name": "stdout",
     "output_type": "stream",
     "text": [
      "LR Training Accuracy:  0.87264\n",
      "LR Accuracy on test data - Z - In Dist:  0.8537\n",
      "LR Accuracy on test data - Z - OOD:  0.8577\n",
      "\n",
      "\n",
      "\n",
      " Results for alpha value:  0.75\n"
     ]
    },
    {
     "name": "stderr",
     "output_type": "stream",
     "text": [
      "/software/anaconda3/envs/invariance_env/lib/python3.10/site-packages/sklearn/linear_model/_logistic.py:444: ConvergenceWarning: lbfgs failed to converge (status=1):\n",
      "STOP: TOTAL NO. of ITERATIONS REACHED LIMIT.\n",
      "\n",
      "Increase the number of iterations (max_iter) or scale the data as shown in:\n",
      "    https://scikit-learn.org/stable/modules/preprocessing.html\n",
      "Please also refer to the documentation for alternative solver options:\n",
      "    https://scikit-learn.org/stable/modules/linear_model.html#logistic-regression\n",
      "  n_iter_i = _check_optimize_result(\n"
     ]
    },
    {
     "name": "stdout",
     "output_type": "stream",
     "text": [
      "LR Training Accuracy:  0.90552\n",
      "LR Accuracy on test data - Z - In Dist:  0.8927\n",
      "LR Accuracy on test data - Z - OOD:  0.7706\n",
      "\n",
      "\n",
      "\n",
      " Results for alpha value:  0.9\n"
     ]
    },
    {
     "name": "stderr",
     "output_type": "stream",
     "text": [
      "/software/anaconda3/envs/invariance_env/lib/python3.10/site-packages/sklearn/linear_model/_logistic.py:444: ConvergenceWarning: lbfgs failed to converge (status=1):\n",
      "STOP: TOTAL NO. of ITERATIONS REACHED LIMIT.\n",
      "\n",
      "Increase the number of iterations (max_iter) or scale the data as shown in:\n",
      "    https://scikit-learn.org/stable/modules/preprocessing.html\n",
      "Please also refer to the documentation for alternative solver options:\n",
      "    https://scikit-learn.org/stable/modules/linear_model.html#logistic-regression\n",
      "  n_iter_i = _check_optimize_result(\n"
     ]
    },
    {
     "name": "stdout",
     "output_type": "stream",
     "text": [
      "LR Training Accuracy:  0.94768\n",
      "LR Accuracy on test data - Z - In Dist:  0.9381\n",
      "LR Accuracy on test data - Z - OOD:  0.5796\n",
      "\n",
      "\n",
      "\n",
      " Results for alpha value:  0.95\n"
     ]
    },
    {
     "name": "stderr",
     "output_type": "stream",
     "text": [
      "/software/anaconda3/envs/invariance_env/lib/python3.10/site-packages/sklearn/linear_model/_logistic.py:444: ConvergenceWarning: lbfgs failed to converge (status=1):\n",
      "STOP: TOTAL NO. of ITERATIONS REACHED LIMIT.\n",
      "\n",
      "Increase the number of iterations (max_iter) or scale the data as shown in:\n",
      "    https://scikit-learn.org/stable/modules/preprocessing.html\n",
      "Please also refer to the documentation for alternative solver options:\n",
      "    https://scikit-learn.org/stable/modules/linear_model.html#logistic-regression\n",
      "  n_iter_i = _check_optimize_result(\n"
     ]
    },
    {
     "name": "stdout",
     "output_type": "stream",
     "text": [
      "LR Training Accuracy:  0.96996\n",
      "LR Accuracy on test data - Z - In Dist:  0.9654\n",
      "LR Accuracy on test data - Z - OOD:  0.4623\n",
      "\n",
      "\n",
      "\n",
      " Results for alpha value:  0.99\n"
     ]
    },
    {
     "name": "stderr",
     "output_type": "stream",
     "text": [
      "/software/anaconda3/envs/invariance_env/lib/python3.10/site-packages/sklearn/linear_model/_logistic.py:444: ConvergenceWarning: lbfgs failed to converge (status=1):\n",
      "STOP: TOTAL NO. of ITERATIONS REACHED LIMIT.\n",
      "\n",
      "Increase the number of iterations (max_iter) or scale the data as shown in:\n",
      "    https://scikit-learn.org/stable/modules/preprocessing.html\n",
      "Please also refer to the documentation for alternative solver options:\n",
      "    https://scikit-learn.org/stable/modules/linear_model.html#logistic-regression\n",
      "  n_iter_i = _check_optimize_result(\n"
     ]
    },
    {
     "name": "stdout",
     "output_type": "stream",
     "text": [
      "LR Training Accuracy:  0.994\n",
      "LR Accuracy on test data - Z - In Dist:  0.9897\n",
      "LR Accuracy on test data - Z - OOD:  0.2818\n",
      "\n",
      "\n",
      "\n",
      " Results for alpha value:  1.0\n"
     ]
    },
    {
     "name": "stderr",
     "output_type": "stream",
     "text": [
      "/software/anaconda3/envs/invariance_env/lib/python3.10/site-packages/sklearn/linear_model/_logistic.py:444: ConvergenceWarning: lbfgs failed to converge (status=1):\n",
      "STOP: TOTAL NO. of ITERATIONS REACHED LIMIT.\n",
      "\n",
      "Increase the number of iterations (max_iter) or scale the data as shown in:\n",
      "    https://scikit-learn.org/stable/modules/preprocessing.html\n",
      "Please also refer to the documentation for alternative solver options:\n",
      "    https://scikit-learn.org/stable/modules/linear_model.html#logistic-regression\n",
      "  n_iter_i = _check_optimize_result(\n"
     ]
    },
    {
     "name": "stdout",
     "output_type": "stream",
     "text": [
      "LR Training Accuracy:  1.0\n",
      "LR Accuracy on test data - Z - In Dist:  1.0\n",
      "LR Accuracy on test data - Z - OOD:  0.0022\n",
      "\n",
      "\n",
      "\n",
      "\n",
      "\n",
      "\n",
      "\n",
      "\n",
      " Results for contrast factor:  0.3\n"
     ]
    },
    {
     "data": {
      "text/html": [
       "Finishing last run (ID:37iskjij) before initializing another..."
      ],
      "text/plain": [
       "<IPython.core.display.HTML object>"
      ]
     },
     "metadata": {},
     "output_type": "display_data"
    },
    {
     "data": {
      "text/html": [
       "Waiting for W&B process to finish... <strong style=\"color:green\">(success).</strong>"
      ],
      "text/plain": [
       "<IPython.core.display.HTML object>"
      ]
     },
     "metadata": {},
     "output_type": "display_data"
    },
    {
     "data": {
      "text/html": [
       "Synced <strong style=\"color:#cdcd00\">major-lion-42</strong>: <a href=\"https://wandb.ai/lilianngweta/accuracy-vs-dist-variations/runs/37iskjij\" target=\"_blank\">https://wandb.ai/lilianngweta/accuracy-vs-dist-variations/runs/37iskjij</a><br/>Synced 5 W&B file(s), 6 media file(s), 6 artifact file(s) and 0 other file(s)"
      ],
      "text/plain": [
       "<IPython.core.display.HTML object>"
      ]
     },
     "metadata": {},
     "output_type": "display_data"
    },
    {
     "data": {
      "text/html": [
       "Find logs at: <code>./wandb/run-20220902_140219-37iskjij/logs</code>"
      ],
      "text/plain": [
       "<IPython.core.display.HTML object>"
      ]
     },
     "metadata": {},
     "output_type": "display_data"
    },
    {
     "data": {
      "text/html": [
       "Successfully finished last run (ID:37iskjij). Initializing new run:<br/>"
      ],
      "text/plain": [
       "<IPython.core.display.HTML object>"
      ]
     },
     "metadata": {},
     "output_type": "display_data"
    },
    {
     "data": {
      "text/html": [
       "Tracking run with wandb version 0.13.2"
      ],
      "text/plain": [
       "<IPython.core.display.HTML object>"
      ]
     },
     "metadata": {},
     "output_type": "display_data"
    },
    {
     "data": {
      "text/html": [
       "Run data is saved locally in <code>/home/ngwetl/LILIAN_RESEARCH/causality-for-out-of-distribution-generalization-in-ml/causal-invariance/wandb/run-20220902_141935-1sk09q77</code>"
      ],
      "text/plain": [
       "<IPython.core.display.HTML object>"
      ]
     },
     "metadata": {},
     "output_type": "display_data"
    },
    {
     "data": {
      "text/html": [
       "Syncing run <strong><a href=\"https://wandb.ai/lilianngweta/accuracy-vs-dist-variations/runs/1sk09q77\" target=\"_blank\">deft-butterfly-43</a></strong> to <a href=\"https://wandb.ai/lilianngweta/accuracy-vs-dist-variations\" target=\"_blank\">Weights & Biases</a> (<a href=\"https://wandb.me/run\" target=\"_blank\">docs</a>)<br/>"
      ],
      "text/plain": [
       "<IPython.core.display.HTML object>"
      ]
     },
     "metadata": {},
     "output_type": "display_data"
    },
    {
     "name": "stdout",
     "output_type": "stream",
     "text": [
      " Results for alpha value:  0.5\n"
     ]
    },
    {
     "name": "stderr",
     "output_type": "stream",
     "text": [
      "/software/anaconda3/envs/invariance_env/lib/python3.10/site-packages/sklearn/linear_model/_logistic.py:444: ConvergenceWarning: lbfgs failed to converge (status=1):\n",
      "STOP: TOTAL NO. of ITERATIONS REACHED LIMIT.\n",
      "\n",
      "Increase the number of iterations (max_iter) or scale the data as shown in:\n",
      "    https://scikit-learn.org/stable/modules/preprocessing.html\n",
      "Please also refer to the documentation for alternative solver options:\n",
      "    https://scikit-learn.org/stable/modules/linear_model.html#logistic-regression\n",
      "  n_iter_i = _check_optimize_result(\n"
     ]
    },
    {
     "name": "stdout",
     "output_type": "stream",
     "text": [
      "LR Training Accuracy:  0.9101\n",
      "LR Accuracy on test data - Z - In Dist:  0.8973\n",
      "LR Accuracy on test data - Z - OOD:  0.8963\n",
      "\n",
      "\n",
      "\n",
      " Results for alpha value:  0.75\n"
     ]
    },
    {
     "name": "stderr",
     "output_type": "stream",
     "text": [
      "/software/anaconda3/envs/invariance_env/lib/python3.10/site-packages/sklearn/linear_model/_logistic.py:444: ConvergenceWarning: lbfgs failed to converge (status=1):\n",
      "STOP: TOTAL NO. of ITERATIONS REACHED LIMIT.\n",
      "\n",
      "Increase the number of iterations (max_iter) or scale the data as shown in:\n",
      "    https://scikit-learn.org/stable/modules/preprocessing.html\n",
      "Please also refer to the documentation for alternative solver options:\n",
      "    https://scikit-learn.org/stable/modules/linear_model.html#logistic-regression\n",
      "  n_iter_i = _check_optimize_result(\n"
     ]
    },
    {
     "name": "stdout",
     "output_type": "stream",
     "text": [
      "LR Training Accuracy:  0.93032\n",
      "LR Accuracy on test data - Z - In Dist:  0.918\n",
      "LR Accuracy on test data - Z - OOD:  0.8462\n",
      "\n",
      "\n",
      "\n",
      " Results for alpha value:  0.9\n"
     ]
    },
    {
     "name": "stderr",
     "output_type": "stream",
     "text": [
      "/software/anaconda3/envs/invariance_env/lib/python3.10/site-packages/sklearn/linear_model/_logistic.py:444: ConvergenceWarning: lbfgs failed to converge (status=1):\n",
      "STOP: TOTAL NO. of ITERATIONS REACHED LIMIT.\n",
      "\n",
      "Increase the number of iterations (max_iter) or scale the data as shown in:\n",
      "    https://scikit-learn.org/stable/modules/preprocessing.html\n",
      "Please also refer to the documentation for alternative solver options:\n",
      "    https://scikit-learn.org/stable/modules/linear_model.html#logistic-regression\n",
      "  n_iter_i = _check_optimize_result(\n"
     ]
    },
    {
     "name": "stdout",
     "output_type": "stream",
     "text": [
      "LR Training Accuracy:  0.96156\n",
      "LR Accuracy on test data - Z - In Dist:  0.9442\n",
      "LR Accuracy on test data - Z - OOD:  0.7135\n",
      "\n",
      "\n",
      "\n",
      " Results for alpha value:  0.95\n"
     ]
    },
    {
     "name": "stderr",
     "output_type": "stream",
     "text": [
      "/software/anaconda3/envs/invariance_env/lib/python3.10/site-packages/sklearn/linear_model/_logistic.py:444: ConvergenceWarning: lbfgs failed to converge (status=1):\n",
      "STOP: TOTAL NO. of ITERATIONS REACHED LIMIT.\n",
      "\n",
      "Increase the number of iterations (max_iter) or scale the data as shown in:\n",
      "    https://scikit-learn.org/stable/modules/preprocessing.html\n",
      "Please also refer to the documentation for alternative solver options:\n",
      "    https://scikit-learn.org/stable/modules/linear_model.html#logistic-regression\n",
      "  n_iter_i = _check_optimize_result(\n"
     ]
    },
    {
     "name": "stdout",
     "output_type": "stream",
     "text": [
      "LR Training Accuracy:  0.97542\n",
      "LR Accuracy on test data - Z - In Dist:  0.9648\n",
      "LR Accuracy on test data - Z - OOD:  0.6119\n",
      "\n",
      "\n",
      "\n",
      " Results for alpha value:  0.99\n"
     ]
    },
    {
     "name": "stderr",
     "output_type": "stream",
     "text": [
      "/software/anaconda3/envs/invariance_env/lib/python3.10/site-packages/sklearn/linear_model/_logistic.py:444: ConvergenceWarning: lbfgs failed to converge (status=1):\n",
      "STOP: TOTAL NO. of ITERATIONS REACHED LIMIT.\n",
      "\n",
      "Increase the number of iterations (max_iter) or scale the data as shown in:\n",
      "    https://scikit-learn.org/stable/modules/preprocessing.html\n",
      "Please also refer to the documentation for alternative solver options:\n",
      "    https://scikit-learn.org/stable/modules/linear_model.html#logistic-regression\n",
      "  n_iter_i = _check_optimize_result(\n"
     ]
    },
    {
     "name": "stdout",
     "output_type": "stream",
     "text": [
      "LR Training Accuracy:  0.99486\n",
      "LR Accuracy on test data - Z - In Dist:  0.987\n",
      "LR Accuracy on test data - Z - OOD:  0.3794\n",
      "\n",
      "\n",
      "\n",
      " Results for alpha value:  1.0\n"
     ]
    },
    {
     "name": "stderr",
     "output_type": "stream",
     "text": [
      "/software/anaconda3/envs/invariance_env/lib/python3.10/site-packages/sklearn/linear_model/_logistic.py:444: ConvergenceWarning: lbfgs failed to converge (status=1):\n",
      "STOP: TOTAL NO. of ITERATIONS REACHED LIMIT.\n",
      "\n",
      "Increase the number of iterations (max_iter) or scale the data as shown in:\n",
      "    https://scikit-learn.org/stable/modules/preprocessing.html\n",
      "Please also refer to the documentation for alternative solver options:\n",
      "    https://scikit-learn.org/stable/modules/linear_model.html#logistic-regression\n",
      "  n_iter_i = _check_optimize_result(\n"
     ]
    },
    {
     "name": "stdout",
     "output_type": "stream",
     "text": [
      "LR Training Accuracy:  1.0\n",
      "LR Accuracy on test data - Z - In Dist:  0.9979\n",
      "LR Accuracy on test data - Z - OOD:  0.039\n",
      "\n",
      "\n",
      "\n",
      "\n",
      "\n",
      "\n",
      "\n",
      "\n",
      " Results for contrast factor:  0.5\n"
     ]
    },
    {
     "data": {
      "text/html": [
       "Finishing last run (ID:1sk09q77) before initializing another..."
      ],
      "text/plain": [
       "<IPython.core.display.HTML object>"
      ]
     },
     "metadata": {},
     "output_type": "display_data"
    },
    {
     "data": {
      "text/html": [
       "Waiting for W&B process to finish... <strong style=\"color:green\">(success).</strong>"
      ],
      "text/plain": [
       "<IPython.core.display.HTML object>"
      ]
     },
     "metadata": {},
     "output_type": "display_data"
    },
    {
     "data": {
      "text/html": [
       "Synced <strong style=\"color:#cdcd00\">deft-butterfly-43</strong>: <a href=\"https://wandb.ai/lilianngweta/accuracy-vs-dist-variations/runs/1sk09q77\" target=\"_blank\">https://wandb.ai/lilianngweta/accuracy-vs-dist-variations/runs/1sk09q77</a><br/>Synced 5 W&B file(s), 6 media file(s), 6 artifact file(s) and 0 other file(s)"
      ],
      "text/plain": [
       "<IPython.core.display.HTML object>"
      ]
     },
     "metadata": {},
     "output_type": "display_data"
    },
    {
     "data": {
      "text/html": [
       "Find logs at: <code>./wandb/run-20220902_141935-1sk09q77/logs</code>"
      ],
      "text/plain": [
       "<IPython.core.display.HTML object>"
      ]
     },
     "metadata": {},
     "output_type": "display_data"
    },
    {
     "data": {
      "text/html": [
       "Successfully finished last run (ID:1sk09q77). Initializing new run:<br/>"
      ],
      "text/plain": [
       "<IPython.core.display.HTML object>"
      ]
     },
     "metadata": {},
     "output_type": "display_data"
    },
    {
     "data": {
      "text/html": [
       "Tracking run with wandb version 0.13.2"
      ],
      "text/plain": [
       "<IPython.core.display.HTML object>"
      ]
     },
     "metadata": {},
     "output_type": "display_data"
    },
    {
     "data": {
      "text/html": [
       "Run data is saved locally in <code>/home/ngwetl/LILIAN_RESEARCH/causality-for-out-of-distribution-generalization-in-ml/causal-invariance/wandb/run-20220902_143643-3ttuifmu</code>"
      ],
      "text/plain": [
       "<IPython.core.display.HTML object>"
      ]
     },
     "metadata": {},
     "output_type": "display_data"
    },
    {
     "data": {
      "text/html": [
       "Syncing run <strong><a href=\"https://wandb.ai/lilianngweta/accuracy-vs-dist-variations/runs/3ttuifmu\" target=\"_blank\">decent-aardvark-44</a></strong> to <a href=\"https://wandb.ai/lilianngweta/accuracy-vs-dist-variations\" target=\"_blank\">Weights & Biases</a> (<a href=\"https://wandb.me/run\" target=\"_blank\">docs</a>)<br/>"
      ],
      "text/plain": [
       "<IPython.core.display.HTML object>"
      ]
     },
     "metadata": {},
     "output_type": "display_data"
    },
    {
     "name": "stdout",
     "output_type": "stream",
     "text": [
      " Results for alpha value:  0.5\n"
     ]
    },
    {
     "name": "stderr",
     "output_type": "stream",
     "text": [
      "/software/anaconda3/envs/invariance_env/lib/python3.10/site-packages/sklearn/linear_model/_logistic.py:444: ConvergenceWarning: lbfgs failed to converge (status=1):\n",
      "STOP: TOTAL NO. of ITERATIONS REACHED LIMIT.\n",
      "\n",
      "Increase the number of iterations (max_iter) or scale the data as shown in:\n",
      "    https://scikit-learn.org/stable/modules/preprocessing.html\n",
      "Please also refer to the documentation for alternative solver options:\n",
      "    https://scikit-learn.org/stable/modules/linear_model.html#logistic-regression\n",
      "  n_iter_i = _check_optimize_result(\n"
     ]
    },
    {
     "name": "stdout",
     "output_type": "stream",
     "text": [
      "LR Training Accuracy:  0.92684\n",
      "LR Accuracy on test data - Z - In Dist:  0.9127\n",
      "LR Accuracy on test data - Z - OOD:  0.9119\n",
      "\n",
      "\n",
      "\n",
      " Results for alpha value:  0.75\n"
     ]
    },
    {
     "name": "stderr",
     "output_type": "stream",
     "text": [
      "/software/anaconda3/envs/invariance_env/lib/python3.10/site-packages/sklearn/linear_model/_logistic.py:444: ConvergenceWarning: lbfgs failed to converge (status=1):\n",
      "STOP: TOTAL NO. of ITERATIONS REACHED LIMIT.\n",
      "\n",
      "Increase the number of iterations (max_iter) or scale the data as shown in:\n",
      "    https://scikit-learn.org/stable/modules/preprocessing.html\n",
      "Please also refer to the documentation for alternative solver options:\n",
      "    https://scikit-learn.org/stable/modules/linear_model.html#logistic-regression\n",
      "  n_iter_i = _check_optimize_result(\n"
     ]
    },
    {
     "name": "stdout",
     "output_type": "stream",
     "text": [
      "LR Training Accuracy:  0.94102\n",
      "LR Accuracy on test data - Z - In Dist:  0.9266\n",
      "LR Accuracy on test data - Z - OOD:  0.8745\n",
      "\n",
      "\n",
      "\n",
      " Results for alpha value:  0.9\n"
     ]
    },
    {
     "name": "stderr",
     "output_type": "stream",
     "text": [
      "/software/anaconda3/envs/invariance_env/lib/python3.10/site-packages/sklearn/linear_model/_logistic.py:444: ConvergenceWarning: lbfgs failed to converge (status=1):\n",
      "STOP: TOTAL NO. of ITERATIONS REACHED LIMIT.\n",
      "\n",
      "Increase the number of iterations (max_iter) or scale the data as shown in:\n",
      "    https://scikit-learn.org/stable/modules/preprocessing.html\n",
      "Please also refer to the documentation for alternative solver options:\n",
      "    https://scikit-learn.org/stable/modules/linear_model.html#logistic-regression\n",
      "  n_iter_i = _check_optimize_result(\n"
     ]
    },
    {
     "name": "stdout",
     "output_type": "stream",
     "text": [
      "LR Training Accuracy:  0.96146\n",
      "LR Accuracy on test data - Z - In Dist:  0.9493\n",
      "LR Accuracy on test data - Z - OOD:  0.7852\n",
      "\n",
      "\n",
      "\n",
      " Results for alpha value:  0.95\n"
     ]
    },
    {
     "name": "stderr",
     "output_type": "stream",
     "text": [
      "/software/anaconda3/envs/invariance_env/lib/python3.10/site-packages/sklearn/linear_model/_logistic.py:444: ConvergenceWarning: lbfgs failed to converge (status=1):\n",
      "STOP: TOTAL NO. of ITERATIONS REACHED LIMIT.\n",
      "\n",
      "Increase the number of iterations (max_iter) or scale the data as shown in:\n",
      "    https://scikit-learn.org/stable/modules/preprocessing.html\n",
      "Please also refer to the documentation for alternative solver options:\n",
      "    https://scikit-learn.org/stable/modules/linear_model.html#logistic-regression\n",
      "  n_iter_i = _check_optimize_result(\n"
     ]
    },
    {
     "name": "stdout",
     "output_type": "stream",
     "text": [
      "LR Training Accuracy:  0.9741\n",
      "LR Accuracy on test data - Z - In Dist:  0.962\n",
      "LR Accuracy on test data - Z - OOD:  0.6881\n",
      "\n",
      "\n",
      "\n",
      " Results for alpha value:  0.99\n"
     ]
    },
    {
     "name": "stderr",
     "output_type": "stream",
     "text": [
      "/software/anaconda3/envs/invariance_env/lib/python3.10/site-packages/sklearn/linear_model/_logistic.py:444: ConvergenceWarning: lbfgs failed to converge (status=1):\n",
      "STOP: TOTAL NO. of ITERATIONS REACHED LIMIT.\n",
      "\n",
      "Increase the number of iterations (max_iter) or scale the data as shown in:\n",
      "    https://scikit-learn.org/stable/modules/preprocessing.html\n",
      "Please also refer to the documentation for alternative solver options:\n",
      "    https://scikit-learn.org/stable/modules/linear_model.html#logistic-regression\n",
      "  n_iter_i = _check_optimize_result(\n"
     ]
    },
    {
     "name": "stdout",
     "output_type": "stream",
     "text": [
      "LR Training Accuracy:  0.9906\n",
      "LR Accuracy on test data - Z - In Dist:  0.9818\n",
      "LR Accuracy on test data - Z - OOD:  0.4747\n",
      "\n",
      "\n",
      "\n",
      " Results for alpha value:  1.0\n"
     ]
    },
    {
     "name": "stderr",
     "output_type": "stream",
     "text": [
      "/software/anaconda3/envs/invariance_env/lib/python3.10/site-packages/sklearn/linear_model/_logistic.py:444: ConvergenceWarning: lbfgs failed to converge (status=1):\n",
      "STOP: TOTAL NO. of ITERATIONS REACHED LIMIT.\n",
      "\n",
      "Increase the number of iterations (max_iter) or scale the data as shown in:\n",
      "    https://scikit-learn.org/stable/modules/preprocessing.html\n",
      "Please also refer to the documentation for alternative solver options:\n",
      "    https://scikit-learn.org/stable/modules/linear_model.html#logistic-regression\n",
      "  n_iter_i = _check_optimize_result(\n"
     ]
    },
    {
     "name": "stdout",
     "output_type": "stream",
     "text": [
      "LR Training Accuracy:  0.99706\n",
      "LR Accuracy on test data - Z - In Dist:  0.9879\n",
      "LR Accuracy on test data - Z - OOD:  0.2497\n",
      "\n",
      "\n",
      "\n",
      "\n",
      "\n",
      "\n",
      "\n",
      "\n",
      " Results for contrast factor:  0.7\n"
     ]
    },
    {
     "data": {
      "text/html": [
       "Finishing last run (ID:3ttuifmu) before initializing another..."
      ],
      "text/plain": [
       "<IPython.core.display.HTML object>"
      ]
     },
     "metadata": {},
     "output_type": "display_data"
    },
    {
     "data": {
      "text/html": [
       "Waiting for W&B process to finish... <strong style=\"color:green\">(success).</strong>"
      ],
      "text/plain": [
       "<IPython.core.display.HTML object>"
      ]
     },
     "metadata": {},
     "output_type": "display_data"
    },
    {
     "data": {
      "text/html": [
       "Synced <strong style=\"color:#cdcd00\">decent-aardvark-44</strong>: <a href=\"https://wandb.ai/lilianngweta/accuracy-vs-dist-variations/runs/3ttuifmu\" target=\"_blank\">https://wandb.ai/lilianngweta/accuracy-vs-dist-variations/runs/3ttuifmu</a><br/>Synced 5 W&B file(s), 6 media file(s), 6 artifact file(s) and 0 other file(s)"
      ],
      "text/plain": [
       "<IPython.core.display.HTML object>"
      ]
     },
     "metadata": {},
     "output_type": "display_data"
    },
    {
     "data": {
      "text/html": [
       "Find logs at: <code>./wandb/run-20220902_143643-3ttuifmu/logs</code>"
      ],
      "text/plain": [
       "<IPython.core.display.HTML object>"
      ]
     },
     "metadata": {},
     "output_type": "display_data"
    },
    {
     "data": {
      "text/html": [
       "Successfully finished last run (ID:3ttuifmu). Initializing new run:<br/>"
      ],
      "text/plain": [
       "<IPython.core.display.HTML object>"
      ]
     },
     "metadata": {},
     "output_type": "display_data"
    },
    {
     "data": {
      "text/html": [
       "Tracking run with wandb version 0.13.2"
      ],
      "text/plain": [
       "<IPython.core.display.HTML object>"
      ]
     },
     "metadata": {},
     "output_type": "display_data"
    },
    {
     "data": {
      "text/html": [
       "Run data is saved locally in <code>/home/ngwetl/LILIAN_RESEARCH/causality-for-out-of-distribution-generalization-in-ml/causal-invariance/wandb/run-20220902_145349-2v049tc7</code>"
      ],
      "text/plain": [
       "<IPython.core.display.HTML object>"
      ]
     },
     "metadata": {},
     "output_type": "display_data"
    },
    {
     "data": {
      "text/html": [
       "Syncing run <strong><a href=\"https://wandb.ai/lilianngweta/accuracy-vs-dist-variations/runs/2v049tc7\" target=\"_blank\">dandy-plasma-45</a></strong> to <a href=\"https://wandb.ai/lilianngweta/accuracy-vs-dist-variations\" target=\"_blank\">Weights & Biases</a> (<a href=\"https://wandb.me/run\" target=\"_blank\">docs</a>)<br/>"
      ],
      "text/plain": [
       "<IPython.core.display.HTML object>"
      ]
     },
     "metadata": {},
     "output_type": "display_data"
    },
    {
     "name": "stdout",
     "output_type": "stream",
     "text": [
      " Results for alpha value:  0.5\n"
     ]
    },
    {
     "name": "stderr",
     "output_type": "stream",
     "text": [
      "/software/anaconda3/envs/invariance_env/lib/python3.10/site-packages/sklearn/linear_model/_logistic.py:444: ConvergenceWarning: lbfgs failed to converge (status=1):\n",
      "STOP: TOTAL NO. of ITERATIONS REACHED LIMIT.\n",
      "\n",
      "Increase the number of iterations (max_iter) or scale the data as shown in:\n",
      "    https://scikit-learn.org/stable/modules/preprocessing.html\n",
      "Please also refer to the documentation for alternative solver options:\n",
      "    https://scikit-learn.org/stable/modules/linear_model.html#logistic-regression\n",
      "  n_iter_i = _check_optimize_result(\n"
     ]
    },
    {
     "name": "stdout",
     "output_type": "stream",
     "text": [
      "LR Training Accuracy:  0.93588\n",
      "LR Accuracy on test data - Z - In Dist:  0.9197\n",
      "LR Accuracy on test data - Z - OOD:  0.9202\n",
      "\n",
      "\n",
      "\n",
      " Results for alpha value:  0.75\n"
     ]
    },
    {
     "name": "stderr",
     "output_type": "stream",
     "text": [
      "/software/anaconda3/envs/invariance_env/lib/python3.10/site-packages/sklearn/linear_model/_logistic.py:444: ConvergenceWarning: lbfgs failed to converge (status=1):\n",
      "STOP: TOTAL NO. of ITERATIONS REACHED LIMIT.\n",
      "\n",
      "Increase the number of iterations (max_iter) or scale the data as shown in:\n",
      "    https://scikit-learn.org/stable/modules/preprocessing.html\n",
      "Please also refer to the documentation for alternative solver options:\n",
      "    https://scikit-learn.org/stable/modules/linear_model.html#logistic-regression\n",
      "  n_iter_i = _check_optimize_result(\n"
     ]
    },
    {
     "name": "stdout",
     "output_type": "stream",
     "text": [
      "LR Training Accuracy:  0.94262\n",
      "LR Accuracy on test data - Z - In Dist:  0.9277\n",
      "LR Accuracy on test data - Z - OOD:  0.896\n",
      "\n",
      "\n",
      "\n",
      " Results for alpha value:  0.9\n"
     ]
    },
    {
     "name": "stderr",
     "output_type": "stream",
     "text": [
      "/software/anaconda3/envs/invariance_env/lib/python3.10/site-packages/sklearn/linear_model/_logistic.py:444: ConvergenceWarning: lbfgs failed to converge (status=1):\n",
      "STOP: TOTAL NO. of ITERATIONS REACHED LIMIT.\n",
      "\n",
      "Increase the number of iterations (max_iter) or scale the data as shown in:\n",
      "    https://scikit-learn.org/stable/modules/preprocessing.html\n",
      "Please also refer to the documentation for alternative solver options:\n",
      "    https://scikit-learn.org/stable/modules/linear_model.html#logistic-regression\n",
      "  n_iter_i = _check_optimize_result(\n"
     ]
    },
    {
     "name": "stdout",
     "output_type": "stream",
     "text": [
      "LR Training Accuracy:  0.95748\n",
      "LR Accuracy on test data - Z - In Dist:  0.9427\n",
      "LR Accuracy on test data - Z - OOD:  0.8434\n",
      "\n",
      "\n",
      "\n",
      " Results for alpha value:  0.95\n"
     ]
    },
    {
     "name": "stderr",
     "output_type": "stream",
     "text": [
      "/software/anaconda3/envs/invariance_env/lib/python3.10/site-packages/sklearn/linear_model/_logistic.py:444: ConvergenceWarning: lbfgs failed to converge (status=1):\n",
      "STOP: TOTAL NO. of ITERATIONS REACHED LIMIT.\n",
      "\n",
      "Increase the number of iterations (max_iter) or scale the data as shown in:\n",
      "    https://scikit-learn.org/stable/modules/preprocessing.html\n",
      "Please also refer to the documentation for alternative solver options:\n",
      "    https://scikit-learn.org/stable/modules/linear_model.html#logistic-regression\n",
      "  n_iter_i = _check_optimize_result(\n"
     ]
    },
    {
     "name": "stdout",
     "output_type": "stream",
     "text": [
      "LR Training Accuracy:  0.96422\n",
      "LR Accuracy on test data - Z - In Dist:  0.9488\n",
      "LR Accuracy on test data - Z - OOD:  0.7995\n",
      "\n",
      "\n",
      "\n",
      " Results for alpha value:  0.99\n"
     ]
    },
    {
     "name": "stderr",
     "output_type": "stream",
     "text": [
      "/software/anaconda3/envs/invariance_env/lib/python3.10/site-packages/sklearn/linear_model/_logistic.py:444: ConvergenceWarning: lbfgs failed to converge (status=1):\n",
      "STOP: TOTAL NO. of ITERATIONS REACHED LIMIT.\n",
      "\n",
      "Increase the number of iterations (max_iter) or scale the data as shown in:\n",
      "    https://scikit-learn.org/stable/modules/preprocessing.html\n",
      "Please also refer to the documentation for alternative solver options:\n",
      "    https://scikit-learn.org/stable/modules/linear_model.html#logistic-regression\n",
      "  n_iter_i = _check_optimize_result(\n"
     ]
    },
    {
     "name": "stdout",
     "output_type": "stream",
     "text": [
      "LR Training Accuracy:  0.97108\n",
      "LR Accuracy on test data - Z - In Dist:  0.9557\n",
      "LR Accuracy on test data - Z - OOD:  0.7333\n",
      "\n",
      "\n",
      "\n",
      " Results for alpha value:  1.0\n"
     ]
    },
    {
     "name": "stderr",
     "output_type": "stream",
     "text": [
      "/software/anaconda3/envs/invariance_env/lib/python3.10/site-packages/sklearn/linear_model/_logistic.py:444: ConvergenceWarning: lbfgs failed to converge (status=1):\n",
      "STOP: TOTAL NO. of ITERATIONS REACHED LIMIT.\n",
      "\n",
      "Increase the number of iterations (max_iter) or scale the data as shown in:\n",
      "    https://scikit-learn.org/stable/modules/preprocessing.html\n",
      "Please also refer to the documentation for alternative solver options:\n",
      "    https://scikit-learn.org/stable/modules/linear_model.html#logistic-regression\n",
      "  n_iter_i = _check_optimize_result(\n"
     ]
    },
    {
     "name": "stdout",
     "output_type": "stream",
     "text": [
      "LR Training Accuracy:  0.97534\n",
      "LR Accuracy on test data - Z - In Dist:  0.9605\n",
      "LR Accuracy on test data - Z - OOD:  0.6893\n",
      "\n",
      "\n",
      "\n",
      "\n",
      "\n",
      "\n",
      "\n",
      "\n",
      " Results for contrast factor:  0.9\n"
     ]
    },
    {
     "data": {
      "text/html": [
       "Finishing last run (ID:2v049tc7) before initializing another..."
      ],
      "text/plain": [
       "<IPython.core.display.HTML object>"
      ]
     },
     "metadata": {},
     "output_type": "display_data"
    },
    {
     "data": {
      "text/html": [
       "Waiting for W&B process to finish... <strong style=\"color:green\">(success).</strong>"
      ],
      "text/plain": [
       "<IPython.core.display.HTML object>"
      ]
     },
     "metadata": {},
     "output_type": "display_data"
    },
    {
     "data": {
      "text/html": [
       "Synced <strong style=\"color:#cdcd00\">dandy-plasma-45</strong>: <a href=\"https://wandb.ai/lilianngweta/accuracy-vs-dist-variations/runs/2v049tc7\" target=\"_blank\">https://wandb.ai/lilianngweta/accuracy-vs-dist-variations/runs/2v049tc7</a><br/>Synced 5 W&B file(s), 6 media file(s), 6 artifact file(s) and 0 other file(s)"
      ],
      "text/plain": [
       "<IPython.core.display.HTML object>"
      ]
     },
     "metadata": {},
     "output_type": "display_data"
    },
    {
     "data": {
      "text/html": [
       "Find logs at: <code>./wandb/run-20220902_145349-2v049tc7/logs</code>"
      ],
      "text/plain": [
       "<IPython.core.display.HTML object>"
      ]
     },
     "metadata": {},
     "output_type": "display_data"
    },
    {
     "data": {
      "text/html": [
       "Successfully finished last run (ID:2v049tc7). Initializing new run:<br/>"
      ],
      "text/plain": [
       "<IPython.core.display.HTML object>"
      ]
     },
     "metadata": {},
     "output_type": "display_data"
    },
    {
     "data": {
      "text/html": [
       "Tracking run with wandb version 0.13.2"
      ],
      "text/plain": [
       "<IPython.core.display.HTML object>"
      ]
     },
     "metadata": {},
     "output_type": "display_data"
    },
    {
     "data": {
      "text/html": [
       "Run data is saved locally in <code>/home/ngwetl/LILIAN_RESEARCH/causality-for-out-of-distribution-generalization-in-ml/causal-invariance/wandb/run-20220902_151053-10b1nc2c</code>"
      ],
      "text/plain": [
       "<IPython.core.display.HTML object>"
      ]
     },
     "metadata": {},
     "output_type": "display_data"
    },
    {
     "data": {
      "text/html": [
       "Syncing run <strong><a href=\"https://wandb.ai/lilianngweta/accuracy-vs-dist-variations/runs/10b1nc2c\" target=\"_blank\">stellar-monkey-46</a></strong> to <a href=\"https://wandb.ai/lilianngweta/accuracy-vs-dist-variations\" target=\"_blank\">Weights & Biases</a> (<a href=\"https://wandb.me/run\" target=\"_blank\">docs</a>)<br/>"
      ],
      "text/plain": [
       "<IPython.core.display.HTML object>"
      ]
     },
     "metadata": {},
     "output_type": "display_data"
    },
    {
     "name": "stdout",
     "output_type": "stream",
     "text": [
      " Results for alpha value:  0.5\n"
     ]
    },
    {
     "name": "stderr",
     "output_type": "stream",
     "text": [
      "/software/anaconda3/envs/invariance_env/lib/python3.10/site-packages/sklearn/linear_model/_logistic.py:444: ConvergenceWarning: lbfgs failed to converge (status=1):\n",
      "STOP: TOTAL NO. of ITERATIONS REACHED LIMIT.\n",
      "\n",
      "Increase the number of iterations (max_iter) or scale the data as shown in:\n",
      "    https://scikit-learn.org/stable/modules/preprocessing.html\n",
      "Please also refer to the documentation for alternative solver options:\n",
      "    https://scikit-learn.org/stable/modules/linear_model.html#logistic-regression\n",
      "  n_iter_i = _check_optimize_result(\n"
     ]
    },
    {
     "name": "stdout",
     "output_type": "stream",
     "text": [
      "LR Training Accuracy:  0.93926\n",
      "LR Accuracy on test data - Z - In Dist:  0.9228\n",
      "LR Accuracy on test data - Z - OOD:  0.9235\n",
      "\n",
      "\n",
      "\n",
      " Results for alpha value:  0.75\n"
     ]
    },
    {
     "name": "stderr",
     "output_type": "stream",
     "text": [
      "/software/anaconda3/envs/invariance_env/lib/python3.10/site-packages/sklearn/linear_model/_logistic.py:444: ConvergenceWarning: lbfgs failed to converge (status=1):\n",
      "STOP: TOTAL NO. of ITERATIONS REACHED LIMIT.\n",
      "\n",
      "Increase the number of iterations (max_iter) or scale the data as shown in:\n",
      "    https://scikit-learn.org/stable/modules/preprocessing.html\n",
      "Please also refer to the documentation for alternative solver options:\n",
      "    https://scikit-learn.org/stable/modules/linear_model.html#logistic-regression\n",
      "  n_iter_i = _check_optimize_result(\n"
     ]
    },
    {
     "name": "stdout",
     "output_type": "stream",
     "text": [
      "LR Training Accuracy:  0.94032\n",
      "LR Accuracy on test data - Z - In Dist:  0.9251\n",
      "LR Accuracy on test data - Z - OOD:  0.9179\n",
      "\n",
      "\n",
      "\n",
      " Results for alpha value:  0.9\n"
     ]
    },
    {
     "name": "stderr",
     "output_type": "stream",
     "text": [
      "/software/anaconda3/envs/invariance_env/lib/python3.10/site-packages/sklearn/linear_model/_logistic.py:444: ConvergenceWarning: lbfgs failed to converge (status=1):\n",
      "STOP: TOTAL NO. of ITERATIONS REACHED LIMIT.\n",
      "\n",
      "Increase the number of iterations (max_iter) or scale the data as shown in:\n",
      "    https://scikit-learn.org/stable/modules/preprocessing.html\n",
      "Please also refer to the documentation for alternative solver options:\n",
      "    https://scikit-learn.org/stable/modules/linear_model.html#logistic-regression\n",
      "  n_iter_i = _check_optimize_result(\n"
     ]
    },
    {
     "name": "stdout",
     "output_type": "stream",
     "text": [
      "LR Training Accuracy:  0.94364\n",
      "LR Accuracy on test data - Z - In Dist:  0.93\n",
      "LR Accuracy on test data - Z - OOD:  0.9128\n",
      "\n",
      "\n",
      "\n",
      " Results for alpha value:  0.95\n"
     ]
    },
    {
     "name": "stderr",
     "output_type": "stream",
     "text": [
      "/software/anaconda3/envs/invariance_env/lib/python3.10/site-packages/sklearn/linear_model/_logistic.py:444: ConvergenceWarning: lbfgs failed to converge (status=1):\n",
      "STOP: TOTAL NO. of ITERATIONS REACHED LIMIT.\n",
      "\n",
      "Increase the number of iterations (max_iter) or scale the data as shown in:\n",
      "    https://scikit-learn.org/stable/modules/preprocessing.html\n",
      "Please also refer to the documentation for alternative solver options:\n",
      "    https://scikit-learn.org/stable/modules/linear_model.html#logistic-regression\n",
      "  n_iter_i = _check_optimize_result(\n"
     ]
    },
    {
     "name": "stdout",
     "output_type": "stream",
     "text": [
      "LR Training Accuracy:  0.94514\n",
      "LR Accuracy on test data - Z - In Dist:  0.9302\n",
      "LR Accuracy on test data - Z - OOD:  0.9087\n",
      "\n",
      "\n",
      "\n",
      " Results for alpha value:  0.99\n"
     ]
    },
    {
     "name": "stderr",
     "output_type": "stream",
     "text": [
      "/software/anaconda3/envs/invariance_env/lib/python3.10/site-packages/sklearn/linear_model/_logistic.py:444: ConvergenceWarning: lbfgs failed to converge (status=1):\n",
      "STOP: TOTAL NO. of ITERATIONS REACHED LIMIT.\n",
      "\n",
      "Increase the number of iterations (max_iter) or scale the data as shown in:\n",
      "    https://scikit-learn.org/stable/modules/preprocessing.html\n",
      "Please also refer to the documentation for alternative solver options:\n",
      "    https://scikit-learn.org/stable/modules/linear_model.html#logistic-regression\n",
      "  n_iter_i = _check_optimize_result(\n"
     ]
    },
    {
     "name": "stdout",
     "output_type": "stream",
     "text": [
      "LR Training Accuracy:  0.94628\n",
      "LR Accuracy on test data - Z - In Dist:  0.9303\n",
      "LR Accuracy on test data - Z - OOD:  0.9051\n",
      "\n",
      "\n",
      "\n",
      " Results for alpha value:  1.0\n"
     ]
    },
    {
     "name": "stderr",
     "output_type": "stream",
     "text": [
      "/software/anaconda3/envs/invariance_env/lib/python3.10/site-packages/sklearn/linear_model/_logistic.py:444: ConvergenceWarning: lbfgs failed to converge (status=1):\n",
      "STOP: TOTAL NO. of ITERATIONS REACHED LIMIT.\n",
      "\n",
      "Increase the number of iterations (max_iter) or scale the data as shown in:\n",
      "    https://scikit-learn.org/stable/modules/preprocessing.html\n",
      "Please also refer to the documentation for alternative solver options:\n",
      "    https://scikit-learn.org/stable/modules/linear_model.html#logistic-regression\n",
      "  n_iter_i = _check_optimize_result(\n"
     ]
    },
    {
     "name": "stdout",
     "output_type": "stream",
     "text": [
      "LR Training Accuracy:  0.94572\n",
      "LR Accuracy on test data - Z - In Dist:  0.9318\n",
      "LR Accuracy on test data - Z - OOD:  0.9034\n",
      "\n",
      "\n",
      "\n",
      "\n",
      "\n",
      "\n",
      "\n",
      "\n",
      " Results for contrast factor:  2\n"
     ]
    },
    {
     "data": {
      "text/html": [
       "Finishing last run (ID:10b1nc2c) before initializing another..."
      ],
      "text/plain": [
       "<IPython.core.display.HTML object>"
      ]
     },
     "metadata": {},
     "output_type": "display_data"
    },
    {
     "data": {
      "text/html": [
       "Waiting for W&B process to finish... <strong style=\"color:green\">(success).</strong>"
      ],
      "text/plain": [
       "<IPython.core.display.HTML object>"
      ]
     },
     "metadata": {},
     "output_type": "display_data"
    },
    {
     "data": {
      "text/html": [
       "Synced <strong style=\"color:#cdcd00\">stellar-monkey-46</strong>: <a href=\"https://wandb.ai/lilianngweta/accuracy-vs-dist-variations/runs/10b1nc2c\" target=\"_blank\">https://wandb.ai/lilianngweta/accuracy-vs-dist-variations/runs/10b1nc2c</a><br/>Synced 5 W&B file(s), 6 media file(s), 6 artifact file(s) and 0 other file(s)"
      ],
      "text/plain": [
       "<IPython.core.display.HTML object>"
      ]
     },
     "metadata": {},
     "output_type": "display_data"
    },
    {
     "data": {
      "text/html": [
       "Find logs at: <code>./wandb/run-20220902_151053-10b1nc2c/logs</code>"
      ],
      "text/plain": [
       "<IPython.core.display.HTML object>"
      ]
     },
     "metadata": {},
     "output_type": "display_data"
    },
    {
     "data": {
      "text/html": [
       "Successfully finished last run (ID:10b1nc2c). Initializing new run:<br/>"
      ],
      "text/plain": [
       "<IPython.core.display.HTML object>"
      ]
     },
     "metadata": {},
     "output_type": "display_data"
    },
    {
     "data": {
      "text/html": [
       "Tracking run with wandb version 0.13.2"
      ],
      "text/plain": [
       "<IPython.core.display.HTML object>"
      ]
     },
     "metadata": {},
     "output_type": "display_data"
    },
    {
     "data": {
      "text/html": [
       "Run data is saved locally in <code>/home/ngwetl/LILIAN_RESEARCH/causality-for-out-of-distribution-generalization-in-ml/causal-invariance/wandb/run-20220902_152752-1in7wpoy</code>"
      ],
      "text/plain": [
       "<IPython.core.display.HTML object>"
      ]
     },
     "metadata": {},
     "output_type": "display_data"
    },
    {
     "data": {
      "text/html": [
       "Syncing run <strong><a href=\"https://wandb.ai/lilianngweta/accuracy-vs-dist-variations/runs/1in7wpoy\" target=\"_blank\">fast-pyramid-47</a></strong> to <a href=\"https://wandb.ai/lilianngweta/accuracy-vs-dist-variations\" target=\"_blank\">Weights & Biases</a> (<a href=\"https://wandb.me/run\" target=\"_blank\">docs</a>)<br/>"
      ],
      "text/plain": [
       "<IPython.core.display.HTML object>"
      ]
     },
     "metadata": {},
     "output_type": "display_data"
    },
    {
     "name": "stdout",
     "output_type": "stream",
     "text": [
      " Results for alpha value:  0.5\n"
     ]
    },
    {
     "name": "stderr",
     "output_type": "stream",
     "text": [
      "/software/anaconda3/envs/invariance_env/lib/python3.10/site-packages/sklearn/linear_model/_logistic.py:444: ConvergenceWarning: lbfgs failed to converge (status=1):\n",
      "STOP: TOTAL NO. of ITERATIONS REACHED LIMIT.\n",
      "\n",
      "Increase the number of iterations (max_iter) or scale the data as shown in:\n",
      "    https://scikit-learn.org/stable/modules/preprocessing.html\n",
      "Please also refer to the documentation for alternative solver options:\n",
      "    https://scikit-learn.org/stable/modules/linear_model.html#logistic-regression\n",
      "  n_iter_i = _check_optimize_result(\n"
     ]
    },
    {
     "name": "stdout",
     "output_type": "stream",
     "text": [
      "LR Training Accuracy:  0.92722\n",
      "LR Accuracy on test data - Z - In Dist:  0.9093\n",
      "LR Accuracy on test data - Z - OOD:  0.9082\n",
      "\n",
      "\n",
      "\n",
      " Results for alpha value:  0.75\n"
     ]
    },
    {
     "name": "stderr",
     "output_type": "stream",
     "text": [
      "/software/anaconda3/envs/invariance_env/lib/python3.10/site-packages/sklearn/linear_model/_logistic.py:444: ConvergenceWarning: lbfgs failed to converge (status=1):\n",
      "STOP: TOTAL NO. of ITERATIONS REACHED LIMIT.\n",
      "\n",
      "Increase the number of iterations (max_iter) or scale the data as shown in:\n",
      "    https://scikit-learn.org/stable/modules/preprocessing.html\n",
      "Please also refer to the documentation for alternative solver options:\n",
      "    https://scikit-learn.org/stable/modules/linear_model.html#logistic-regression\n",
      "  n_iter_i = _check_optimize_result(\n"
     ]
    },
    {
     "name": "stdout",
     "output_type": "stream",
     "text": [
      "LR Training Accuracy:  0.93708\n",
      "LR Accuracy on test data - Z - In Dist:  0.9247\n",
      "LR Accuracy on test data - Z - OOD:  0.8742\n",
      "\n",
      "\n",
      "\n",
      " Results for alpha value:  0.9\n"
     ]
    },
    {
     "name": "stderr",
     "output_type": "stream",
     "text": [
      "/software/anaconda3/envs/invariance_env/lib/python3.10/site-packages/sklearn/linear_model/_logistic.py:444: ConvergenceWarning: lbfgs failed to converge (status=1):\n",
      "STOP: TOTAL NO. of ITERATIONS REACHED LIMIT.\n",
      "\n",
      "Increase the number of iterations (max_iter) or scale the data as shown in:\n",
      "    https://scikit-learn.org/stable/modules/preprocessing.html\n",
      "Please also refer to the documentation for alternative solver options:\n",
      "    https://scikit-learn.org/stable/modules/linear_model.html#logistic-regression\n",
      "  n_iter_i = _check_optimize_result(\n"
     ]
    },
    {
     "name": "stdout",
     "output_type": "stream",
     "text": [
      "LR Training Accuracy:  0.95918\n",
      "LR Accuracy on test data - Z - In Dist:  0.9468\n",
      "LR Accuracy on test data - Z - OOD:  0.7788\n",
      "\n",
      "\n",
      "\n",
      " Results for alpha value:  0.95\n"
     ]
    },
    {
     "name": "stderr",
     "output_type": "stream",
     "text": [
      "/software/anaconda3/envs/invariance_env/lib/python3.10/site-packages/sklearn/linear_model/_logistic.py:444: ConvergenceWarning: lbfgs failed to converge (status=1):\n",
      "STOP: TOTAL NO. of ITERATIONS REACHED LIMIT.\n",
      "\n",
      "Increase the number of iterations (max_iter) or scale the data as shown in:\n",
      "    https://scikit-learn.org/stable/modules/preprocessing.html\n",
      "Please also refer to the documentation for alternative solver options:\n",
      "    https://scikit-learn.org/stable/modules/linear_model.html#logistic-regression\n",
      "  n_iter_i = _check_optimize_result(\n"
     ]
    },
    {
     "name": "stdout",
     "output_type": "stream",
     "text": [
      "LR Training Accuracy:  0.972\n",
      "LR Accuracy on test data - Z - In Dist:  0.9601\n",
      "LR Accuracy on test data - Z - OOD:  0.6924\n",
      "\n",
      "\n",
      "\n",
      " Results for alpha value:  0.99\n"
     ]
    },
    {
     "name": "stderr",
     "output_type": "stream",
     "text": [
      "/software/anaconda3/envs/invariance_env/lib/python3.10/site-packages/sklearn/linear_model/_logistic.py:444: ConvergenceWarning: lbfgs failed to converge (status=1):\n",
      "STOP: TOTAL NO. of ITERATIONS REACHED LIMIT.\n",
      "\n",
      "Increase the number of iterations (max_iter) or scale the data as shown in:\n",
      "    https://scikit-learn.org/stable/modules/preprocessing.html\n",
      "Please also refer to the documentation for alternative solver options:\n",
      "    https://scikit-learn.org/stable/modules/linear_model.html#logistic-regression\n",
      "  n_iter_i = _check_optimize_result(\n"
     ]
    },
    {
     "name": "stdout",
     "output_type": "stream",
     "text": [
      "LR Training Accuracy:  0.98818\n",
      "LR Accuracy on test data - Z - In Dist:  0.9789\n",
      "LR Accuracy on test data - Z - OOD:  0.509\n",
      "\n",
      "\n",
      "\n",
      " Results for alpha value:  1.0\n"
     ]
    },
    {
     "name": "stderr",
     "output_type": "stream",
     "text": [
      "/software/anaconda3/envs/invariance_env/lib/python3.10/site-packages/sklearn/linear_model/_logistic.py:444: ConvergenceWarning: lbfgs failed to converge (status=1):\n",
      "STOP: TOTAL NO. of ITERATIONS REACHED LIMIT.\n",
      "\n",
      "Increase the number of iterations (max_iter) or scale the data as shown in:\n",
      "    https://scikit-learn.org/stable/modules/preprocessing.html\n",
      "Please also refer to the documentation for alternative solver options:\n",
      "    https://scikit-learn.org/stable/modules/linear_model.html#logistic-regression\n",
      "  n_iter_i = _check_optimize_result(\n"
     ]
    },
    {
     "name": "stdout",
     "output_type": "stream",
     "text": [
      "LR Training Accuracy:  0.99256\n",
      "LR Accuracy on test data - Z - In Dist:  0.9839\n",
      "LR Accuracy on test data - Z - OOD:  0.3301\n",
      "\n",
      "\n",
      "\n",
      "\n",
      "\n",
      "\n",
      "\n",
      "\n"
     ]
    },
    {
     "data": {
      "text/html": [
       "Waiting for W&B process to finish... <strong style=\"color:green\">(success).</strong>"
      ],
      "text/plain": [
       "<IPython.core.display.HTML object>"
      ]
     },
     "metadata": {},
     "output_type": "display_data"
    },
    {
     "data": {
      "text/html": [
       "Synced <strong style=\"color:#cdcd00\">fast-pyramid-47</strong>: <a href=\"https://wandb.ai/lilianngweta/accuracy-vs-dist-variations/runs/1in7wpoy\" target=\"_blank\">https://wandb.ai/lilianngweta/accuracy-vs-dist-variations/runs/1in7wpoy</a><br/>Synced 5 W&B file(s), 6 media file(s), 6 artifact file(s) and 0 other file(s)"
      ],
      "text/plain": [
       "<IPython.core.display.HTML object>"
      ]
     },
     "metadata": {},
     "output_type": "display_data"
    },
    {
     "data": {
      "text/html": [
       "Find logs at: <code>./wandb/run-20220902_152752-1in7wpoy/logs</code>"
      ],
      "text/plain": [
       "<IPython.core.display.HTML object>"
      ]
     },
     "metadata": {},
     "output_type": "display_data"
    }
   ],
   "source": [
    "# contrast_factor: 0 gray - 1 original image - 2 increases the contrast by a factor of 2.\n",
    "# contrast_factor = 0.3\n",
    "angle = 70\n",
    "batch_size = 64\n",
    "\n",
    "rotation_angles = [15,30,45,60,75,90,105,120,135,150,165,180]\n",
    "contrast_factors = [0.1, 0.3,0.5,0.7,0.9,2]\n",
    "distributions = [0.5, 0.75, 0.90, 0.95, 0.99,1.0]\n",
    "\n",
    "import wandb\n",
    "\n",
    "wandb.login()\n",
    "\n",
    "\n",
    "for contrast_factor in contrast_factors:\n",
    "    print(\" Results for contrast factor: \", contrast_factor)\n",
    "\n",
    "    accuracy0_list = []\n",
    "    accuracy1_list = []\n",
    "    accuracy2_list = []\n",
    "\n",
    "    labels0 = []\n",
    "    labels1 = []\n",
    "    labels2 = []\n",
    "    \n",
    "    wandb.init(project=\"accuracy-vs-dist-variations\", entity=\"lilianngweta\")\n",
    "    \n",
    "    for dist_value in distributions:\n",
    "        print(\" Results for alpha value: \", dist_value)\n",
    "        # Creating sets of images in a way that correlates the way images are modified with label\n",
    "        train_imgs, train_labels2, train_mod_labels2 = correlate_label_with_img_modification(\n",
    "            train_dataset, contrast_factor, mod_percent= dist_value, binarize_label=True, mod_type=\"contrast\")\n",
    "\n",
    "        test_imgs_indist, test_labels2_indist, test_mod_labels2_indist = correlate_label_with_img_modification(\n",
    "            test_dataset, contrast_factor, mod_percent= dist_value, binarize_label=True, mod_type=\"contrast\")\n",
    "\n",
    "        test_imgs_ood, test_labels2_ood, test_mod_labels2_ood = correlate_label_with_img_modification(\n",
    "            test_dataset, contrast_factor, mod_percent= 1-dist_value, binarize_label=True, mod_type=\"contrast\")\n",
    "\n",
    "\n",
    "        # Extract image features\n",
    "        Z_train = get_features(train_imgs, batch_size)\n",
    "        Z_test_indist= get_features(test_imgs_indist, batch_size)\n",
    "        Z_test_ood= get_features(test_imgs_ood, batch_size)\n",
    "\n",
    "\n",
    "        # Classification and recording prediction accuracy\n",
    "        logistic_regression_model2 = LogisticRegression(\n",
    "            multi_class='multinomial', solver='lbfgs', random_state=0).fit(Z_train, \n",
    "                                                                           train_labels2)\n",
    "        accuracy0 = logistic_regression_model2.score(Z_train, train_labels2)\n",
    "        accuracy1 = logistic_regression_model2.score(Z_test_indist, test_labels2_indist)\n",
    "        accuracy2 = logistic_regression_model2.score(Z_test_ood, test_labels2_ood)\n",
    "        accuracy0_list.append(accuracy0)\n",
    "        accuracy1_list.append(accuracy1)\n",
    "        accuracy2_list.append(accuracy2)\n",
    "\n",
    "        labels0.append(\"Train Accuracy\")\n",
    "        labels1.append(\"In Dist Accuracy\")\n",
    "        labels2.append(\"OOD Accuracy\")\n",
    "\n",
    "        print('LR Training Accuracy: ', accuracy0)\n",
    "        print('LR Accuracy on test data - Z - In Dist: ', accuracy1)\n",
    "        print('LR Accuracy on test data - Z - OOD: ', accuracy2)\n",
    "        print(\"\\n\"*2)\n",
    "\n",
    "        # plotting Accuracy vs Data Distribution Variations Per Class (alpha)\n",
    "        wandb.log({\"Plots for Contrast Factor: \"+str(contrast_factor): wandb.plot.line_series(\n",
    "                               xs=distributions, \n",
    "                               ys=[accuracy0_list, accuracy1_list, accuracy2_list],\n",
    "                               keys=[\"Train Accuracy\", \"In Dist Accuracy\", \"OOD Accuracy\"],\n",
    "                               title=\"Contrast Factor: \"+str(contrast_factor),\n",
    "                               xname=\"Data Distribution Variations Per Class (alpha)\")})\n",
    "\n",
    "\n",
    "\n",
    "    print(\"\\n\"*4)    \n",
    "wandb.finish()\n"
   ]
  }
 ],
 "metadata": {
  "kernelspec": {
   "display_name": "Python [conda env:invariance_env]",
   "language": "python",
   "name": "conda-env-invariance_env-py"
  },
  "language_info": {
   "codemirror_mode": {
    "name": "ipython",
    "version": 3
   },
   "file_extension": ".py",
   "mimetype": "text/x-python",
   "name": "python",
   "nbconvert_exporter": "python",
   "pygments_lexer": "ipython3",
   "version": "3.10.4"
  }
 },
 "nbformat": 4,
 "nbformat_minor": 2
}

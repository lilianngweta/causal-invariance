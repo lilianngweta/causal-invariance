{
 "cells": [
  {
   "cell_type": "code",
   "execution_count": 1,
   "metadata": {},
   "outputs": [],
   "source": [
    "import torch\n",
    "import torchvision\n",
    "import torchvision.transforms as transforms\n",
    "from torch.utils.data import random_split, DataLoader\n",
    "import matplotlib.pyplot as plt\n",
    "from torchvision.utils import make_grid\n",
    "\n",
    "import numpy as np\n",
    "\n",
    "import matplotlib.pyplot as plt\n",
    "import torchvision.transforms as transforms\n",
    "import torchvision.transforms.functional as F\n",
    "from PIL import Image \n",
    "from scipy import ndimage, misc\n",
    "import matplotlib.pyplot as plt\n",
    "\n",
    "from image_feature_extractor import Img2Vec\n",
    "\n",
    "from sklearn.linear_model import LogisticRegression\n",
    "\n",
    "import torch\n",
    "from sklearn import preprocessing\n",
    "\n",
    "# import seaborn as sns\n",
    "\n",
    "from scipy.ndimage import gaussian_filter"
   ]
  },
  {
   "cell_type": "markdown",
   "metadata": {},
   "source": [
    "# Download CIFAR 10 data form torchvision"
   ]
  },
  {
   "cell_type": "code",
   "execution_count": 2,
   "metadata": {},
   "outputs": [
    {
     "name": "stdout",
     "output_type": "stream",
     "text": [
      "Files already downloaded and verified\n",
      "Files already downloaded and verified\n"
     ]
    }
   ],
   "source": [
    "\n",
    "train_dataset = torchvision.datasets.CIFAR10('~/datasets/cifar', train=True, download=True)\n",
    "test_dataset = torchvision.datasets.CIFAR10('~/datasets/cifar', train=False, download=True)\n"
   ]
  },
  {
   "cell_type": "markdown",
   "metadata": {},
   "source": [
    "# Useful functions"
   ]
  },
  {
   "cell_type": "code",
   "execution_count": 3,
   "metadata": {},
   "outputs": [],
   "source": [
    "def apply_contrast(images_data, contrast_factor):\n",
    "    to_tensor = transforms.ToTensor()   \n",
    "    images_list = [to_tensor(im) for im in images_data]\n",
    "    images = torch.stack(images_list)\n",
    "    contrasted_images = F.adjust_contrast(images, contrast_factor)\n",
    "    contrasted_images = np.array(np.stack([transforms.ToPILImage()(im) for im in contrasted_images]))\n",
    "    return contrasted_images\n",
    "\n",
    "def apply_rotation(images_data, angle=30):\n",
    "    rotated_images = []\n",
    "    for img in images_data:\n",
    "        rotated_image = ndimage.rotate(img, angle, reshape=False)\n",
    "        rotated_images.append(rotated_image)\n",
    "    rotated_images = np.array(rotated_images)\n",
    "    return rotated_images\n",
    "\n",
    "def blur_images(images_data, sigma=1):\n",
    "    blurred_images = []\n",
    "    for img in images_data:\n",
    "        blurred_image = gaussian_filter(img, sigma)\n",
    "        blurred_images.append(blurred_image)\n",
    "    blurred_images = np.array(blurred_images)\n",
    "    return blurred_images\n",
    "\n",
    "\n",
    "# Generate a list of original and duplicate modified images: every original image has a duplicate which is \n",
    "# the modified original image.\n",
    "def generate_list_of_original_and_its_duplicate_modified_images(image_set, mod_factor, mod_type=\"contrast\"):\n",
    "    original_labels = np.zeros(len(image_set.data))\n",
    "    modified_labels = np.ones(len(image_set.data))\n",
    "    \n",
    "    modified_images = None\n",
    "    \n",
    "    if mod_type==\"contrast\":\n",
    "        modified_images = apply_contrast(image_set.data, mod_factor) \n",
    "        \n",
    "    elif mod_type==\"rotation\":\n",
    "        modified_images = apply_rotation(image_set.data, mod_factor)\n",
    "    \n",
    "    elif mod_type==\"blur\":\n",
    "        modified_images = blur_images(image_set.data, mod_factor)\n",
    "\n",
    "    original_and_modified_images = np.concatenate((image_set.data, modified_images), axis=0)\n",
    "    modification_labels = np.concatenate((original_labels, modified_labels), axis=None)\n",
    "    image_labels = np.concatenate((image_set.targets, image_set.targets), axis=None)        \n",
    "    return modified_images, original_and_modified_images, modification_labels, image_labels\n",
    "\n",
    "\n",
    "\n",
    "# Generate a list of original and copies of its modified images combined: every original image has other \n",
    "# copies of itself on which different types of transformations/modifications have been applied. \n",
    "def generate_list_of_original_and_copies_of_its_modified_images(image_set, contrast_factor=0.3, angle=30, sigma=1):\n",
    "    original_labels = np.zeros(len(image_set.data))\n",
    "    modified_labels1 = np.ones(len(image_set.data))\n",
    "    modified_labels2 = np.array([2]*len(image_set.data))\n",
    "    modified_labels3 = np.array([3]*len(image_set.data))\n",
    "\n",
    "    modified_images1 = apply_contrast(image_set.data, contrast_factor) \n",
    "\n",
    "    modified_images2 = apply_rotation(image_set.data, angle)\n",
    "    \n",
    "    modified_images3 = blur_images(image_set.data, sigma)\n",
    "\n",
    "    original_and_modified_images = np.concatenate((image_set.data, modified_images1, modified_images2,modified_images3), axis=0)\n",
    "    modification_labels = np.concatenate((original_labels, modified_labels1, modified_labels2,modified_labels3), axis=None)\n",
    "    image_labels = np.concatenate((image_set.targets, image_set.targets, image_set.targets,image_set.targets), axis=None)        \n",
    "    return original_and_modified_images, modification_labels, image_labels\n",
    "\n",
    "\n",
    "\n",
    "\n",
    "# used to binarize the target variable\n",
    "def binarize(y):    \n",
    "    y = np.copy(y) > 5\n",
    "    return y.astype(int)\n",
    "\n",
    "def correlate_label_with_img_modification(image_dataset, mod_factor, mod_percent= 0.1, \n",
    "                                          binarize_label=True, mod_type=\"contrast\"):\n",
    "    y = binarize(image_dataset.targets)\n",
    "    mod_labels = np.logical_xor(y, np.random.binomial(1, mod_percent, size=len(y)))\n",
    "    \n",
    "    images_to_be_modified = image_dataset.data[mod_labels]\n",
    "    images_to_be_left_alone = image_dataset.data[~mod_labels]\n",
    "    \n",
    "    all_img_labels = None\n",
    "    \n",
    "    if binarize_label:\n",
    "        modified_imgs_labels = y[mod_labels]\n",
    "        unmodified_imgs_labels = y[~mod_labels]\n",
    "        all_img_labels = np.concatenate((modified_imgs_labels, unmodified_imgs_labels), axis=None)\n",
    "    else:\n",
    "        modified_imgs_labels = np.array(image_dataset.targets)[mod_labels]\n",
    "        unmodified_imgs_labels = np.array(image_dataset.targets)[~mod_labels]\n",
    "        all_img_labels = np.concatenate((modified_imgs_labels, unmodified_imgs_labels), axis=None)    \n",
    "    \n",
    "    all_images = None\n",
    "    \n",
    "    if mod_type == \"contrast\":\n",
    "        modified_images = apply_contrast(images_to_be_modified, mod_factor)\n",
    "        all_images = np.concatenate((modified_images, images_to_be_left_alone), axis=0)                    \n",
    "        \n",
    "    elif mod_type==\"rotation\":\n",
    "        modified_images = apply_rotation(images_to_be_modified, mod_factor)\n",
    "        all_images = np.concatenate((modified_images, images_to_be_left_alone), axis=0)\n",
    "        \n",
    "    return all_images, all_img_labels, mod_labels.astype(int)\n",
    "\n",
    "\n",
    "# Function to extract image features    \n",
    "def get_features(images, batch_size):\n",
    "    Z_list = []\n",
    "#     img2vec = Img2Vec(model=\"resnet50\")\n",
    "    img2vec = Img2Vec()\n",
    "    for first in range(0, len(images), batch_size):\n",
    "        images_subset = images[first:first+batch_size]\n",
    "        Z_subset = img2vec.get_vec(images_subset)\n",
    "        Z_list.append(Z_subset)\n",
    "    Z = np.vstack(Z_list)\n",
    "    return Z"
   ]
  },
  {
   "cell_type": "markdown",
   "metadata": {},
   "source": [
    "# Visualize Blurred Image. Change sigma value to increase or decrease blur strength"
   ]
  },
  {
   "cell_type": "code",
   "execution_count": 4,
   "metadata": {},
   "outputs": [
    {
     "data": {
      "image/png": "[encoded data removed]",
      "text/plain": [
       "<Figure size 432x288 with 2 Axes>"
      ]
     },
     "metadata": {
      "needs_background": "light"
     },
     "output_type": "display_data"
    }
   ],
   "source": [
    "fig = plt.figure()\n",
    "ax1 = fig.add_subplot(121)  \n",
    "ax1.set_title(\"Original\")\n",
    "ax2 = fig.add_subplot(122) \n",
    "ax2.set_title(\"Blurred\")\n",
    "img = test_dataset.data[0]\n",
    "blurred = gaussian_filter(img, sigma=1)\n",
    "ax1.imshow(img)\n",
    "ax2.imshow(blurred)\n",
    "plt.show()"
   ]
  },
  {
   "cell_type": "code",
   "execution_count": 5,
   "metadata": {},
   "outputs": [
    {
     "name": "stdout",
     "output_type": "stream",
     "text": [
      "(200000, 32, 32, 3)\n",
      "(50000, 32, 32, 3)\n"
     ]
    }
   ],
   "source": [
    "contrast_factor = 0.3\n",
    "angle = 15\n",
    "sigma = 1\n",
    "batch_size = 64\n",
    "dist_value = 1.0\n",
    "\n",
    "# Creating a set of images to be used to obtain L\n",
    "all_images, mod_labels, img_labels = generate_list_of_original_and_copies_of_its_modified_images(\n",
    "    train_dataset, contrast_factor, angle, sigma)\n",
    "\n",
    "\n",
    "# Creating sets of images in a way that correlates the way images are modified with label\n",
    "train_imgs, train_labels2, train_mod_labels2 = correlate_label_with_img_modification(\n",
    "    train_dataset, contrast_factor, mod_percent= dist_value, binarize_label=False, mod_type=\"contrast\")\n",
    "\n",
    "test_imgs_indist, test_labels2_indist, test_mod_labels2_indist = correlate_label_with_img_modification(\n",
    "    test_dataset, contrast_factor, mod_percent= dist_value, binarize_label=False, mod_type=\"contrast\")\n",
    "\n",
    "test_imgs_ood, test_labels2_ood, test_mod_labels2_ood = correlate_label_with_img_modification(\n",
    "    test_dataset, contrast_factor, mod_percent= 1-dist_value, binarize_label=False, mod_type=\"contrast\")\n",
    "\n",
    "# creating duplicates of contrasted and uncontrasted images\n",
    "t_contr_imgs, t_imgs, t_mod_labels, t_labels = generate_list_of_original_and_its_duplicate_modified_images(\n",
    "    test_dataset, contrast_factor,mod_type=\"contrast\")\n",
    "\n",
    "\n",
    "\n",
    "\n",
    "\n",
    "print(all_images.shape)\n",
    "print(train_imgs.shape)"
   ]
  },
  {
   "cell_type": "markdown",
   "metadata": {},
   "source": [
    "# Extract Image Features"
   ]
  },
  {
   "cell_type": "code",
   "execution_count": 6,
   "metadata": {},
   "outputs": [],
   "source": [
    "# mod_labels[mod_labels==3]\n",
    "\n",
    "# Extract image features\n",
    "Z = get_features(all_images, batch_size)\n",
    "Z_train = get_features(train_imgs, batch_size)\n",
    "Z_test_indist= get_features(test_imgs_indist, batch_size)\n",
    "Z_test_ood= get_features(test_imgs_ood, batch_size)\n",
    "\n",
    "Z_test_original = get_features(test_dataset.data, batch_size)\n",
    "Z_test_contrasted = get_features(t_contr_imgs, batch_size)\n",
    "Z_test_og_contrasted = get_features(t_imgs, batch_size)\n",
    "\n",
    "# mod_labels\n"
   ]
  },
  {
   "cell_type": "markdown",
   "metadata": {},
   "source": [
    "# Obtaining prediction coefficients and prediction accuracy of transformations done on images"
   ]
  },
  {
   "cell_type": "code",
   "execution_count": 7,
   "metadata": {},
   "outputs": [
    {
     "name": "stderr",
     "output_type": "stream",
     "text": [
      "/software/anaconda3/envs/invariance_env/lib/python3.10/site-packages/sklearn/linear_model/_logistic.py:444: ConvergenceWarning: lbfgs failed to converge (status=1):\n",
      "STOP: TOTAL NO. of ITERATIONS REACHED LIMIT.\n",
      "\n",
      "Increase the number of iterations (max_iter) or scale the data as shown in:\n",
      "    https://scikit-learn.org/stable/modules/preprocessing.html\n",
      "Please also refer to the documentation for alternative solver options:\n",
      "    https://scikit-learn.org/stable/modules/linear_model.html#logistic-regression\n",
      "  n_iter_i = _check_optimize_result(\n",
      "/software/anaconda3/envs/invariance_env/lib/python3.10/site-packages/sklearn/linear_model/_logistic.py:444: ConvergenceWarning: lbfgs failed to converge (status=1):\n",
      "STOP: TOTAL NO. of ITERATIONS REACHED LIMIT.\n",
      "\n",
      "Increase the number of iterations (max_iter) or scale the data as shown in:\n",
      "    https://scikit-learn.org/stable/modules/preprocessing.html\n",
      "Please also refer to the documentation for alternative solver options:\n",
      "    https://scikit-learn.org/stable/modules/linear_model.html#logistic-regression\n",
      "  n_iter_i = _check_optimize_result(\n"
     ]
    },
    {
     "name": "stdout",
     "output_type": "stream",
     "text": [
      "Contrast coefficients shape\n",
      "(512, 1)\n",
      "Train Contrast prediction accuracy:  0.9944\n",
      "Test Contrast prediction accuracy:  0.9923\n",
      "Train rotation prediction accuracy:  0.99844\n"
     ]
    }
   ],
   "source": [
    "# Using sklearn Logistic Regression\n",
    "from sklearn.linear_model import LogisticRegression\n",
    "\n",
    "# not_1_and_2 = (mod_labels !=1) & (mod_labels !=2) # 0 (original) and 3 (blurred)\n",
    "not_1_and_3 = (mod_labels !=1) & (mod_labels !=3) # 0 (original) and 2 (rotated)\n",
    "not_2_and_3 = (mod_labels !=2) & (mod_labels !=3) # 0 (original) and 1 (contrasted)\n",
    "\n",
    "# Z_og_blurred = Z[not_1_and_2]\n",
    "# blur_labels = mod_labels[not_1_and_2]\n",
    "\n",
    "Z_og_rotated = Z[not_1_and_3]\n",
    "rotation_labels = mod_labels[not_1_and_3]\n",
    "\n",
    "Z_og_contrasted = Z[not_2_and_3]\n",
    "contrast_labels =  mod_labels[not_2_and_3]\n",
    "\n",
    "\n",
    "\n",
    "lr_model_contrast = LogisticRegression(random_state=0).fit(Z_og_contrasted, contrast_labels)\n",
    "contrast_coefficients = lr_model_contrast.coef_.reshape(-1,1)\n",
    "theta_1 = contrast_coefficients / np.linalg.norm(contrast_coefficients)\n",
    "\n",
    "theta_1_theta_1_T = theta_1 @ theta_1.T\n",
    "d = theta_1_theta_1_T.shape[0]\n",
    "I = np.identity(d)\n",
    "I_minus_theta_1_theta_1_T = I-theta_1_theta_1_T\n",
    "\n",
    "\n",
    "lr_model_rotation = LogisticRegression(random_state=0).fit((Z_og_rotated @ I_minus_theta_1_theta_1_T), \n",
    "                                                           rotation_labels)\n",
    "rotation_coefficients = lr_model_rotation.coef_.reshape(-1,1)\n",
    "theta_2 = rotation_coefficients / np.linalg.norm(rotation_coefficients)\n",
    "\n",
    "theta_2_theta_2_T = theta_2 @ theta_2.T\n",
    "\n",
    "I_minus_theta_1_theta_1_T_minus_theta_2_theta_2_T = I_minus_theta_1_theta_1_T - theta_2_theta_2_T\n",
    "\n",
    "# lr_model_blur = LogisticRegression(random_state=0).fit(Z_og_blurred @ \n",
    "#                                                        I_minus_theta_1_theta_1_T_minus_theta_2_theta_2_T, \n",
    "#                                                        blur_labels)\n",
    "# blur_coefficients = lr_model_blur.coef_.reshape(-1,1)\n",
    "# theta_3 = blur_coefficients / np.linalg.norm(blur_coefficients)\n",
    "\n",
    "\n",
    "\n",
    "print(\"Contrast coefficients shape\")\n",
    "print(theta_1.shape)\n",
    "\n",
    "print('Train Contrast prediction accuracy: ', lr_model_contrast.score(Z_og_contrasted, contrast_labels))\n",
    "print('Test Contrast prediction accuracy: ', lr_model_contrast.score(Z_test_og_contrasted, t_mod_labels))\n",
    "print('Train rotation prediction accuracy: ', lr_model_rotation.score(Z_og_rotated, rotation_labels))\n",
    "# print('Train blur prediction accuracy: ', lr_model_blur.score(Z_og_blurred, blur_labels))\n",
    "\n"
   ]
  },
  {
   "cell_type": "markdown",
   "metadata": {},
   "source": [
    "# Prediction Accuracies on extracted image features Z ( features obtained from the feature extractor)"
   ]
  },
  {
   "cell_type": "code",
   "execution_count": 8,
   "metadata": {
    "scrolled": false
   },
   "outputs": [
    {
     "name": "stderr",
     "output_type": "stream",
     "text": [
      "/software/anaconda3/envs/invariance_env/lib/python3.10/site-packages/sklearn/linear_model/_logistic.py:444: ConvergenceWarning: lbfgs failed to converge (status=1):\n",
      "STOP: TOTAL NO. of ITERATIONS REACHED LIMIT.\n",
      "\n",
      "Increase the number of iterations (max_iter) or scale the data as shown in:\n",
      "    https://scikit-learn.org/stable/modules/preprocessing.html\n",
      "Please also refer to the documentation for alternative solver options:\n",
      "    https://scikit-learn.org/stable/modules/linear_model.html#logistic-regression\n",
      "  n_iter_i = _check_optimize_result(\n"
     ]
    },
    {
     "name": "stdout",
     "output_type": "stream",
     "text": [
      "LR Training Accuracy:  0.91304\n",
      "LR Accuracy on test data - Z - In Dist:  0.8953\n",
      "LR Accuracy on test data - Z - OOD:  0.1445\n"
     ]
    }
   ],
   "source": [
    "# Classification and recording prediction accuracy\n",
    "logistic_regression_model2 = LogisticRegression(\n",
    "    multi_class='multinomial', solver='lbfgs', random_state=0).fit(Z_train, \n",
    "                                                                   train_labels2)\n",
    "accuracy0 = logistic_regression_model2.score(Z_train, train_labels2)\n",
    "accuracy1 = logistic_regression_model2.score(Z_test_indist, test_labels2_indist)\n",
    "accuracy2 = logistic_regression_model2.score(Z_test_ood, test_labels2_ood)\n",
    "print('LR Training Accuracy: ', accuracy0)\n",
    "print('LR Accuracy on test data - Z - In Dist: ', accuracy1)\n",
    "print('LR Accuracy on test data - Z - OOD: ', accuracy2)\n"
   ]
  },
  {
   "cell_type": "markdown",
   "metadata": {},
   "source": [
    "# Find L, get F features, plot histograms and perform predictions"
   ]
  },
  {
   "cell_type": "code",
   "execution_count": 9,
   "metadata": {
    "scrolled": false
   },
   "outputs": [
    {
     "name": "stdout",
     "output_type": "stream",
     "text": [
      "Results for lamda  0.001\n",
      "\n"
     ]
    },
    {
     "name": "stderr",
     "output_type": "stream",
     "text": [
      "/software/anaconda3/envs/invariance_env/lib/python3.10/site-packages/sklearn/linear_model/_logistic.py:444: ConvergenceWarning: lbfgs failed to converge (status=1):\n",
      "STOP: TOTAL NO. of ITERATIONS REACHED LIMIT.\n",
      "\n",
      "Increase the number of iterations (max_iter) or scale the data as shown in:\n",
      "    https://scikit-learn.org/stable/modules/preprocessing.html\n",
      "Please also refer to the documentation for alternative solver options:\n",
      "    https://scikit-learn.org/stable/modules/linear_model.html#logistic-regression\n",
      "  n_iter_i = _check_optimize_result(\n"
     ]
    },
    {
     "name": "stdout",
     "output_type": "stream",
     "text": [
      "LR Training Accuracy - F:  0.90558\n",
      "LR Accuracy on test data - F - In Dist:  0.8901\n",
      "LR Accuracy on test data - F - OOD:  0.1506\n",
      "\n",
      "\n",
      "\n",
      "Accuracy for without F feature  0\n"
     ]
    },
    {
     "name": "stderr",
     "output_type": "stream",
     "text": [
      "/software/anaconda3/envs/invariance_env/lib/python3.10/site-packages/sklearn/linear_model/_logistic.py:444: ConvergenceWarning: lbfgs failed to converge (status=1):\n",
      "STOP: TOTAL NO. of ITERATIONS REACHED LIMIT.\n",
      "\n",
      "Increase the number of iterations (max_iter) or scale the data as shown in:\n",
      "    https://scikit-learn.org/stable/modules/preprocessing.html\n",
      "Please also refer to the documentation for alternative solver options:\n",
      "    https://scikit-learn.org/stable/modules/linear_model.html#logistic-regression\n",
      "  n_iter_i = _check_optimize_result(\n"
     ]
    },
    {
     "name": "stdout",
     "output_type": "stream",
     "text": [
      "LR Training Accuracy - F:  0.90346\n",
      "LR Accuracy on test data - F - In Dist:  0.8893\n",
      "LR Accuracy on test data - F - OOD:  0.1848\n",
      "\n",
      "\n",
      "\n",
      "\n",
      "\n",
      "\n",
      "\n",
      "\n",
      "\n",
      "Results for lamda  0.01\n",
      "\n"
     ]
    },
    {
     "name": "stderr",
     "output_type": "stream",
     "text": [
      "/software/anaconda3/envs/invariance_env/lib/python3.10/site-packages/sklearn/linear_model/_logistic.py:444: ConvergenceWarning: lbfgs failed to converge (status=1):\n",
      "STOP: TOTAL NO. of ITERATIONS REACHED LIMIT.\n",
      "\n",
      "Increase the number of iterations (max_iter) or scale the data as shown in:\n",
      "    https://scikit-learn.org/stable/modules/preprocessing.html\n",
      "Please also refer to the documentation for alternative solver options:\n",
      "    https://scikit-learn.org/stable/modules/linear_model.html#logistic-regression\n",
      "  n_iter_i = _check_optimize_result(\n"
     ]
    },
    {
     "name": "stdout",
     "output_type": "stream",
     "text": [
      "LR Training Accuracy - F:  0.90454\n",
      "LR Accuracy on test data - F - In Dist:  0.8903\n",
      "LR Accuracy on test data - F - OOD:  0.1448\n",
      "\n",
      "\n",
      "\n",
      "Accuracy for without F feature  0\n"
     ]
    },
    {
     "name": "stderr",
     "output_type": "stream",
     "text": [
      "/software/anaconda3/envs/invariance_env/lib/python3.10/site-packages/sklearn/linear_model/_logistic.py:444: ConvergenceWarning: lbfgs failed to converge (status=1):\n",
      "STOP: TOTAL NO. of ITERATIONS REACHED LIMIT.\n",
      "\n",
      "Increase the number of iterations (max_iter) or scale the data as shown in:\n",
      "    https://scikit-learn.org/stable/modules/preprocessing.html\n",
      "Please also refer to the documentation for alternative solver options:\n",
      "    https://scikit-learn.org/stable/modules/linear_model.html#logistic-regression\n",
      "  n_iter_i = _check_optimize_result(\n"
     ]
    },
    {
     "name": "stdout",
     "output_type": "stream",
     "text": [
      "LR Training Accuracy - F:  0.90296\n",
      "LR Accuracy on test data - F - In Dist:  0.8897\n",
      "LR Accuracy on test data - F - OOD:  0.1895\n",
      "\n",
      "\n",
      "\n",
      "\n",
      "\n",
      "\n",
      "\n",
      "\n",
      "\n",
      "Results for lamda  10\n",
      "\n"
     ]
    },
    {
     "name": "stderr",
     "output_type": "stream",
     "text": [
      "/software/anaconda3/envs/invariance_env/lib/python3.10/site-packages/sklearn/linear_model/_logistic.py:444: ConvergenceWarning: lbfgs failed to converge (status=1):\n",
      "STOP: TOTAL NO. of ITERATIONS REACHED LIMIT.\n",
      "\n",
      "Increase the number of iterations (max_iter) or scale the data as shown in:\n",
      "    https://scikit-learn.org/stable/modules/preprocessing.html\n",
      "Please also refer to the documentation for alternative solver options:\n",
      "    https://scikit-learn.org/stable/modules/linear_model.html#logistic-regression\n",
      "  n_iter_i = _check_optimize_result(\n"
     ]
    },
    {
     "name": "stdout",
     "output_type": "stream",
     "text": [
      "LR Training Accuracy - F:  0.87904\n",
      "LR Accuracy on test data - F - In Dist:  0.8674\n",
      "LR Accuracy on test data - F - OOD:  0.0724\n",
      "\n",
      "\n",
      "\n",
      "Accuracy for without F feature  0\n"
     ]
    },
    {
     "name": "stderr",
     "output_type": "stream",
     "text": [
      "/software/anaconda3/envs/invariance_env/lib/python3.10/site-packages/sklearn/linear_model/_logistic.py:444: ConvergenceWarning: lbfgs failed to converge (status=1):\n",
      "STOP: TOTAL NO. of ITERATIONS REACHED LIMIT.\n",
      "\n",
      "Increase the number of iterations (max_iter) or scale the data as shown in:\n",
      "    https://scikit-learn.org/stable/modules/preprocessing.html\n",
      "Please also refer to the documentation for alternative solver options:\n",
      "    https://scikit-learn.org/stable/modules/linear_model.html#logistic-regression\n",
      "  n_iter_i = _check_optimize_result(\n"
     ]
    },
    {
     "name": "stdout",
     "output_type": "stream",
     "text": [
      "LR Training Accuracy - F:  0.87488\n",
      "LR Accuracy on test data - F - In Dist:  0.8627\n",
      "LR Accuracy on test data - F - OOD:  0.1441\n",
      "\n",
      "\n",
      "\n",
      "\n",
      "\n",
      "\n",
      "\n",
      "\n",
      "\n",
      "Results for lamda  100\n",
      "\n"
     ]
    },
    {
     "name": "stderr",
     "output_type": "stream",
     "text": [
      "/software/anaconda3/envs/invariance_env/lib/python3.10/site-packages/sklearn/linear_model/_logistic.py:444: ConvergenceWarning: lbfgs failed to converge (status=1):\n",
      "STOP: TOTAL NO. of ITERATIONS REACHED LIMIT.\n",
      "\n",
      "Increase the number of iterations (max_iter) or scale the data as shown in:\n",
      "    https://scikit-learn.org/stable/modules/preprocessing.html\n",
      "Please also refer to the documentation for alternative solver options:\n",
      "    https://scikit-learn.org/stable/modules/linear_model.html#logistic-regression\n",
      "  n_iter_i = _check_optimize_result(\n"
     ]
    },
    {
     "name": "stdout",
     "output_type": "stream",
     "text": [
      "LR Training Accuracy - F:  0.85578\n",
      "LR Accuracy on test data - F - In Dist:  0.8382\n",
      "LR Accuracy on test data - F - OOD:  0.0231\n",
      "\n",
      "\n",
      "\n",
      "Accuracy for without F feature  0\n"
     ]
    },
    {
     "name": "stderr",
     "output_type": "stream",
     "text": [
      "/software/anaconda3/envs/invariance_env/lib/python3.10/site-packages/sklearn/linear_model/_logistic.py:444: ConvergenceWarning: lbfgs failed to converge (status=1):\n",
      "STOP: TOTAL NO. of ITERATIONS REACHED LIMIT.\n",
      "\n",
      "Increase the number of iterations (max_iter) or scale the data as shown in:\n",
      "    https://scikit-learn.org/stable/modules/preprocessing.html\n",
      "Please also refer to the documentation for alternative solver options:\n",
      "    https://scikit-learn.org/stable/modules/linear_model.html#logistic-regression\n",
      "  n_iter_i = _check_optimize_result(\n"
     ]
    },
    {
     "name": "stdout",
     "output_type": "stream",
     "text": [
      "LR Training Accuracy - F:  0.84226\n",
      "LR Accuracy on test data - F - In Dist:  0.8257\n",
      "LR Accuracy on test data - F - OOD:  0.1619\n",
      "\n",
      "\n",
      "\n",
      "\n",
      "\n",
      "\n",
      "\n",
      "\n",
      "\n",
      "Results for lamda  100000\n",
      "\n"
     ]
    },
    {
     "name": "stderr",
     "output_type": "stream",
     "text": [
      "/software/anaconda3/envs/invariance_env/lib/python3.10/site-packages/sklearn/linear_model/_logistic.py:444: ConvergenceWarning: lbfgs failed to converge (status=1):\n",
      "STOP: TOTAL NO. of ITERATIONS REACHED LIMIT.\n",
      "\n",
      "Increase the number of iterations (max_iter) or scale the data as shown in:\n",
      "    https://scikit-learn.org/stable/modules/preprocessing.html\n",
      "Please also refer to the documentation for alternative solver options:\n",
      "    https://scikit-learn.org/stable/modules/linear_model.html#logistic-regression\n",
      "  n_iter_i = _check_optimize_result(\n"
     ]
    },
    {
     "name": "stdout",
     "output_type": "stream",
     "text": [
      "LR Training Accuracy - F:  0.84902\n",
      "LR Accuracy on test data - F - In Dist:  0.8287\n",
      "LR Accuracy on test data - F - OOD:  0.0252\n",
      "\n",
      "\n",
      "\n",
      "Accuracy for without F feature  0\n"
     ]
    },
    {
     "name": "stderr",
     "output_type": "stream",
     "text": [
      "/software/anaconda3/envs/invariance_env/lib/python3.10/site-packages/sklearn/linear_model/_logistic.py:444: ConvergenceWarning: lbfgs failed to converge (status=1):\n",
      "STOP: TOTAL NO. of ITERATIONS REACHED LIMIT.\n",
      "\n",
      "Increase the number of iterations (max_iter) or scale the data as shown in:\n",
      "    https://scikit-learn.org/stable/modules/preprocessing.html\n",
      "Please also refer to the documentation for alternative solver options:\n",
      "    https://scikit-learn.org/stable/modules/linear_model.html#logistic-regression\n",
      "  n_iter_i = _check_optimize_result(\n"
     ]
    },
    {
     "name": "stdout",
     "output_type": "stream",
     "text": [
      "LR Training Accuracy - F:  0.82852\n",
      "LR Accuracy on test data - F - In Dist:  0.8118\n",
      "LR Accuracy on test data - F - OOD:  0.1978\n",
      "\n",
      "\n",
      "\n",
      "\n",
      "\n",
      "\n",
      "\n",
      "\n",
      "\n",
      "Results for lamda  1000000\n",
      "\n"
     ]
    },
    {
     "name": "stderr",
     "output_type": "stream",
     "text": [
      "/software/anaconda3/envs/invariance_env/lib/python3.10/site-packages/sklearn/linear_model/_logistic.py:444: ConvergenceWarning: lbfgs failed to converge (status=1):\n",
      "STOP: TOTAL NO. of ITERATIONS REACHED LIMIT.\n",
      "\n",
      "Increase the number of iterations (max_iter) or scale the data as shown in:\n",
      "    https://scikit-learn.org/stable/modules/preprocessing.html\n",
      "Please also refer to the documentation for alternative solver options:\n",
      "    https://scikit-learn.org/stable/modules/linear_model.html#logistic-regression\n",
      "  n_iter_i = _check_optimize_result(\n"
     ]
    },
    {
     "name": "stdout",
     "output_type": "stream",
     "text": [
      "LR Training Accuracy - F:  0.8487\n",
      "LR Accuracy on test data - F - In Dist:  0.8281\n",
      "LR Accuracy on test data - F - OOD:  0.0247\n",
      "\n",
      "\n",
      "\n",
      "Accuracy for without F feature  0\n",
      "LR Training Accuracy - F:  0.8284\n",
      "LR Accuracy on test data - F - In Dist:  0.8117\n",
      "LR Accuracy on test data - F - OOD:  0.198\n",
      "\n",
      "\n",
      "\n",
      "\n",
      "\n",
      "\n",
      "\n",
      "\n",
      "\n"
     ]
    },
    {
     "name": "stderr",
     "output_type": "stream",
     "text": [
      "/software/anaconda3/envs/invariance_env/lib/python3.10/site-packages/sklearn/linear_model/_logistic.py:444: ConvergenceWarning: lbfgs failed to converge (status=1):\n",
      "STOP: TOTAL NO. of ITERATIONS REACHED LIMIT.\n",
      "\n",
      "Increase the number of iterations (max_iter) or scale the data as shown in:\n",
      "    https://scikit-learn.org/stable/modules/preprocessing.html\n",
      "Please also refer to the documentation for alternative solver options:\n",
      "    https://scikit-learn.org/stable/modules/linear_model.html#logistic-regression\n",
      "  n_iter_i = _check_optimize_result(\n"
     ]
    }
   ],
   "source": [
    "import pandas as pd\n",
    "from scipy import stats\n",
    "# Computing M\n",
    "lamdas = [0.001,0.01,10,100,100000,1000000]\n",
    "\n",
    "for lamda in lamdas:\n",
    "    print(\"Results for lamda \", lamda)\n",
    "    print()\n",
    "    k = int(Z.shape[1]*0.5) # % of original number of features\n",
    "    n = Z.shape[0]\n",
    "    \n",
    "    delta_Z_matrix1 = np.absolute((Z_og_contrasted[:int(len(Z_og_contrasted)/2),:] - Z_og_contrasted[int(len(Z_og_contrasted)/2):,:]))\n",
    "    delta_Z_matrix2 = np.absolute((Z_og_rotated[:int(len(Z_og_rotated)/2),:] - Z_og_rotated[int(len(Z_og_rotated)/2):,:]))\n",
    "#     delta_Z_matrix3 = np.absolute((Z_og_blurred[:int(len(Z_og_blurred)/2),:] - Z_og_blurred[int(len(Z_og_blurred)/2):,:]))\n",
    "    \n",
    "    deltas_sum = lamda * delta_Z_matrix1.T @ delta_Z_matrix1 / (\n",
    "        n // 2 ) + lamda * delta_Z_matrix2.T @ delta_Z_matrix2 / (\n",
    "        n // 2 ) #+ lamda * delta_Z_matrix3.T @ delta_Z_matrix3 / (n // 2 ) \n",
    "    M = - Z.T @ Z/n + deltas_sum\n",
    "\n",
    "    # Computing the term on which we perform SVD\n",
    "    theta_1_theta_1_T = theta_1 @ theta_1.T\n",
    "    theta_2_theta_2_T = theta_2 @ theta_2.T\n",
    "#     theta_3_theta_3_T = theta_3 @ theta_3.T\n",
    "    d = theta_1_theta_1_T.shape[0]\n",
    "    I = np.identity(d)\n",
    "    I_minus_theta_theta_Ts_sum = I-theta_1_theta_1_T-theta_2_theta_2_T #-theta_3_theta_3_T\n",
    "    term_for_SVD = (I_minus_theta_theta_Ts_sum @ M) @ I_minus_theta_theta_Ts_sum\n",
    "\n",
    "\n",
    "    # Performing SVD to get eigenvectors and eigenvalues\n",
    "    from numpy import linalg as LA\n",
    "    eigenvalues, eigenvectors = LA.eigh(term_for_SVD)\n",
    "\n",
    "    # Forming L from eigenvectors and coeficients of transformations \n",
    "    L_1 = theta_1\n",
    "    L_2 = theta_2\n",
    "#     L_3 = theta_3\n",
    "    least_k_eigen_values = eigenvalues[:k]\n",
    "    least_k_eigen_values[np.absolute(least_k_eigen_values)<0.000001]=0\n",
    "\n",
    "    non_zero_indeces = None\n",
    "    if 0 in least_k_eigen_values:\n",
    "        non_zero_indeces = np.nonzero(least_k_eigen_values)[0]\n",
    "        least_k_eigen_values_without_0 = least_k_eigen_values[non_zero_indeces]\n",
    "\n",
    "    else:\n",
    "        non_zero_indeces = np.nonzero(least_k_eigen_values[:k-2])[0]\n",
    "        least_k_eigen_values_without_0 = least_k_eigen_values[:k-2]\n",
    "\n",
    "    L_3 = eigenvectors[:,non_zero_indeces]\n",
    "\n",
    "    L = np.concatenate((L_1,L_2,L_3), axis=1)\n",
    "\n",
    "   \n",
    "    # Obtaining F_test values from extracted image features using numpy's linalg.lstsq function.\n",
    "    F_train = torch.from_numpy(np.linalg.lstsq(L, Z_train.transpose(), rcond=None)[0].transpose())\n",
    "    F_test_indist = torch.from_numpy(np.linalg.lstsq(L, Z_test_indist.transpose(), rcond=None)[0].transpose())\n",
    "    F_test_ood = torch.from_numpy(np.linalg.lstsq(L, Z_test_ood.transpose(), rcond=None)[0].transpose())\n",
    "    F_test_original = torch.from_numpy(np.linalg.lstsq(L, Z_test_original.transpose(), rcond=None)[0].transpose())\n",
    "    F_test_contrasted = torch.from_numpy(np.linalg.lstsq(L, Z_test_contrasted.transpose(), rcond=None)[0].transpose())\n",
    "    \n",
    "\n",
    "    # Plot histograms\n",
    "\n",
    "    # the difference between F_test_green and F_test_red\n",
    "    delta_matrix = np.absolute(F_test_original.detach().numpy() - F_test_contrasted.detach().numpy())\n",
    "    delta_matrix_df = pd.DataFrame(delta_matrix)\n",
    "\n",
    "#     # Plotting the histograms for each feature in the delta matrix # 100 bins\n",
    "#     for i in range(10): #(len(delta_matrix_df.columns)): \n",
    "#         print(\"Histogram for F Test feature \", i)    \n",
    "#         feature = delta_matrix_df.iloc[:,i].values\n",
    "#         density = stats.gaussian_kde(feature)\n",
    "#         n, x, _ = plt.hist(feature, bins=np.linspace(0, np.amax(delta_matrix_df.iloc[:,0]), 100), \n",
    "#                            histtype='bar', density=True)  \n",
    "#         plt.plot(x, density(x))\n",
    "#         plt.show()\n",
    "    \n",
    "    \n",
    "    # Classification task using F features    \n",
    "    lr_model1 = LogisticRegression(multi_class='multinomial', solver='lbfgs', random_state=0).fit(F_train,train_labels2)\n",
    "    accuracy0 = lr_model1.score(F_train, train_labels2)\n",
    "    accuracy1 = lr_model1.score(F_test_indist, test_labels2_indist)\n",
    "    accuracy2 = lr_model1.score(F_test_ood, test_labels2_ood)\n",
    "    print('LR Training Accuracy - F: ', accuracy0)\n",
    "    print('LR Accuracy on test data - F - In Dist: ', accuracy1)\n",
    "    print('LR Accuracy on test data - F - OOD: ', accuracy2)\n",
    "    print(\"\\n\"*2)\n",
    "\n",
    "    # Removing one feature at a time\n",
    "    for i in range(5): #(F_test_original.detach().numpy().shape[1]):\n",
    "        print(\"Accuracy for without F feature \",i)\n",
    "\n",
    "        X_train = F_train.detach().numpy().copy()\n",
    "        X_test_indist = F_test_indist.detach().numpy().copy()\n",
    "        X_test_ood = F_test_ood.detach().numpy().copy()\n",
    "\n",
    "#         X_train = np.delete(X_train, i, 1)\n",
    "#         X_test_indist = np.delete(X_test_indist, i, 1)\n",
    "#         X_test_ood = np.delete(X_test_ood, i, 1)\n",
    "\n",
    "        X_train = np.delete(X_train, 0, 1)\n",
    "        X_test_indist = np.delete(X_test_indist, 0, 1)\n",
    "        X_test_ood = np.delete(X_test_ood, 0, 1)\n",
    "        \n",
    "        X_train = np.delete(X_train, 0, 1)\n",
    "        X_test_indist = np.delete(X_test_indist, 0, 1)\n",
    "        X_test_ood = np.delete(X_test_ood, 0, 1)\n",
    "       \n",
    "\n",
    "        lr_model2 = LogisticRegression(multi_class='multinomial', solver='lbfgs', random_state=0).fit(X_train,train_labels2)\n",
    "        accuracy0 = lr_model2.score(X_train, train_labels2)\n",
    "        accuracy1 = lr_model2.score(X_test_indist, test_labels2_indist)\n",
    "        accuracy2 = lr_model2.score(X_test_ood, test_labels2_ood)\n",
    "        print('LR Training Accuracy - F: ', accuracy0)\n",
    "        print('LR Accuracy on test data - F - In Dist: ', accuracy1)\n",
    "        print('LR Accuracy on test data - F - OOD: ', accuracy2)\n",
    "\n",
    "        print(\"\\n\"*1)\n",
    "        break\n",
    "    print(\"\\n\"*6)\n",
    "\n",
    "\n"
   ]
  },
  {
   "cell_type": "code",
   "execution_count": null,
   "metadata": {},
   "outputs": [],
   "source": []
  }
 ],
 "metadata": {
  "kernelspec": {
   "display_name": "Python [conda env:invariance_env]",
   "language": "python",
   "name": "conda-env-invariance_env-py"
  },
  "language_info": {
   "codemirror_mode": {
    "name": "ipython",
    "version": 3
   },
   "file_extension": ".py",
   "mimetype": "text/x-python",
   "name": "python",
   "nbconvert_exporter": "python",
   "pygments_lexer": "ipython3",
   "version": "3.10.4"
  }
 },
 "nbformat": 4,
 "nbformat_minor": 2
}

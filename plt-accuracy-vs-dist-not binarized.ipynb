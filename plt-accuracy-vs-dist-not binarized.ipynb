{
 "cells": [
  {
   "cell_type": "code",
   "execution_count": 1,
   "metadata": {},
   "outputs": [],
   "source": [
    "import torch\n",
    "import torchvision\n",
    "import torchvision.transforms as transforms\n",
    "from torch.utils.data import random_split, DataLoader\n",
    "import matplotlib.pyplot as plt\n",
    "from torchvision.utils import make_grid\n",
    "\n",
    "import numpy as np\n",
    "\n",
    "import matplotlib.pyplot as plt\n",
    "import torchvision.transforms as transforms\n",
    "import torchvision.transforms.functional as F\n",
    "from PIL import Image \n",
    "from scipy import ndimage, misc\n",
    "import matplotlib.pyplot as plt\n",
    "\n",
    "from image_feature_extractor import Img2Vec\n",
    "\n",
    "from sklearn.linear_model import LogisticRegression\n",
    "\n",
    "import torch\n",
    "from sklearn import preprocessing\n",
    "\n",
    "import seaborn as sns\n",
    "\n"
   ]
  },
  {
   "cell_type": "markdown",
   "metadata": {},
   "source": [
    "# Download CIFAR 10 data form torchvision"
   ]
  },
  {
   "cell_type": "code",
   "execution_count": 2,
   "metadata": {},
   "outputs": [
    {
     "name": "stdout",
     "output_type": "stream",
     "text": [
      "Files already downloaded and verified\n",
      "Files already downloaded and verified\n"
     ]
    }
   ],
   "source": [
    "\n",
    "train_dataset = torchvision.datasets.CIFAR10('~/datasets/cifar', train=True, download=True)\n",
    "test_dataset = torchvision.datasets.CIFAR10('~/datasets/cifar', train=False, download=True)\n"
   ]
  },
  {
   "cell_type": "markdown",
   "metadata": {},
   "source": [
    "# Useful functions"
   ]
  },
  {
   "cell_type": "code",
   "execution_count": 3,
   "metadata": {},
   "outputs": [],
   "source": [
    "def apply_contrast(images_data, contrast_factor):\n",
    "    to_tensor = transforms.ToTensor()   \n",
    "    images_list = [to_tensor(im) for im in images_data]\n",
    "    images = torch.stack(images_list)\n",
    "    contrasted_images = F.adjust_contrast(images, contrast_factor)\n",
    "    contrasted_images = np.array(np.stack([transforms.ToPILImage()(im) for im in contrasted_images]))\n",
    "    return contrasted_images\n",
    "\n",
    "def apply_rotation(images_data, angle):\n",
    "    rotated_images = []\n",
    "    for img in images_data:\n",
    "        rotated_image = ndimage.rotate(img, angle, reshape=False)\n",
    "        rotated_images.append(rotated_image)\n",
    "    rotated_images = np.array(rotated_images)\n",
    "    return rotated_images\n",
    "\n",
    "\n",
    "# Generate a list of original and modified images: every original image has a duplicate which is \n",
    "# the modified original image.\n",
    "def generate_duplicates_modified_original(image_set, mod_factor, mod_type=\"contrast\"):\n",
    "    original_labels = np.zeros(len(image_set.data))\n",
    "    modified_labels = np.ones(len(image_set.data))\n",
    "    \n",
    "    modified_images = None\n",
    "    \n",
    "    if mod_type==\"contrast\":\n",
    "        modified_images = apply_contrast(image_set.data, mod_factor) \n",
    "        \n",
    "    elif mod_type==\"rotation\":\n",
    "        modified_images = apply_rotation(image_set.data, mod_factor)\n",
    "\n",
    "    original_and_modified_images = np.concatenate((image_set.data, modified_images), axis=0)\n",
    "    modification_labels = np.concatenate((original_labels, modified_labels), axis=None)\n",
    "    image_labels = np.concatenate((image_set.targets, image_set.targets), axis=None)        \n",
    "    return modified_images, original_and_modified_images, modification_labels, image_labels\n",
    "\n",
    "\n",
    "# used to binarize the target variable\n",
    "def binarize(y):    \n",
    "    y = np.copy(y) > 5\n",
    "    return y.astype(int)\n",
    "\n",
    "def correlate_label_with_img_modification(image_dataset, mod_factor, mod_percent= 0.1, \n",
    "                                          binarize_label=True, mod_type=\"contrast\"):\n",
    "    y = binarize(image_dataset.targets)\n",
    "    mod_labels = np.logical_xor(y, np.random.binomial(1, mod_percent, size=len(y)))\n",
    "    \n",
    "    images_to_be_modified = image_dataset.data[mod_labels]\n",
    "    images_to_be_left_alone = image_dataset.data[~mod_labels]\n",
    "    \n",
    "    all_img_labels = None\n",
    "    \n",
    "    if binarize_label:\n",
    "        modified_imgs_labels = y[mod_labels]\n",
    "        unmodified_imgs_labels = y[~mod_labels]\n",
    "        all_img_labels = np.concatenate((modified_imgs_labels, unmodified_imgs_labels), axis=None)\n",
    "    else:\n",
    "        modified_imgs_labels = np.array(image_dataset.targets)[mod_labels]\n",
    "        unmodified_imgs_labels = np.array(image_dataset.targets)[~mod_labels]\n",
    "        all_img_labels = np.concatenate((modified_imgs_labels, unmodified_imgs_labels), axis=None)    \n",
    "    \n",
    "    all_images = None\n",
    "    \n",
    "    if mod_type == \"contrast\":\n",
    "        modified_images = apply_contrast(images_to_be_modified, mod_factor)\n",
    "        all_images = np.concatenate((modified_images, images_to_be_left_alone), axis=0)                    \n",
    "        \n",
    "    elif mod_type==\"rotation\":\n",
    "        modified_images = apply_rotation(images_to_be_modified, mod_factor)\n",
    "        all_images = np.concatenate((modified_images, images_to_be_left_alone), axis=0)\n",
    "        \n",
    "    return all_images, all_img_labels, mod_labels.astype(int)\n",
    "\n",
    "\n",
    "# Function to extract image features    \n",
    "def get_features(images, batch_size):\n",
    "    Z_list = []\n",
    "    img2vec = Img2Vec(model=\"resnet50\")\n",
    "#     img2vec = Img2Vec()\n",
    "    for first in range(0, len(images), batch_size):\n",
    "        images_subset = images[first:first+batch_size]\n",
    "        Z_subset = img2vec.get_vec(images_subset)\n",
    "        Z_list.append(Z_subset)\n",
    "    Z = np.vstack(Z_list)\n",
    "    return Z"
   ]
  },
  {
   "cell_type": "markdown",
   "metadata": {},
   "source": [
    "# Accuracies for different variations of data distributions per class"
   ]
  },
  {
   "cell_type": "code",
   "execution_count": 4,
   "metadata": {
    "scrolled": false
   },
   "outputs": [
    {
     "name": "stderr",
     "output_type": "stream",
     "text": [
      "Failed to detect the name of this notebook, you can set it manually with the WANDB_NOTEBOOK_NAME environment variable to enable code saving.\n",
      "\u001b[34m\u001b[1mwandb\u001b[0m: Currently logged in as: \u001b[33mlilianngweta\u001b[0m. Use \u001b[1m`wandb login --relogin`\u001b[0m to force relogin\n"
     ]
    },
    {
     "name": "stdout",
     "output_type": "stream",
     "text": [
      " Results for contrast factor:  0.1\n"
     ]
    },
    {
     "data": {
      "text/html": [
       "Tracking run with wandb version 0.13.2"
      ],
      "text/plain": [
       "<IPython.core.display.HTML object>"
      ]
     },
     "metadata": {},
     "output_type": "display_data"
    },
    {
     "data": {
      "text/html": [
       "Run data is saved locally in <code>/home/ngwetl/LILIAN_RESEARCH/causality-for-out-of-distribution-generalization-in-ml/causal-invariance/wandb/run-20220831_202252-12vwe62p</code>"
      ],
      "text/plain": [
       "<IPython.core.display.HTML object>"
      ]
     },
     "metadata": {},
     "output_type": "display_data"
    },
    {
     "data": {
      "text/html": [
       "Syncing run <strong><a href=\"https://wandb.ai/lilianngweta/accuracy-vs-dist-variations/runs/12vwe62p\" target=\"_blank\">misunderstood-leaf-30</a></strong> to <a href=\"https://wandb.ai/lilianngweta/accuracy-vs-dist-variations\" target=\"_blank\">Weights & Biases</a> (<a href=\"https://wandb.me/run\" target=\"_blank\">docs</a>)<br/>"
      ],
      "text/plain": [
       "<IPython.core.display.HTML object>"
      ]
     },
     "metadata": {},
     "output_type": "display_data"
    },
    {
     "name": "stdout",
     "output_type": "stream",
     "text": [
      " Results for alpha value:  0.5\n"
     ]
    },
    {
     "name": "stderr",
     "output_type": "stream",
     "text": [
      "/software/anaconda3/envs/invariance_env/lib/python3.10/site-packages/sklearn/linear_model/_logistic.py:444: ConvergenceWarning: lbfgs failed to converge (status=1):\n",
      "STOP: TOTAL NO. of ITERATIONS REACHED LIMIT.\n",
      "\n",
      "Increase the number of iterations (max_iter) or scale the data as shown in:\n",
      "    https://scikit-learn.org/stable/modules/preprocessing.html\n",
      "Please also refer to the documentation for alternative solver options:\n",
      "    https://scikit-learn.org/stable/modules/linear_model.html#logistic-regression\n",
      "  n_iter_i = _check_optimize_result(\n"
     ]
    },
    {
     "name": "stdout",
     "output_type": "stream",
     "text": [
      "LR Training Accuracy:  0.81588\n",
      "LR Accuracy on test data - Z - In Dist:  0.7941\n",
      "LR Accuracy on test data - Z - OOD:  0.7927\n",
      "\n",
      "\n",
      "\n",
      " Results for alpha value:  0.75\n"
     ]
    },
    {
     "name": "stderr",
     "output_type": "stream",
     "text": [
      "/software/anaconda3/envs/invariance_env/lib/python3.10/site-packages/sklearn/linear_model/_logistic.py:444: ConvergenceWarning: lbfgs failed to converge (status=1):\n",
      "STOP: TOTAL NO. of ITERATIONS REACHED LIMIT.\n",
      "\n",
      "Increase the number of iterations (max_iter) or scale the data as shown in:\n",
      "    https://scikit-learn.org/stable/modules/preprocessing.html\n",
      "Please also refer to the documentation for alternative solver options:\n",
      "    https://scikit-learn.org/stable/modules/linear_model.html#logistic-regression\n",
      "  n_iter_i = _check_optimize_result(\n"
     ]
    },
    {
     "name": "stdout",
     "output_type": "stream",
     "text": [
      "LR Training Accuracy:  0.81298\n",
      "LR Accuracy on test data - Z - In Dist:  0.7921\n",
      "LR Accuracy on test data - Z - OOD:  0.7575\n",
      "\n",
      "\n",
      "\n",
      " Results for alpha value:  0.9\n"
     ]
    },
    {
     "name": "stderr",
     "output_type": "stream",
     "text": [
      "/software/anaconda3/envs/invariance_env/lib/python3.10/site-packages/sklearn/linear_model/_logistic.py:444: ConvergenceWarning: lbfgs failed to converge (status=1):\n",
      "STOP: TOTAL NO. of ITERATIONS REACHED LIMIT.\n",
      "\n",
      "Increase the number of iterations (max_iter) or scale the data as shown in:\n",
      "    https://scikit-learn.org/stable/modules/preprocessing.html\n",
      "Please also refer to the documentation for alternative solver options:\n",
      "    https://scikit-learn.org/stable/modules/linear_model.html#logistic-regression\n",
      "  n_iter_i = _check_optimize_result(\n"
     ]
    },
    {
     "name": "stdout",
     "output_type": "stream",
     "text": [
      "LR Training Accuracy:  0.82972\n",
      "LR Accuracy on test data - Z - In Dist:  0.8161\n",
      "LR Accuracy on test data - Z - OOD:  0.624\n",
      "\n",
      "\n",
      "\n",
      " Results for alpha value:  0.95\n"
     ]
    },
    {
     "name": "stderr",
     "output_type": "stream",
     "text": [
      "/software/anaconda3/envs/invariance_env/lib/python3.10/site-packages/sklearn/linear_model/_logistic.py:444: ConvergenceWarning: lbfgs failed to converge (status=1):\n",
      "STOP: TOTAL NO. of ITERATIONS REACHED LIMIT.\n",
      "\n",
      "Increase the number of iterations (max_iter) or scale the data as shown in:\n",
      "    https://scikit-learn.org/stable/modules/preprocessing.html\n",
      "Please also refer to the documentation for alternative solver options:\n",
      "    https://scikit-learn.org/stable/modules/linear_model.html#logistic-regression\n",
      "  n_iter_i = _check_optimize_result(\n"
     ]
    },
    {
     "name": "stdout",
     "output_type": "stream",
     "text": [
      "LR Training Accuracy:  0.84316\n",
      "LR Accuracy on test data - Z - In Dist:  0.8256\n",
      "LR Accuracy on test data - Z - OOD:  0.5053\n",
      "\n",
      "\n",
      "\n",
      " Results for alpha value:  0.99\n"
     ]
    },
    {
     "name": "stderr",
     "output_type": "stream",
     "text": [
      "/software/anaconda3/envs/invariance_env/lib/python3.10/site-packages/sklearn/linear_model/_logistic.py:444: ConvergenceWarning: lbfgs failed to converge (status=1):\n",
      "STOP: TOTAL NO. of ITERATIONS REACHED LIMIT.\n",
      "\n",
      "Increase the number of iterations (max_iter) or scale the data as shown in:\n",
      "    https://scikit-learn.org/stable/modules/preprocessing.html\n",
      "Please also refer to the documentation for alternative solver options:\n",
      "    https://scikit-learn.org/stable/modules/linear_model.html#logistic-regression\n",
      "  n_iter_i = _check_optimize_result(\n"
     ]
    },
    {
     "name": "stdout",
     "output_type": "stream",
     "text": [
      "LR Training Accuracy:  0.85806\n",
      "LR Accuracy on test data - Z - In Dist:  0.8439\n",
      "LR Accuracy on test data - Z - OOD:  0.3069\n",
      "\n",
      "\n",
      "\n",
      " Results for alpha value:  1.0\n"
     ]
    },
    {
     "name": "stderr",
     "output_type": "stream",
     "text": [
      "/software/anaconda3/envs/invariance_env/lib/python3.10/site-packages/sklearn/linear_model/_logistic.py:444: ConvergenceWarning: lbfgs failed to converge (status=1):\n",
      "STOP: TOTAL NO. of ITERATIONS REACHED LIMIT.\n",
      "\n",
      "Increase the number of iterations (max_iter) or scale the data as shown in:\n",
      "    https://scikit-learn.org/stable/modules/preprocessing.html\n",
      "Please also refer to the documentation for alternative solver options:\n",
      "    https://scikit-learn.org/stable/modules/linear_model.html#logistic-regression\n",
      "  n_iter_i = _check_optimize_result(\n"
     ]
    },
    {
     "name": "stdout",
     "output_type": "stream",
     "text": [
      "LR Training Accuracy:  0.86714\n",
      "LR Accuracy on test data - Z - In Dist:  0.8542\n",
      "LR Accuracy on test data - Z - OOD:  0.0036\n",
      "\n",
      "\n",
      "\n",
      "\n",
      "\n",
      "\n",
      "\n",
      "\n",
      " Results for contrast factor:  0.3\n"
     ]
    },
    {
     "data": {
      "text/html": [
       "Finishing last run (ID:12vwe62p) before initializing another..."
      ],
      "text/plain": [
       "<IPython.core.display.HTML object>"
      ]
     },
     "metadata": {},
     "output_type": "display_data"
    },
    {
     "data": {
      "text/html": [
       "Waiting for W&B process to finish... <strong style=\"color:green\">(success).</strong>"
      ],
      "text/plain": [
       "<IPython.core.display.HTML object>"
      ]
     },
     "metadata": {},
     "output_type": "display_data"
    },
    {
     "data": {
      "text/html": [
       "Synced <strong style=\"color:#cdcd00\">misunderstood-leaf-30</strong>: <a href=\"https://wandb.ai/lilianngweta/accuracy-vs-dist-variations/runs/12vwe62p\" target=\"_blank\">https://wandb.ai/lilianngweta/accuracy-vs-dist-variations/runs/12vwe62p</a><br/>Synced 5 W&B file(s), 1 media file(s), 0 artifact file(s) and 0 other file(s)"
      ],
      "text/plain": [
       "<IPython.core.display.HTML object>"
      ]
     },
     "metadata": {},
     "output_type": "display_data"
    },
    {
     "data": {
      "text/html": [
       "Find logs at: <code>./wandb/run-20220831_202252-12vwe62p/logs</code>"
      ],
      "text/plain": [
       "<IPython.core.display.HTML object>"
      ]
     },
     "metadata": {},
     "output_type": "display_data"
    },
    {
     "data": {
      "text/html": [
       "Successfully finished last run (ID:12vwe62p). Initializing new run:<br/>"
      ],
      "text/plain": [
       "<IPython.core.display.HTML object>"
      ]
     },
     "metadata": {},
     "output_type": "display_data"
    },
    {
     "data": {
      "text/html": [
       "Tracking run with wandb version 0.13.2"
      ],
      "text/plain": [
       "<IPython.core.display.HTML object>"
      ]
     },
     "metadata": {},
     "output_type": "display_data"
    },
    {
     "data": {
      "text/html": [
       "Run data is saved locally in <code>/home/ngwetl/LILIAN_RESEARCH/causality-for-out-of-distribution-generalization-in-ml/causal-invariance/wandb/run-20220831_204122-1inc8n4l</code>"
      ],
      "text/plain": [
       "<IPython.core.display.HTML object>"
      ]
     },
     "metadata": {},
     "output_type": "display_data"
    },
    {
     "data": {
      "text/html": [
       "Syncing run <strong><a href=\"https://wandb.ai/lilianngweta/accuracy-vs-dist-variations/runs/1inc8n4l\" target=\"_blank\">morning-sound-31</a></strong> to <a href=\"https://wandb.ai/lilianngweta/accuracy-vs-dist-variations\" target=\"_blank\">Weights & Biases</a> (<a href=\"https://wandb.me/run\" target=\"_blank\">docs</a>)<br/>"
      ],
      "text/plain": [
       "<IPython.core.display.HTML object>"
      ]
     },
     "metadata": {},
     "output_type": "display_data"
    },
    {
     "name": "stdout",
     "output_type": "stream",
     "text": [
      " Results for alpha value:  0.5\n"
     ]
    },
    {
     "name": "stderr",
     "output_type": "stream",
     "text": [
      "/software/anaconda3/envs/invariance_env/lib/python3.10/site-packages/sklearn/linear_model/_logistic.py:444: ConvergenceWarning: lbfgs failed to converge (status=1):\n",
      "STOP: TOTAL NO. of ITERATIONS REACHED LIMIT.\n",
      "\n",
      "Increase the number of iterations (max_iter) or scale the data as shown in:\n",
      "    https://scikit-learn.org/stable/modules/preprocessing.html\n",
      "Please also refer to the documentation for alternative solver options:\n",
      "    https://scikit-learn.org/stable/modules/linear_model.html#logistic-regression\n",
      "  n_iter_i = _check_optimize_result(\n"
     ]
    },
    {
     "name": "stdout",
     "output_type": "stream",
     "text": [
      "LR Training Accuracy:  0.8881\n",
      "LR Accuracy on test data - Z - In Dist:  0.8593\n",
      "LR Accuracy on test data - Z - OOD:  0.8618\n",
      "\n",
      "\n",
      "\n",
      " Results for alpha value:  0.75\n"
     ]
    },
    {
     "name": "stderr",
     "output_type": "stream",
     "text": [
      "/software/anaconda3/envs/invariance_env/lib/python3.10/site-packages/sklearn/linear_model/_logistic.py:444: ConvergenceWarning: lbfgs failed to converge (status=1):\n",
      "STOP: TOTAL NO. of ITERATIONS REACHED LIMIT.\n",
      "\n",
      "Increase the number of iterations (max_iter) or scale the data as shown in:\n",
      "    https://scikit-learn.org/stable/modules/preprocessing.html\n",
      "Please also refer to the documentation for alternative solver options:\n",
      "    https://scikit-learn.org/stable/modules/linear_model.html#logistic-regression\n",
      "  n_iter_i = _check_optimize_result(\n"
     ]
    },
    {
     "name": "stdout",
     "output_type": "stream",
     "text": [
      "LR Training Accuracy:  0.88914\n",
      "LR Accuracy on test data - Z - In Dist:  0.8626\n",
      "LR Accuracy on test data - Z - OOD:  0.837\n",
      "\n",
      "\n",
      "\n",
      " Results for alpha value:  0.9\n"
     ]
    },
    {
     "name": "stderr",
     "output_type": "stream",
     "text": [
      "/software/anaconda3/envs/invariance_env/lib/python3.10/site-packages/sklearn/linear_model/_logistic.py:444: ConvergenceWarning: lbfgs failed to converge (status=1):\n",
      "STOP: TOTAL NO. of ITERATIONS REACHED LIMIT.\n",
      "\n",
      "Increase the number of iterations (max_iter) or scale the data as shown in:\n",
      "    https://scikit-learn.org/stable/modules/preprocessing.html\n",
      "Please also refer to the documentation for alternative solver options:\n",
      "    https://scikit-learn.org/stable/modules/linear_model.html#logistic-regression\n",
      "  n_iter_i = _check_optimize_result(\n"
     ]
    },
    {
     "name": "stdout",
     "output_type": "stream",
     "text": [
      "LR Training Accuracy:  0.90238\n",
      "LR Accuracy on test data - Z - In Dist:  0.8776\n",
      "LR Accuracy on test data - Z - OOD:  0.751\n",
      "\n",
      "\n",
      "\n",
      " Results for alpha value:  0.95\n"
     ]
    },
    {
     "name": "stderr",
     "output_type": "stream",
     "text": [
      "/software/anaconda3/envs/invariance_env/lib/python3.10/site-packages/sklearn/linear_model/_logistic.py:444: ConvergenceWarning: lbfgs failed to converge (status=1):\n",
      "STOP: TOTAL NO. of ITERATIONS REACHED LIMIT.\n",
      "\n",
      "Increase the number of iterations (max_iter) or scale the data as shown in:\n",
      "    https://scikit-learn.org/stable/modules/preprocessing.html\n",
      "Please also refer to the documentation for alternative solver options:\n",
      "    https://scikit-learn.org/stable/modules/linear_model.html#logistic-regression\n",
      "  n_iter_i = _check_optimize_result(\n"
     ]
    },
    {
     "name": "stdout",
     "output_type": "stream",
     "text": [
      "LR Training Accuracy:  0.91102\n",
      "LR Accuracy on test data - Z - In Dist:  0.8865\n",
      "LR Accuracy on test data - Z - OOD:  0.6715\n",
      "\n",
      "\n",
      "\n",
      " Results for alpha value:  0.99\n"
     ]
    },
    {
     "name": "stderr",
     "output_type": "stream",
     "text": [
      "/software/anaconda3/envs/invariance_env/lib/python3.10/site-packages/sklearn/linear_model/_logistic.py:444: ConvergenceWarning: lbfgs failed to converge (status=1):\n",
      "STOP: TOTAL NO. of ITERATIONS REACHED LIMIT.\n",
      "\n",
      "Increase the number of iterations (max_iter) or scale the data as shown in:\n",
      "    https://scikit-learn.org/stable/modules/preprocessing.html\n",
      "Please also refer to the documentation for alternative solver options:\n",
      "    https://scikit-learn.org/stable/modules/linear_model.html#logistic-regression\n",
      "  n_iter_i = _check_optimize_result(\n"
     ]
    },
    {
     "name": "stdout",
     "output_type": "stream",
     "text": [
      "LR Training Accuracy:  0.9223\n",
      "LR Accuracy on test data - Z - In Dist:  0.9019\n",
      "LR Accuracy on test data - Z - OOD:  0.4661\n",
      "\n",
      "\n",
      "\n",
      " Results for alpha value:  1.0\n"
     ]
    },
    {
     "name": "stderr",
     "output_type": "stream",
     "text": [
      "/software/anaconda3/envs/invariance_env/lib/python3.10/site-packages/sklearn/linear_model/_logistic.py:444: ConvergenceWarning: lbfgs failed to converge (status=1):\n",
      "STOP: TOTAL NO. of ITERATIONS REACHED LIMIT.\n",
      "\n",
      "Increase the number of iterations (max_iter) or scale the data as shown in:\n",
      "    https://scikit-learn.org/stable/modules/preprocessing.html\n",
      "Please also refer to the documentation for alternative solver options:\n",
      "    https://scikit-learn.org/stable/modules/linear_model.html#logistic-regression\n",
      "  n_iter_i = _check_optimize_result(\n"
     ]
    },
    {
     "name": "stdout",
     "output_type": "stream",
     "text": [
      "LR Training Accuracy:  0.92894\n",
      "LR Accuracy on test data - Z - In Dist:  0.9082\n",
      "LR Accuracy on test data - Z - OOD:  0.1366\n",
      "\n",
      "\n",
      "\n",
      "\n",
      "\n",
      "\n",
      "\n",
      "\n",
      " Results for contrast factor:  0.5\n"
     ]
    },
    {
     "data": {
      "text/html": [
       "Finishing last run (ID:1inc8n4l) before initializing another..."
      ],
      "text/plain": [
       "<IPython.core.display.HTML object>"
      ]
     },
     "metadata": {},
     "output_type": "display_data"
    },
    {
     "data": {
      "text/html": [
       "Waiting for W&B process to finish... <strong style=\"color:green\">(success).</strong>"
      ],
      "text/plain": [
       "<IPython.core.display.HTML object>"
      ]
     },
     "metadata": {},
     "output_type": "display_data"
    },
    {
     "data": {
      "text/html": [
       "Synced <strong style=\"color:#cdcd00\">morning-sound-31</strong>: <a href=\"https://wandb.ai/lilianngweta/accuracy-vs-dist-variations/runs/1inc8n4l\" target=\"_blank\">https://wandb.ai/lilianngweta/accuracy-vs-dist-variations/runs/1inc8n4l</a><br/>Synced 5 W&B file(s), 1 media file(s), 0 artifact file(s) and 0 other file(s)"
      ],
      "text/plain": [
       "<IPython.core.display.HTML object>"
      ]
     },
     "metadata": {},
     "output_type": "display_data"
    },
    {
     "data": {
      "text/html": [
       "Find logs at: <code>./wandb/run-20220831_204122-1inc8n4l/logs</code>"
      ],
      "text/plain": [
       "<IPython.core.display.HTML object>"
      ]
     },
     "metadata": {},
     "output_type": "display_data"
    },
    {
     "data": {
      "text/html": [
       "Successfully finished last run (ID:1inc8n4l). Initializing new run:<br/>"
      ],
      "text/plain": [
       "<IPython.core.display.HTML object>"
      ]
     },
     "metadata": {},
     "output_type": "display_data"
    },
    {
     "data": {
      "text/html": [
       "Tracking run with wandb version 0.13.2"
      ],
      "text/plain": [
       "<IPython.core.display.HTML object>"
      ]
     },
     "metadata": {},
     "output_type": "display_data"
    },
    {
     "data": {
      "text/html": [
       "Run data is saved locally in <code>/home/ngwetl/LILIAN_RESEARCH/causality-for-out-of-distribution-generalization-in-ml/causal-invariance/wandb/run-20220831_205935-1whvzvn6</code>"
      ],
      "text/plain": [
       "<IPython.core.display.HTML object>"
      ]
     },
     "metadata": {},
     "output_type": "display_data"
    },
    {
     "data": {
      "text/html": [
       "Syncing run <strong><a href=\"https://wandb.ai/lilianngweta/accuracy-vs-dist-variations/runs/1whvzvn6\" target=\"_blank\">scarlet-voice-32</a></strong> to <a href=\"https://wandb.ai/lilianngweta/accuracy-vs-dist-variations\" target=\"_blank\">Weights & Biases</a> (<a href=\"https://wandb.me/run\" target=\"_blank\">docs</a>)<br/>"
      ],
      "text/plain": [
       "<IPython.core.display.HTML object>"
      ]
     },
     "metadata": {},
     "output_type": "display_data"
    },
    {
     "name": "stdout",
     "output_type": "stream",
     "text": [
      " Results for alpha value:  0.5\n"
     ]
    },
    {
     "name": "stderr",
     "output_type": "stream",
     "text": [
      "/software/anaconda3/envs/invariance_env/lib/python3.10/site-packages/sklearn/linear_model/_logistic.py:444: ConvergenceWarning: lbfgs failed to converge (status=1):\n",
      "STOP: TOTAL NO. of ITERATIONS REACHED LIMIT.\n",
      "\n",
      "Increase the number of iterations (max_iter) or scale the data as shown in:\n",
      "    https://scikit-learn.org/stable/modules/preprocessing.html\n",
      "Please also refer to the documentation for alternative solver options:\n",
      "    https://scikit-learn.org/stable/modules/linear_model.html#logistic-regression\n",
      "  n_iter_i = _check_optimize_result(\n"
     ]
    },
    {
     "name": "stdout",
     "output_type": "stream",
     "text": [
      "LR Training Accuracy:  0.91118\n",
      "LR Accuracy on test data - Z - In Dist:  0.8831\n",
      "LR Accuracy on test data - Z - OOD:  0.8806\n",
      "\n",
      "\n",
      "\n",
      " Results for alpha value:  0.75\n"
     ]
    },
    {
     "name": "stderr",
     "output_type": "stream",
     "text": [
      "/software/anaconda3/envs/invariance_env/lib/python3.10/site-packages/sklearn/linear_model/_logistic.py:444: ConvergenceWarning: lbfgs failed to converge (status=1):\n",
      "STOP: TOTAL NO. of ITERATIONS REACHED LIMIT.\n",
      "\n",
      "Increase the number of iterations (max_iter) or scale the data as shown in:\n",
      "    https://scikit-learn.org/stable/modules/preprocessing.html\n",
      "Please also refer to the documentation for alternative solver options:\n",
      "    https://scikit-learn.org/stable/modules/linear_model.html#logistic-regression\n",
      "  n_iter_i = _check_optimize_result(\n"
     ]
    },
    {
     "name": "stdout",
     "output_type": "stream",
     "text": [
      "LR Training Accuracy:  0.91548\n",
      "LR Accuracy on test data - Z - In Dist:  0.8854\n",
      "LR Accuracy on test data - Z - OOD:  0.8661\n",
      "\n",
      "\n",
      "\n",
      " Results for alpha value:  0.9\n"
     ]
    },
    {
     "name": "stderr",
     "output_type": "stream",
     "text": [
      "/software/anaconda3/envs/invariance_env/lib/python3.10/site-packages/sklearn/linear_model/_logistic.py:444: ConvergenceWarning: lbfgs failed to converge (status=1):\n",
      "STOP: TOTAL NO. of ITERATIONS REACHED LIMIT.\n",
      "\n",
      "Increase the number of iterations (max_iter) or scale the data as shown in:\n",
      "    https://scikit-learn.org/stable/modules/preprocessing.html\n",
      "Please also refer to the documentation for alternative solver options:\n",
      "    https://scikit-learn.org/stable/modules/linear_model.html#logistic-regression\n",
      "  n_iter_i = _check_optimize_result(\n"
     ]
    },
    {
     "name": "stdout",
     "output_type": "stream",
     "text": [
      "LR Training Accuracy:  0.92394\n",
      "LR Accuracy on test data - Z - In Dist:  0.8961\n",
      "LR Accuracy on test data - Z - OOD:  0.808\n",
      "\n",
      "\n",
      "\n",
      " Results for alpha value:  0.95\n"
     ]
    },
    {
     "name": "stderr",
     "output_type": "stream",
     "text": [
      "/software/anaconda3/envs/invariance_env/lib/python3.10/site-packages/sklearn/linear_model/_logistic.py:444: ConvergenceWarning: lbfgs failed to converge (status=1):\n",
      "STOP: TOTAL NO. of ITERATIONS REACHED LIMIT.\n",
      "\n",
      "Increase the number of iterations (max_iter) or scale the data as shown in:\n",
      "    https://scikit-learn.org/stable/modules/preprocessing.html\n",
      "Please also refer to the documentation for alternative solver options:\n",
      "    https://scikit-learn.org/stable/modules/linear_model.html#logistic-regression\n",
      "  n_iter_i = _check_optimize_result(\n"
     ]
    },
    {
     "name": "stdout",
     "output_type": "stream",
     "text": [
      "LR Training Accuracy:  0.93012\n",
      "LR Accuracy on test data - Z - In Dist:  0.9041\n",
      "LR Accuracy on test data - Z - OOD:  0.7519\n",
      "\n",
      "\n",
      "\n",
      " Results for alpha value:  0.99\n"
     ]
    },
    {
     "name": "stderr",
     "output_type": "stream",
     "text": [
      "/software/anaconda3/envs/invariance_env/lib/python3.10/site-packages/sklearn/linear_model/_logistic.py:444: ConvergenceWarning: lbfgs failed to converge (status=1):\n",
      "STOP: TOTAL NO. of ITERATIONS REACHED LIMIT.\n",
      "\n",
      "Increase the number of iterations (max_iter) or scale the data as shown in:\n",
      "    https://scikit-learn.org/stable/modules/preprocessing.html\n",
      "Please also refer to the documentation for alternative solver options:\n",
      "    https://scikit-learn.org/stable/modules/linear_model.html#logistic-regression\n",
      "  n_iter_i = _check_optimize_result(\n"
     ]
    },
    {
     "name": "stdout",
     "output_type": "stream",
     "text": [
      "LR Training Accuracy:  0.93962\n",
      "LR Accuracy on test data - Z - In Dist:  0.9137\n",
      "LR Accuracy on test data - Z - OOD:  0.6122\n",
      "\n",
      "\n",
      "\n",
      " Results for alpha value:  1.0\n"
     ]
    },
    {
     "name": "stderr",
     "output_type": "stream",
     "text": [
      "/software/anaconda3/envs/invariance_env/lib/python3.10/site-packages/sklearn/linear_model/_logistic.py:444: ConvergenceWarning: lbfgs failed to converge (status=1):\n",
      "STOP: TOTAL NO. of ITERATIONS REACHED LIMIT.\n",
      "\n",
      "Increase the number of iterations (max_iter) or scale the data as shown in:\n",
      "    https://scikit-learn.org/stable/modules/preprocessing.html\n",
      "Please also refer to the documentation for alternative solver options:\n",
      "    https://scikit-learn.org/stable/modules/linear_model.html#logistic-regression\n",
      "  n_iter_i = _check_optimize_result(\n"
     ]
    },
    {
     "name": "stdout",
     "output_type": "stream",
     "text": [
      "LR Training Accuracy:  0.9421\n",
      "LR Accuracy on test data - Z - In Dist:  0.9168\n",
      "LR Accuracy on test data - Z - OOD:  0.4532\n",
      "\n",
      "\n",
      "\n",
      "\n",
      "\n",
      "\n",
      "\n",
      "\n",
      " Results for contrast factor:  0.7\n"
     ]
    },
    {
     "data": {
      "text/html": [
       "Finishing last run (ID:1whvzvn6) before initializing another..."
      ],
      "text/plain": [
       "<IPython.core.display.HTML object>"
      ]
     },
     "metadata": {},
     "output_type": "display_data"
    },
    {
     "data": {
      "text/html": [
       "Waiting for W&B process to finish... <strong style=\"color:green\">(success).</strong>"
      ],
      "text/plain": [
       "<IPython.core.display.HTML object>"
      ]
     },
     "metadata": {},
     "output_type": "display_data"
    },
    {
     "data": {
      "text/html": [
       "Synced <strong style=\"color:#cdcd00\">scarlet-voice-32</strong>: <a href=\"https://wandb.ai/lilianngweta/accuracy-vs-dist-variations/runs/1whvzvn6\" target=\"_blank\">https://wandb.ai/lilianngweta/accuracy-vs-dist-variations/runs/1whvzvn6</a><br/>Synced 5 W&B file(s), 1 media file(s), 0 artifact file(s) and 0 other file(s)"
      ],
      "text/plain": [
       "<IPython.core.display.HTML object>"
      ]
     },
     "metadata": {},
     "output_type": "display_data"
    },
    {
     "data": {
      "text/html": [
       "Find logs at: <code>./wandb/run-20220831_205935-1whvzvn6/logs</code>"
      ],
      "text/plain": [
       "<IPython.core.display.HTML object>"
      ]
     },
     "metadata": {},
     "output_type": "display_data"
    },
    {
     "data": {
      "text/html": [
       "Successfully finished last run (ID:1whvzvn6). Initializing new run:<br/>"
      ],
      "text/plain": [
       "<IPython.core.display.HTML object>"
      ]
     },
     "metadata": {},
     "output_type": "display_data"
    },
    {
     "data": {
      "text/html": [
       "Tracking run with wandb version 0.13.2"
      ],
      "text/plain": [
       "<IPython.core.display.HTML object>"
      ]
     },
     "metadata": {},
     "output_type": "display_data"
    },
    {
     "data": {
      "text/html": [
       "Run data is saved locally in <code>/home/ngwetl/LILIAN_RESEARCH/causality-for-out-of-distribution-generalization-in-ml/causal-invariance/wandb/run-20220831_211739-1vg7fka0</code>"
      ],
      "text/plain": [
       "<IPython.core.display.HTML object>"
      ]
     },
     "metadata": {},
     "output_type": "display_data"
    },
    {
     "data": {
      "text/html": [
       "Syncing run <strong><a href=\"https://wandb.ai/lilianngweta/accuracy-vs-dist-variations/runs/1vg7fka0\" target=\"_blank\">eternal-disco-33</a></strong> to <a href=\"https://wandb.ai/lilianngweta/accuracy-vs-dist-variations\" target=\"_blank\">Weights & Biases</a> (<a href=\"https://wandb.me/run\" target=\"_blank\">docs</a>)<br/>"
      ],
      "text/plain": [
       "<IPython.core.display.HTML object>"
      ]
     },
     "metadata": {},
     "output_type": "display_data"
    },
    {
     "name": "stdout",
     "output_type": "stream",
     "text": [
      " Results for alpha value:  0.5\n"
     ]
    },
    {
     "name": "stderr",
     "output_type": "stream",
     "text": [
      "/software/anaconda3/envs/invariance_env/lib/python3.10/site-packages/sklearn/linear_model/_logistic.py:444: ConvergenceWarning: lbfgs failed to converge (status=1):\n",
      "STOP: TOTAL NO. of ITERATIONS REACHED LIMIT.\n",
      "\n",
      "Increase the number of iterations (max_iter) or scale the data as shown in:\n",
      "    https://scikit-learn.org/stable/modules/preprocessing.html\n",
      "Please also refer to the documentation for alternative solver options:\n",
      "    https://scikit-learn.org/stable/modules/linear_model.html#logistic-regression\n",
      "  n_iter_i = _check_optimize_result(\n"
     ]
    },
    {
     "name": "stdout",
     "output_type": "stream",
     "text": [
      "LR Training Accuracy:  0.92216\n",
      "LR Accuracy on test data - Z - In Dist:  0.8917\n",
      "LR Accuracy on test data - Z - OOD:  0.8926\n",
      "\n",
      "\n",
      "\n",
      " Results for alpha value:  0.75\n"
     ]
    },
    {
     "name": "stderr",
     "output_type": "stream",
     "text": [
      "/software/anaconda3/envs/invariance_env/lib/python3.10/site-packages/sklearn/linear_model/_logistic.py:444: ConvergenceWarning: lbfgs failed to converge (status=1):\n",
      "STOP: TOTAL NO. of ITERATIONS REACHED LIMIT.\n",
      "\n",
      "Increase the number of iterations (max_iter) or scale the data as shown in:\n",
      "    https://scikit-learn.org/stable/modules/preprocessing.html\n",
      "Please also refer to the documentation for alternative solver options:\n",
      "    https://scikit-learn.org/stable/modules/linear_model.html#logistic-regression\n",
      "  n_iter_i = _check_optimize_result(\n"
     ]
    },
    {
     "name": "stdout",
     "output_type": "stream",
     "text": [
      "LR Training Accuracy:  0.92524\n",
      "LR Accuracy on test data - Z - In Dist:  0.8945\n",
      "LR Accuracy on test data - Z - OOD:  0.8812\n",
      "\n",
      "\n",
      "\n",
      " Results for alpha value:  0.9\n"
     ]
    },
    {
     "name": "stderr",
     "output_type": "stream",
     "text": [
      "/software/anaconda3/envs/invariance_env/lib/python3.10/site-packages/sklearn/linear_model/_logistic.py:444: ConvergenceWarning: lbfgs failed to converge (status=1):\n",
      "STOP: TOTAL NO. of ITERATIONS REACHED LIMIT.\n",
      "\n",
      "Increase the number of iterations (max_iter) or scale the data as shown in:\n",
      "    https://scikit-learn.org/stable/modules/preprocessing.html\n",
      "Please also refer to the documentation for alternative solver options:\n",
      "    https://scikit-learn.org/stable/modules/linear_model.html#logistic-regression\n",
      "  n_iter_i = _check_optimize_result(\n"
     ]
    },
    {
     "name": "stdout",
     "output_type": "stream",
     "text": [
      "LR Training Accuracy:  0.92968\n",
      "LR Accuracy on test data - Z - In Dist:  0.9024\n",
      "LR Accuracy on test data - Z - OOD:  0.8503\n",
      "\n",
      "\n",
      "\n",
      " Results for alpha value:  0.95\n"
     ]
    },
    {
     "name": "stderr",
     "output_type": "stream",
     "text": [
      "/software/anaconda3/envs/invariance_env/lib/python3.10/site-packages/sklearn/linear_model/_logistic.py:444: ConvergenceWarning: lbfgs failed to converge (status=1):\n",
      "STOP: TOTAL NO. of ITERATIONS REACHED LIMIT.\n",
      "\n",
      "Increase the number of iterations (max_iter) or scale the data as shown in:\n",
      "    https://scikit-learn.org/stable/modules/preprocessing.html\n",
      "Please also refer to the documentation for alternative solver options:\n",
      "    https://scikit-learn.org/stable/modules/linear_model.html#logistic-regression\n",
      "  n_iter_i = _check_optimize_result(\n"
     ]
    },
    {
     "name": "stdout",
     "output_type": "stream",
     "text": [
      "LR Training Accuracy:  0.93374\n",
      "LR Accuracy on test data - Z - In Dist:  0.9052\n",
      "LR Accuracy on test data - Z - OOD:  0.831\n",
      "\n",
      "\n",
      "\n",
      " Results for alpha value:  0.99\n"
     ]
    },
    {
     "name": "stderr",
     "output_type": "stream",
     "text": [
      "/software/anaconda3/envs/invariance_env/lib/python3.10/site-packages/sklearn/linear_model/_logistic.py:444: ConvergenceWarning: lbfgs failed to converge (status=1):\n",
      "STOP: TOTAL NO. of ITERATIONS REACHED LIMIT.\n",
      "\n",
      "Increase the number of iterations (max_iter) or scale the data as shown in:\n",
      "    https://scikit-learn.org/stable/modules/preprocessing.html\n",
      "Please also refer to the documentation for alternative solver options:\n",
      "    https://scikit-learn.org/stable/modules/linear_model.html#logistic-regression\n",
      "  n_iter_i = _check_optimize_result(\n"
     ]
    },
    {
     "name": "stdout",
     "output_type": "stream",
     "text": [
      "LR Training Accuracy:  0.93872\n",
      "LR Accuracy on test data - Z - In Dist:  0.9114\n",
      "LR Accuracy on test data - Z - OOD:  0.7953\n",
      "\n",
      "\n",
      "\n",
      " Results for alpha value:  1.0\n"
     ]
    },
    {
     "name": "stderr",
     "output_type": "stream",
     "text": [
      "/software/anaconda3/envs/invariance_env/lib/python3.10/site-packages/sklearn/linear_model/_logistic.py:444: ConvergenceWarning: lbfgs failed to converge (status=1):\n",
      "STOP: TOTAL NO. of ITERATIONS REACHED LIMIT.\n",
      "\n",
      "Increase the number of iterations (max_iter) or scale the data as shown in:\n",
      "    https://scikit-learn.org/stable/modules/preprocessing.html\n",
      "Please also refer to the documentation for alternative solver options:\n",
      "    https://scikit-learn.org/stable/modules/linear_model.html#logistic-regression\n",
      "  n_iter_i = _check_optimize_result(\n"
     ]
    },
    {
     "name": "stdout",
     "output_type": "stream",
     "text": [
      "LR Training Accuracy:  0.93978\n",
      "LR Accuracy on test data - Z - In Dist:  0.9104\n",
      "LR Accuracy on test data - Z - OOD:  0.7761\n",
      "\n",
      "\n",
      "\n",
      "\n",
      "\n",
      "\n",
      "\n",
      "\n",
      " Results for contrast factor:  0.9\n"
     ]
    },
    {
     "data": {
      "text/html": [
       "Finishing last run (ID:1vg7fka0) before initializing another..."
      ],
      "text/plain": [
       "<IPython.core.display.HTML object>"
      ]
     },
     "metadata": {},
     "output_type": "display_data"
    },
    {
     "data": {
      "text/html": [
       "Waiting for W&B process to finish... <strong style=\"color:green\">(success).</strong>"
      ],
      "text/plain": [
       "<IPython.core.display.HTML object>"
      ]
     },
     "metadata": {},
     "output_type": "display_data"
    },
    {
     "data": {
      "text/html": [
       "Synced <strong style=\"color:#cdcd00\">eternal-disco-33</strong>: <a href=\"https://wandb.ai/lilianngweta/accuracy-vs-dist-variations/runs/1vg7fka0\" target=\"_blank\">https://wandb.ai/lilianngweta/accuracy-vs-dist-variations/runs/1vg7fka0</a><br/>Synced 5 W&B file(s), 1 media file(s), 0 artifact file(s) and 0 other file(s)"
      ],
      "text/plain": [
       "<IPython.core.display.HTML object>"
      ]
     },
     "metadata": {},
     "output_type": "display_data"
    },
    {
     "data": {
      "text/html": [
       "Find logs at: <code>./wandb/run-20220831_211739-1vg7fka0/logs</code>"
      ],
      "text/plain": [
       "<IPython.core.display.HTML object>"
      ]
     },
     "metadata": {},
     "output_type": "display_data"
    },
    {
     "data": {
      "text/html": [
       "Successfully finished last run (ID:1vg7fka0). Initializing new run:<br/>"
      ],
      "text/plain": [
       "<IPython.core.display.HTML object>"
      ]
     },
     "metadata": {},
     "output_type": "display_data"
    },
    {
     "data": {
      "text/html": [
       "Tracking run with wandb version 0.13.2"
      ],
      "text/plain": [
       "<IPython.core.display.HTML object>"
      ]
     },
     "metadata": {},
     "output_type": "display_data"
    },
    {
     "data": {
      "text/html": [
       "Run data is saved locally in <code>/home/ngwetl/LILIAN_RESEARCH/causality-for-out-of-distribution-generalization-in-ml/causal-invariance/wandb/run-20220831_213557-27c3mqfm</code>"
      ],
      "text/plain": [
       "<IPython.core.display.HTML object>"
      ]
     },
     "metadata": {},
     "output_type": "display_data"
    },
    {
     "data": {
      "text/html": [
       "Syncing run <strong><a href=\"https://wandb.ai/lilianngweta/accuracy-vs-dist-variations/runs/27c3mqfm\" target=\"_blank\">rural-armadillo-34</a></strong> to <a href=\"https://wandb.ai/lilianngweta/accuracy-vs-dist-variations\" target=\"_blank\">Weights & Biases</a> (<a href=\"https://wandb.me/run\" target=\"_blank\">docs</a>)<br/>"
      ],
      "text/plain": [
       "<IPython.core.display.HTML object>"
      ]
     },
     "metadata": {},
     "output_type": "display_data"
    },
    {
     "name": "stdout",
     "output_type": "stream",
     "text": [
      " Results for alpha value:  0.5\n"
     ]
    },
    {
     "name": "stderr",
     "output_type": "stream",
     "text": [
      "/software/anaconda3/envs/invariance_env/lib/python3.10/site-packages/sklearn/linear_model/_logistic.py:444: ConvergenceWarning: lbfgs failed to converge (status=1):\n",
      "STOP: TOTAL NO. of ITERATIONS REACHED LIMIT.\n",
      "\n",
      "Increase the number of iterations (max_iter) or scale the data as shown in:\n",
      "    https://scikit-learn.org/stable/modules/preprocessing.html\n",
      "Please also refer to the documentation for alternative solver options:\n",
      "    https://scikit-learn.org/stable/modules/linear_model.html#logistic-regression\n",
      "  n_iter_i = _check_optimize_result(\n"
     ]
    },
    {
     "name": "stdout",
     "output_type": "stream",
     "text": [
      "LR Training Accuracy:  0.92552\n",
      "LR Accuracy on test data - Z - In Dist:  0.8986\n",
      "LR Accuracy on test data - Z - OOD:  0.8988\n",
      "\n",
      "\n",
      "\n",
      " Results for alpha value:  0.75\n"
     ]
    },
    {
     "name": "stderr",
     "output_type": "stream",
     "text": [
      "/software/anaconda3/envs/invariance_env/lib/python3.10/site-packages/sklearn/linear_model/_logistic.py:444: ConvergenceWarning: lbfgs failed to converge (status=1):\n",
      "STOP: TOTAL NO. of ITERATIONS REACHED LIMIT.\n",
      "\n",
      "Increase the number of iterations (max_iter) or scale the data as shown in:\n",
      "    https://scikit-learn.org/stable/modules/preprocessing.html\n",
      "Please also refer to the documentation for alternative solver options:\n",
      "    https://scikit-learn.org/stable/modules/linear_model.html#logistic-regression\n",
      "  n_iter_i = _check_optimize_result(\n"
     ]
    },
    {
     "name": "stdout",
     "output_type": "stream",
     "text": [
      "LR Training Accuracy:  0.92724\n",
      "LR Accuracy on test data - Z - In Dist:  0.8989\n",
      "LR Accuracy on test data - Z - OOD:  0.8979\n",
      "\n",
      "\n",
      "\n",
      " Results for alpha value:  0.9\n"
     ]
    },
    {
     "name": "stderr",
     "output_type": "stream",
     "text": [
      "/software/anaconda3/envs/invariance_env/lib/python3.10/site-packages/sklearn/linear_model/_logistic.py:444: ConvergenceWarning: lbfgs failed to converge (status=1):\n",
      "STOP: TOTAL NO. of ITERATIONS REACHED LIMIT.\n",
      "\n",
      "Increase the number of iterations (max_iter) or scale the data as shown in:\n",
      "    https://scikit-learn.org/stable/modules/preprocessing.html\n",
      "Please also refer to the documentation for alternative solver options:\n",
      "    https://scikit-learn.org/stable/modules/linear_model.html#logistic-regression\n",
      "  n_iter_i = _check_optimize_result(\n"
     ]
    },
    {
     "name": "stdout",
     "output_type": "stream",
     "text": [
      "LR Training Accuracy:  0.92754\n",
      "LR Accuracy on test data - Z - In Dist:  0.9011\n",
      "LR Accuracy on test data - Z - OOD:  0.8924\n",
      "\n",
      "\n",
      "\n",
      " Results for alpha value:  0.95\n"
     ]
    },
    {
     "name": "stderr",
     "output_type": "stream",
     "text": [
      "/software/anaconda3/envs/invariance_env/lib/python3.10/site-packages/sklearn/linear_model/_logistic.py:444: ConvergenceWarning: lbfgs failed to converge (status=1):\n",
      "STOP: TOTAL NO. of ITERATIONS REACHED LIMIT.\n",
      "\n",
      "Increase the number of iterations (max_iter) or scale the data as shown in:\n",
      "    https://scikit-learn.org/stable/modules/preprocessing.html\n",
      "Please also refer to the documentation for alternative solver options:\n",
      "    https://scikit-learn.org/stable/modules/linear_model.html#logistic-regression\n",
      "  n_iter_i = _check_optimize_result(\n"
     ]
    },
    {
     "name": "stdout",
     "output_type": "stream",
     "text": [
      "LR Training Accuracy:  0.92826\n",
      "LR Accuracy on test data - Z - In Dist:  0.9005\n",
      "LR Accuracy on test data - Z - OOD:  0.8927\n",
      "\n",
      "\n",
      "\n",
      " Results for alpha value:  0.99\n"
     ]
    },
    {
     "name": "stderr",
     "output_type": "stream",
     "text": [
      "/software/anaconda3/envs/invariance_env/lib/python3.10/site-packages/sklearn/linear_model/_logistic.py:444: ConvergenceWarning: lbfgs failed to converge (status=1):\n",
      "STOP: TOTAL NO. of ITERATIONS REACHED LIMIT.\n",
      "\n",
      "Increase the number of iterations (max_iter) or scale the data as shown in:\n",
      "    https://scikit-learn.org/stable/modules/preprocessing.html\n",
      "Please also refer to the documentation for alternative solver options:\n",
      "    https://scikit-learn.org/stable/modules/linear_model.html#logistic-regression\n",
      "  n_iter_i = _check_optimize_result(\n"
     ]
    },
    {
     "name": "stdout",
     "output_type": "stream",
     "text": [
      "LR Training Accuracy:  0.9282\n",
      "LR Accuracy on test data - Z - In Dist:  0.9021\n",
      "LR Accuracy on test data - Z - OOD:  0.892\n",
      "\n",
      "\n",
      "\n",
      " Results for alpha value:  1.0\n"
     ]
    },
    {
     "name": "stderr",
     "output_type": "stream",
     "text": [
      "/software/anaconda3/envs/invariance_env/lib/python3.10/site-packages/sklearn/linear_model/_logistic.py:444: ConvergenceWarning: lbfgs failed to converge (status=1):\n",
      "STOP: TOTAL NO. of ITERATIONS REACHED LIMIT.\n",
      "\n",
      "Increase the number of iterations (max_iter) or scale the data as shown in:\n",
      "    https://scikit-learn.org/stable/modules/preprocessing.html\n",
      "Please also refer to the documentation for alternative solver options:\n",
      "    https://scikit-learn.org/stable/modules/linear_model.html#logistic-regression\n",
      "  n_iter_i = _check_optimize_result(\n"
     ]
    },
    {
     "name": "stdout",
     "output_type": "stream",
     "text": [
      "LR Training Accuracy:  0.92816\n",
      "LR Accuracy on test data - Z - In Dist:  0.9013\n",
      "LR Accuracy on test data - Z - OOD:  0.8902\n",
      "\n",
      "\n",
      "\n",
      "\n",
      "\n",
      "\n",
      "\n",
      "\n",
      " Results for contrast factor:  2\n"
     ]
    },
    {
     "data": {
      "text/html": [
       "Finishing last run (ID:27c3mqfm) before initializing another..."
      ],
      "text/plain": [
       "<IPython.core.display.HTML object>"
      ]
     },
     "metadata": {},
     "output_type": "display_data"
    },
    {
     "data": {
      "text/html": [
       "Waiting for W&B process to finish... <strong style=\"color:green\">(success).</strong>"
      ],
      "text/plain": [
       "<IPython.core.display.HTML object>"
      ]
     },
     "metadata": {},
     "output_type": "display_data"
    },
    {
     "data": {
      "text/html": [
       "Synced <strong style=\"color:#cdcd00\">rural-armadillo-34</strong>: <a href=\"https://wandb.ai/lilianngweta/accuracy-vs-dist-variations/runs/27c3mqfm\" target=\"_blank\">https://wandb.ai/lilianngweta/accuracy-vs-dist-variations/runs/27c3mqfm</a><br/>Synced 5 W&B file(s), 1 media file(s), 0 artifact file(s) and 0 other file(s)"
      ],
      "text/plain": [
       "<IPython.core.display.HTML object>"
      ]
     },
     "metadata": {},
     "output_type": "display_data"
    },
    {
     "data": {
      "text/html": [
       "Find logs at: <code>./wandb/run-20220831_213557-27c3mqfm/logs</code>"
      ],
      "text/plain": [
       "<IPython.core.display.HTML object>"
      ]
     },
     "metadata": {},
     "output_type": "display_data"
    },
    {
     "data": {
      "text/html": [
       "Successfully finished last run (ID:27c3mqfm). Initializing new run:<br/>"
      ],
      "text/plain": [
       "<IPython.core.display.HTML object>"
      ]
     },
     "metadata": {},
     "output_type": "display_data"
    },
    {
     "data": {
      "text/html": [
       "Tracking run with wandb version 0.13.2"
      ],
      "text/plain": [
       "<IPython.core.display.HTML object>"
      ]
     },
     "metadata": {},
     "output_type": "display_data"
    },
    {
     "data": {
      "text/html": [
       "Run data is saved locally in <code>/home/ngwetl/LILIAN_RESEARCH/causality-for-out-of-distribution-generalization-in-ml/causal-invariance/wandb/run-20220831_215410-14xqbenh</code>"
      ],
      "text/plain": [
       "<IPython.core.display.HTML object>"
      ]
     },
     "metadata": {},
     "output_type": "display_data"
    },
    {
     "data": {
      "text/html": [
       "Syncing run <strong><a href=\"https://wandb.ai/lilianngweta/accuracy-vs-dist-variations/runs/14xqbenh\" target=\"_blank\">generous-wildflower-35</a></strong> to <a href=\"https://wandb.ai/lilianngweta/accuracy-vs-dist-variations\" target=\"_blank\">Weights & Biases</a> (<a href=\"https://wandb.me/run\" target=\"_blank\">docs</a>)<br/>"
      ],
      "text/plain": [
       "<IPython.core.display.HTML object>"
      ]
     },
     "metadata": {},
     "output_type": "display_data"
    },
    {
     "name": "stdout",
     "output_type": "stream",
     "text": [
      " Results for alpha value:  0.5\n"
     ]
    },
    {
     "name": "stderr",
     "output_type": "stream",
     "text": [
      "/software/anaconda3/envs/invariance_env/lib/python3.10/site-packages/sklearn/linear_model/_logistic.py:444: ConvergenceWarning: lbfgs failed to converge (status=1):\n",
      "STOP: TOTAL NO. of ITERATIONS REACHED LIMIT.\n",
      "\n",
      "Increase the number of iterations (max_iter) or scale the data as shown in:\n",
      "    https://scikit-learn.org/stable/modules/preprocessing.html\n",
      "Please also refer to the documentation for alternative solver options:\n",
      "    https://scikit-learn.org/stable/modules/linear_model.html#logistic-regression\n",
      "  n_iter_i = _check_optimize_result(\n"
     ]
    },
    {
     "name": "stdout",
     "output_type": "stream",
     "text": [
      "LR Training Accuracy:  0.90706\n",
      "LR Accuracy on test data - Z - In Dist:  0.8778\n",
      "LR Accuracy on test data - Z - OOD:  0.8775\n",
      "\n",
      "\n",
      "\n",
      " Results for alpha value:  0.75\n"
     ]
    },
    {
     "name": "stderr",
     "output_type": "stream",
     "text": [
      "/software/anaconda3/envs/invariance_env/lib/python3.10/site-packages/sklearn/linear_model/_logistic.py:444: ConvergenceWarning: lbfgs failed to converge (status=1):\n",
      "STOP: TOTAL NO. of ITERATIONS REACHED LIMIT.\n",
      "\n",
      "Increase the number of iterations (max_iter) or scale the data as shown in:\n",
      "    https://scikit-learn.org/stable/modules/preprocessing.html\n",
      "Please also refer to the documentation for alternative solver options:\n",
      "    https://scikit-learn.org/stable/modules/linear_model.html#logistic-regression\n",
      "  n_iter_i = _check_optimize_result(\n"
     ]
    },
    {
     "name": "stdout",
     "output_type": "stream",
     "text": [
      "LR Training Accuracy:  0.91032\n",
      "LR Accuracy on test data - Z - In Dist:  0.8861\n",
      "LR Accuracy on test data - Z - OOD:  0.8607\n",
      "\n",
      "\n",
      "\n",
      " Results for alpha value:  0.9\n"
     ]
    },
    {
     "name": "stderr",
     "output_type": "stream",
     "text": [
      "/software/anaconda3/envs/invariance_env/lib/python3.10/site-packages/sklearn/linear_model/_logistic.py:444: ConvergenceWarning: lbfgs failed to converge (status=1):\n",
      "STOP: TOTAL NO. of ITERATIONS REACHED LIMIT.\n",
      "\n",
      "Increase the number of iterations (max_iter) or scale the data as shown in:\n",
      "    https://scikit-learn.org/stable/modules/preprocessing.html\n",
      "Please also refer to the documentation for alternative solver options:\n",
      "    https://scikit-learn.org/stable/modules/linear_model.html#logistic-regression\n",
      "  n_iter_i = _check_optimize_result(\n"
     ]
    },
    {
     "name": "stdout",
     "output_type": "stream",
     "text": [
      "LR Training Accuracy:  0.91798\n",
      "LR Accuracy on test data - Z - In Dist:  0.8964\n",
      "LR Accuracy on test data - Z - OOD:  0.8029\n",
      "\n",
      "\n",
      "\n",
      " Results for alpha value:  0.95\n"
     ]
    },
    {
     "name": "stderr",
     "output_type": "stream",
     "text": [
      "/software/anaconda3/envs/invariance_env/lib/python3.10/site-packages/sklearn/linear_model/_logistic.py:444: ConvergenceWarning: lbfgs failed to converge (status=1):\n",
      "STOP: TOTAL NO. of ITERATIONS REACHED LIMIT.\n",
      "\n",
      "Increase the number of iterations (max_iter) or scale the data as shown in:\n",
      "    https://scikit-learn.org/stable/modules/preprocessing.html\n",
      "Please also refer to the documentation for alternative solver options:\n",
      "    https://scikit-learn.org/stable/modules/linear_model.html#logistic-regression\n",
      "  n_iter_i = _check_optimize_result(\n"
     ]
    },
    {
     "name": "stdout",
     "output_type": "stream",
     "text": [
      "LR Training Accuracy:  0.92544\n",
      "LR Accuracy on test data - Z - In Dist:  0.9001\n",
      "LR Accuracy on test data - Z - OOD:  0.7533\n",
      "\n",
      "\n",
      "\n",
      " Results for alpha value:  0.99\n"
     ]
    },
    {
     "name": "stderr",
     "output_type": "stream",
     "text": [
      "/software/anaconda3/envs/invariance_env/lib/python3.10/site-packages/sklearn/linear_model/_logistic.py:444: ConvergenceWarning: lbfgs failed to converge (status=1):\n",
      "STOP: TOTAL NO. of ITERATIONS REACHED LIMIT.\n",
      "\n",
      "Increase the number of iterations (max_iter) or scale the data as shown in:\n",
      "    https://scikit-learn.org/stable/modules/preprocessing.html\n",
      "Please also refer to the documentation for alternative solver options:\n",
      "    https://scikit-learn.org/stable/modules/linear_model.html#logistic-regression\n",
      "  n_iter_i = _check_optimize_result(\n"
     ]
    },
    {
     "name": "stdout",
     "output_type": "stream",
     "text": [
      "LR Training Accuracy:  0.93354\n",
      "LR Accuracy on test data - Z - In Dist:  0.913\n",
      "LR Accuracy on test data - Z - OOD:  0.6147\n",
      "\n",
      "\n",
      "\n",
      " Results for alpha value:  1.0\n"
     ]
    },
    {
     "name": "stderr",
     "output_type": "stream",
     "text": [
      "/software/anaconda3/envs/invariance_env/lib/python3.10/site-packages/sklearn/linear_model/_logistic.py:444: ConvergenceWarning: lbfgs failed to converge (status=1):\n",
      "STOP: TOTAL NO. of ITERATIONS REACHED LIMIT.\n",
      "\n",
      "Increase the number of iterations (max_iter) or scale the data as shown in:\n",
      "    https://scikit-learn.org/stable/modules/preprocessing.html\n",
      "Please also refer to the documentation for alternative solver options:\n",
      "    https://scikit-learn.org/stable/modules/linear_model.html#logistic-regression\n",
      "  n_iter_i = _check_optimize_result(\n"
     ]
    },
    {
     "name": "stdout",
     "output_type": "stream",
     "text": [
      "LR Training Accuracy:  0.93684\n",
      "LR Accuracy on test data - Z - In Dist:  0.9167\n",
      "LR Accuracy on test data - Z - OOD:  0.5159\n",
      "\n",
      "\n",
      "\n",
      "\n",
      "\n",
      "\n",
      "\n",
      "\n"
     ]
    },
    {
     "data": {
      "text/html": [
       "Waiting for W&B process to finish... <strong style=\"color:green\">(success).</strong>"
      ],
      "text/plain": [
       "<IPython.core.display.HTML object>"
      ]
     },
     "metadata": {},
     "output_type": "display_data"
    },
    {
     "data": {
      "text/html": [
       "Synced <strong style=\"color:#cdcd00\">generous-wildflower-35</strong>: <a href=\"https://wandb.ai/lilianngweta/accuracy-vs-dist-variations/runs/14xqbenh\" target=\"_blank\">https://wandb.ai/lilianngweta/accuracy-vs-dist-variations/runs/14xqbenh</a><br/>Synced 5 W&B file(s), 1 media file(s), 0 artifact file(s) and 0 other file(s)"
      ],
      "text/plain": [
       "<IPython.core.display.HTML object>"
      ]
     },
     "metadata": {},
     "output_type": "display_data"
    },
    {
     "data": {
      "text/html": [
       "Find logs at: <code>./wandb/run-20220831_215410-14xqbenh/logs</code>"
      ],
      "text/plain": [
       "<IPython.core.display.HTML object>"
      ]
     },
     "metadata": {},
     "output_type": "display_data"
    },
    {
     "data": {
      "image/png": "[encoded data removed]",
      "text/plain": [
       "<Figure size 432x288 with 1 Axes>"
      ]
     },
     "metadata": {
      "needs_background": "light"
     },
     "output_type": "display_data"
    },
    {
     "data": {
      "image/png": "[encoded data removed]",
      "text/plain": [
       "<Figure size 432x288 with 1 Axes>"
      ]
     },
     "metadata": {
      "needs_background": "light"
     },
     "output_type": "display_data"
    },
    {
     "data": {
      "image/png": "[encoded data removed]",
      "text/plain": [
       "<Figure size 432x288 with 1 Axes>"
      ]
     },
     "metadata": {
      "needs_background": "light"
     },
     "output_type": "display_data"
    },
    {
     "data": {
      "image/png": "[encoded data removed]",
      "text/plain": [
       "<Figure size 432x288 with 1 Axes>"
      ]
     },
     "metadata": {
      "needs_background": "light"
     },
     "output_type": "display_data"
    },
    {
     "data": {
      "image/png": "[encoded data removed]",
      "text/plain": [
       "<Figure size 432x288 with 1 Axes>"
      ]
     },
     "metadata": {
      "needs_background": "light"
     },
     "output_type": "display_data"
    },
    {
     "data": {
      "image/png": "[encoded data removed]",
      "text/plain": [
       "<Figure size 432x288 with 1 Axes>"
      ]
     },
     "metadata": {
      "needs_background": "light"
     },
     "output_type": "display_data"
    }
   ],
   "source": [
    "# contrast_factor: 0 gray - 1 original image - 2 increases the contrast by a factor of 2.\n",
    "# contrast_factor = 0.3\n",
    "angle = 70\n",
    "batch_size = 64\n",
    "\n",
    "rotation_angles = [15,30,45,60,75,90,105,120,135,150,165,180]\n",
    "contrast_factors = [0.1, 0.3,0.5,0.7,0.9,2]\n",
    "distributions = [0.5, 0.75, 0.90, 0.95, 0.99,1.0]\n",
    "\n",
    "import wandb\n",
    "\n",
    "wandb.login()\n",
    "\n",
    "\n",
    "for contrast_factor in contrast_factors:\n",
    "    print(\" Results for contrast factor: \", contrast_factor)\n",
    "\n",
    "    accuracy0_list = []\n",
    "    accuracy1_list = []\n",
    "    accuracy2_list = []\n",
    "\n",
    "    labels0 = []\n",
    "    labels1 = []\n",
    "    labels2 = []\n",
    "    \n",
    "    wandb.init(project=\"accuracy-vs-dist-variations\", entity=\"lilianngweta\")\n",
    "    \n",
    "    for dist_value in distributions:\n",
    "        print(\" Results for alpha value: \", dist_value)\n",
    "        # Creating sets of images in a way that correlates the way images are modified with label\n",
    "        train_imgs, train_labels2, train_mod_labels2 = correlate_label_with_img_modification(\n",
    "            train_dataset, contrast_factor, mod_percent= dist_value, binarize_label=False, mod_type=\"contrast\")\n",
    "\n",
    "        test_imgs_indist, test_labels2_indist, test_mod_labels2_indist = correlate_label_with_img_modification(\n",
    "            test_dataset, contrast_factor, mod_percent= dist_value, binarize_label=False, mod_type=\"contrast\")\n",
    "\n",
    "        test_imgs_ood, test_labels2_ood, test_mod_labels2_ood = correlate_label_with_img_modification(\n",
    "            test_dataset, contrast_factor, mod_percent= 1-dist_value, binarize_label=False, mod_type=\"contrast\")\n",
    "\n",
    "\n",
    "        # Extract image features\n",
    "        Z_train = get_features(train_imgs, batch_size)\n",
    "        Z_test_indist= get_features(test_imgs_indist, batch_size)\n",
    "        Z_test_ood= get_features(test_imgs_ood, batch_size)\n",
    "\n",
    "\n",
    "        # Classification and recording prediction accuracy\n",
    "        logistic_regression_model2 = LogisticRegression(\n",
    "            multi_class='multinomial', solver='lbfgs', random_state=0).fit(Z_train, \n",
    "                                                                           train_labels2)\n",
    "        accuracy0 = logistic_regression_model2.score(Z_train, train_labels2)\n",
    "        accuracy1 = logistic_regression_model2.score(Z_test_indist, test_labels2_indist)\n",
    "        accuracy2 = logistic_regression_model2.score(Z_test_ood, test_labels2_ood)\n",
    "        accuracy0_list.append(accuracy0)\n",
    "        accuracy1_list.append(accuracy1)\n",
    "        accuracy2_list.append(accuracy2)\n",
    "\n",
    "        labels0.append(\"Train Accuracy\")\n",
    "        labels1.append(\"In Dist Accuracy\")\n",
    "        labels2.append(\"OOD Accuracy\")\n",
    "\n",
    "        print('LR Training Accuracy: ', accuracy0)\n",
    "        print('LR Accuracy on test data - Z - In Dist: ', accuracy1)\n",
    "        print('LR Accuracy on test data - Z - OOD: ', accuracy2)\n",
    "        print(\"\\n\"*2)\n",
    "\n",
    "    x= distributions\n",
    "    y = np.array([accuracy0_list, accuracy1_list, accuracy2_list]).T\n",
    "    fig, ax = plt.subplots()\n",
    "    ax.plot(x, y)\n",
    "    ax.set_ylabel(\"Accuracy\")\n",
    "    ax.set_xlabel(\"Data Distribution Variation Per Class (alpha)\")\n",
    "    ax.legend([\"Train Accuracy\", \"In Dist Accuracy\", \"OOD Accuracy\"])\n",
    "    ax.set_title(\"Contrast Factor: \"+str(contrast_factor), fontweight =\"bold\")\n",
    "\n",
    "    # Log the plot\n",
    "    wandb.log({\"Accuracy vs alpha plots - labels binarized\": wandb.Image(fig)})\n",
    "    \n",
    "\n",
    "    print(\"\\n\"*4)    \n",
    "wandb.finish()\n"
   ]
  },
  {
   "cell_type": "code",
   "execution_count": null,
   "metadata": {},
   "outputs": [],
   "source": []
  },
  {
   "cell_type": "code",
   "execution_count": 5,
   "metadata": {},
   "outputs": [],
   "source": [
    "# import seaborn as sns\n",
    "# import numpy as np\n",
    "# import matplotlib.pyplot as plt\n",
    "\n",
    "# labels0 = [\"Train Accuracy\",\"Train Accuracy\",\"Train Accuracy\",\"Train Accuracy\",\"Train Accuracy\",\"Train Accuracy\"]\n",
    "# labels1 = [\"In Dist Accuracy\",\"In Dist Accuracy\",\"In Dist Accuracy\",\"In Dist Accuracy\",\"In Dist Accuracy\",\"In Dist Accuracy\"]\n",
    "# labels2 = [\"OOD Accuracy\",\"OOD Accuracy\",\"OOD Accuracy\",\"OOD Accuracy\",\"OOD Accuracy\",\"OOD Accuracy\"]\n",
    "# contrast_factor = 0.3\n",
    "# accuracy0_list = [0.92736, 0.92682, 0.92744,0.92736, 0.92682, 0.92744]\n",
    "# accuracy1_list = [0.8991, 0.9019, 0.9013,0.8991, 0.9019, 0.9013]\n",
    "# accuracy2_list = [0.8987, 0.8981, 0.8932,0.8987, 0.8981, 0.8932]\n",
    "# distributions = [0.5, 0.75, 0.90, 0.95, 0.99,1.0]\n",
    "# # alpha = np.concatenate((distributions, distributions,distributions), axis=None)\n",
    "# # accuracies=np.concatenate((accuracy0_list, accuracy1_list, accuracy2_list), axis=None)\n",
    "# # key = np.concatenate((labels0, labels1, labels2), axis=None)\n",
    "# # len(key)\n",
    "# # key\n",
    "\n",
    "# # plt.rc('axes', labelsize=15)\n",
    "# # plt.rc('xtick', labelsize=15)\n",
    "# # plt.rc('ytick', labelsize=15)\n",
    "# # sns.set_palette(sns.mpl_palette('Greys_r', 2))\n",
    "# # #     sns.set_style(\"whitegrid\")\n",
    "# # f, (ax1) = plt.subplots(1, 1, figsize=(7, 6), sharex=True)\n",
    "# # sns.set(style=\"ticks\", color_codes=False)\n",
    "# # #     ax.bar_label(ax.containers[0])\n",
    "# # g = sns.lineplot(x=alpha, y=accuracies, hue=key, ax=ax1)\n",
    "# # #     g = sns.relplot(data=data, x=\"Thresholds\", y=\"KL Divergence\", hue=\"Feature Type\", kind='line')\n",
    "# # #     g = sns.barplot(x=\"Thresholds\", y=\"KL Divergence\", hue=\"Feature Type\", data=data, ax=ax1)\n",
    "# # plt.legend(loc='lower right')\n",
    "# # #     ax1.bar_label(ax1.containers[0])\n",
    "# # g.set(xlabel='Threshold Values', ylabel='KL Divergence Values in Log Scale')\n",
    "# # # g.set_yscale(\"log\")\n",
    "# # #     g.set_title('Multi-label Classification Results',fontdict= { 'fontsize': 40, 'fontweight':'bold'})\n",
    "# #     plt.tight_layout()\n",
    "\n",
    "# import wandb\n",
    "\n",
    "# wandb.login()\n",
    "\n",
    "\n",
    "# # with :\n",
    "# for i in range(3):\n",
    "#     wandb.init(project=\"accuracy-vs-dist-variations\", entity=\"lilianngweta\")\n",
    "#     x= distributions\n",
    "#     y = np.array([accuracy0_list, accuracy1_list, accuracy2_list]).T\n",
    "#     fig, ax = plt.subplots()\n",
    "#     ax.plot(x, y)\n",
    "#     ax.set_ylabel(\"Accuracy\")\n",
    "#     ax.set_xlabel(\"Data Distribution Variation Per Class (alpha)\")\n",
    "#     ax.legend([\"Train Accuracy\", \"In Dist Accuracy\", \"OOD Accuracy\"])\n",
    "#     ax.set_title(\"Contrast Factor: \"+str(contrast_factor), fontweight =\"bold\")\n",
    "\n",
    "#     # Log the plot\n",
    "#     wandb.log({\"Accuracy vs alpha plots\": wandb.Image(fig)})\n",
    "#     wandb.finish()\n",
    "#     fig\n",
    "    \n",
    "\n"
   ]
  },
  {
   "cell_type": "code",
   "execution_count": 6,
   "metadata": {},
   "outputs": [],
   "source": [
    "# import matplotlib.pyplot as plt\n",
    "# # Unique category labels: 'D', 'F', 'G', ...\n",
    "# # color_labels = key.unique()\n",
    "\n",
    "# # List of RGB triplets\n",
    "# # rgb_values = sns.color_palette(\"Set2\", 8)\n",
    "\n",
    "# # Map label to RGB\n",
    "# # color_map = dict(zip(color_labels, rgb_values))\n",
    "\n",
    "# # Finally use the mapped values\n",
    "# # plt.plot(alpha, accuracies)\n",
    "\n",
    "\n",
    "\n",
    "\n",
    "# g = sns.lineplot(x=alpha, y=accuracies, hue=key)\n",
    "# g.set(xlabel='Data Distribution Variation Per Class (alpha)', ylabel='Accuracy')\n",
    "# plt.show()"
   ]
  },
  {
   "cell_type": "code",
   "execution_count": 7,
   "metadata": {},
   "outputs": [],
   "source": [
    "# # import matplotlib.pyplot as plt\n",
    "# # %matplotlib inline\n",
    "\n",
    "# # Make the plot\n",
    "# # fibonacci = [0, 1, 1, 2, 3, 5, 8, 13, 21, 34]\n",
    "# wandb.init(project=\"accuracy-vs-dist-variations\", entity=\"lilianngweta\")\n",
    "# x= distributions\n",
    "# y = np.array([accuracy0_list, accuracy1_list, accuracy2_list]).T\n",
    "# fig, ax = plt.subplots()\n",
    "# ax.plot(x, y)\n",
    "# ax.set_ylabel(\"Accuracy\")\n",
    "# ax.set_xlabel(\"Data Distribution Variation Per Class (alpha)\")\n",
    "# ax.legend([\"Train Accuracy\", \"In Dist Accuracy\", \"OOD Accuracy\"])\n",
    "\n",
    "# # Log the plot\n",
    "# # wandb.log({\"plot\": fig})\n",
    "# wandb.finish()\n",
    "# fig"
   ]
  },
  {
   "cell_type": "code",
   "execution_count": 8,
   "metadata": {},
   "outputs": [],
   "source": [
    "# with wandb.init(project=\"accuracy-vs-dist-variations\", entity=\"lilianngweta\"):\n",
    "#     x= distributions\n",
    "#     y = np.array([accuracy0_list, accuracy1_list, accuracy2_list]).T\n",
    "#     fig, ax = plt.subplots()\n",
    "#     ax.plot(x, y)\n",
    "#     ax.set_ylabel(\"Accuracy\")\n",
    "#     ax.set_xlabel(\"Data Distribution Variation Per Class (alpha)\")\n",
    "#     ax.legend([\"Train Accuracy\", \"In Dist Accuracy\", \"OOD Accuracy\"])\n",
    "\n",
    "#     # Log the plot\n",
    "#     wandb.log({\"plot\": fig})\n",
    "#     wandb.finish()\n",
    "#     fig\n",
    "    \n",
    "\n",
    "# # wandb.log({\"Contrast Factor: \"+str(contrast_factor): fig})\n",
    "# wandb.log({\"Contrast Factor\": fig})"
   ]
  },
  {
   "cell_type": "code",
   "execution_count": null,
   "metadata": {},
   "outputs": [],
   "source": []
  }
 ],
 "metadata": {
  "kernelspec": {
   "display_name": "Python [conda env:invariance_env]",
   "language": "python",
   "name": "conda-env-invariance_env-py"
  },
  "language_info": {
   "codemirror_mode": {
    "name": "ipython",
    "version": 3
   },
   "file_extension": ".py",
   "mimetype": "text/x-python",
   "name": "python",
   "nbconvert_exporter": "python",
   "pygments_lexer": "ipython3",
   "version": "3.10.4"
  }
 },
 "nbformat": 4,
 "nbformat_minor": 2
}

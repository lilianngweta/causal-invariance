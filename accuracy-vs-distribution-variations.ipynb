{
 "cells": [
  {
   "cell_type": "code",
   "execution_count": 1,
   "metadata": {},
   "outputs": [],
   "source": [
    "import torch\n",
    "import torchvision\n",
    "import torchvision.transforms as transforms\n",
    "from torch.utils.data import random_split, DataLoader\n",
    "import matplotlib.pyplot as plt\n",
    "from torchvision.utils import make_grid\n",
    "\n",
    "import numpy as np\n",
    "\n",
    "import matplotlib.pyplot as plt\n",
    "import torchvision.transforms as transforms\n",
    "import torchvision.transforms.functional as F\n",
    "from PIL import Image \n",
    "from scipy import ndimage, misc\n",
    "import matplotlib.pyplot as plt\n",
    "\n",
    "from image_feature_extractor import Img2Vec\n",
    "\n",
    "from sklearn.linear_model import LogisticRegression\n",
    "\n",
    "import torch\n",
    "from sklearn import preprocessing\n",
    "\n",
    "\n"
   ]
  },
  {
   "cell_type": "markdown",
   "metadata": {},
   "source": [
    "# Download CIFAR 10 data form torchvision"
   ]
  },
  {
   "cell_type": "code",
   "execution_count": 2,
   "metadata": {},
   "outputs": [
    {
     "name": "stdout",
     "output_type": "stream",
     "text": [
      "Files already downloaded and verified\n",
      "Files already downloaded and verified\n"
     ]
    }
   ],
   "source": [
    "\n",
    "train_dataset = torchvision.datasets.CIFAR10('~/datasets/cifar', train=True, download=True)\n",
    "test_dataset = torchvision.datasets.CIFAR10('~/datasets/cifar', train=False, download=True)\n"
   ]
  },
  {
   "cell_type": "code",
   "execution_count": 3,
   "metadata": {},
   "outputs": [
    {
     "data": {
      "text/plain": [
       "(1, 32, 32, 3)"
      ]
     },
     "execution_count": 3,
     "metadata": {},
     "output_type": "execute_result"
    }
   ],
   "source": [
    "np.expand_dims(test_dataset.data[0],0).shape"
   ]
  },
  {
   "cell_type": "markdown",
   "metadata": {},
   "source": [
    "# Useful functions"
   ]
  },
  {
   "cell_type": "code",
   "execution_count": 4,
   "metadata": {},
   "outputs": [],
   "source": [
    "def apply_contrast(images_data, contrast_factor):\n",
    "    to_tensor = transforms.ToTensor()   \n",
    "    images_list = [to_tensor(im) for im in images_data]\n",
    "    images = torch.stack(images_list)\n",
    "    contrasted_images = F.adjust_contrast(images, contrast_factor)\n",
    "    contrasted_images = np.array(np.stack([transforms.ToPILImage()(im) for im in contrasted_images]))\n",
    "    return contrasted_images\n",
    "\n",
    "def apply_rotation(images_data, angle):\n",
    "    rotated_images = []\n",
    "    for img in images_data:\n",
    "        rotated_image = ndimage.rotate(img, angle, reshape=False)\n",
    "        rotated_images.append(rotated_image)\n",
    "    rotated_images = np.array(rotated_images)\n",
    "    return rotated_images\n",
    "\n",
    "\n",
    "# Generate a list of original and modified images: every original image has a duplicate which is \n",
    "# the modified original image.\n",
    "def generate_duplicates_modified_original(image_set, mod_factor, mod_type=\"contrast\"):\n",
    "    original_labels = np.zeros(len(image_set.data))\n",
    "    modified_labels = np.ones(len(image_set.data))\n",
    "    \n",
    "    modified_images = None\n",
    "    \n",
    "    if mod_type==\"contrast\":\n",
    "        modified_images = apply_contrast(image_set.data, mod_factor) \n",
    "        \n",
    "    elif mod_type==\"rotation\":\n",
    "        modified_images = apply_rotation(image_set.data, mod_factor)\n",
    "\n",
    "    original_and_modified_images = np.concatenate((image_set.data, modified_images), axis=0)\n",
    "    modification_labels = np.concatenate((original_labels, modified_labels), axis=None)\n",
    "    image_labels = np.concatenate((image_set.targets, image_set.targets), axis=None)        \n",
    "    return modified_images, original_and_modified_images, modification_labels, image_labels\n",
    "\n",
    "\n",
    "# used to binarize the target variable\n",
    "def binarize(y):    \n",
    "    y = np.copy(y) > 5\n",
    "    return y.astype(int)\n",
    "\n",
    "def correlate_label_with_img_modification(image_dataset, mod_factor, mod_percent= 0.1, \n",
    "                                          binarize_label=True, mod_type=\"contrast\"):\n",
    "    y = binarize(image_dataset.targets)\n",
    "    mod_labels = np.logical_xor(y, np.random.binomial(1, mod_percent, size=len(y)))\n",
    "    \n",
    "    images_to_be_modified = image_dataset.data[mod_labels]\n",
    "    images_to_be_left_alone = image_dataset.data[~mod_labels]\n",
    "    \n",
    "    all_img_labels = None\n",
    "    \n",
    "    if binarize_label:\n",
    "        modified_imgs_labels = y[mod_labels]\n",
    "        unmodified_imgs_labels = y[~mod_labels]\n",
    "        all_img_labels = np.concatenate((modified_imgs_labels, unmodified_imgs_labels), axis=None)\n",
    "    else:\n",
    "        modified_imgs_labels = np.array(image_dataset.targets)[mod_labels]\n",
    "        unmodified_imgs_labels = np.array(image_dataset.targets)[~mod_labels]\n",
    "        all_img_labels = np.concatenate((modified_imgs_labels, unmodified_imgs_labels), axis=None)    \n",
    "    \n",
    "    all_images = None\n",
    "    \n",
    "    if mod_type == \"contrast\":\n",
    "        modified_images = apply_contrast(images_to_be_modified, mod_factor)\n",
    "        all_images = np.concatenate((modified_images, images_to_be_left_alone), axis=0)                    \n",
    "        \n",
    "    elif mod_type==\"rotation\":\n",
    "        modified_images = apply_rotation(images_to_be_modified, mod_factor)\n",
    "        all_images = np.concatenate((modified_images, images_to_be_left_alone), axis=0)\n",
    "        \n",
    "    return all_images, all_img_labels, mod_labels.astype(int)\n",
    "\n",
    "\n",
    "# Function to extract image features    \n",
    "def get_features(images, batch_size):\n",
    "    Z_list = []\n",
    "    img2vec = Img2Vec(model=\"resnet50\")\n",
    "#     img2vec = Img2Vec()\n",
    "    for first in range(0, len(images), batch_size):\n",
    "        images_subset = images[first:first+batch_size]\n",
    "        Z_subset = img2vec.get_vec(images_subset)\n",
    "        Z_list.append(Z_subset)\n",
    "    Z = np.vstack(Z_list)\n",
    "    return Z"
   ]
  },
  {
   "cell_type": "markdown",
   "metadata": {},
   "source": [
    "# Accuracies for different variations of data distributions per class"
   ]
  },
  {
   "cell_type": "code",
   "execution_count": 5,
   "metadata": {},
   "outputs": [
    {
     "name": "stdout",
     "output_type": "stream",
     "text": [
      " Results for alpha value:  0.5\n"
     ]
    },
    {
     "name": "stderr",
     "output_type": "stream",
     "text": [
      "/software/anaconda3/envs/invariance_env/lib/python3.10/site-packages/sklearn/linear_model/_logistic.py:444: ConvergenceWarning: lbfgs failed to converge (status=1):\n",
      "STOP: TOTAL NO. of ITERATIONS REACHED LIMIT.\n",
      "\n",
      "Increase the number of iterations (max_iter) or scale the data as shown in:\n",
      "    https://scikit-learn.org/stable/modules/preprocessing.html\n",
      "Please also refer to the documentation for alternative solver options:\n",
      "    https://scikit-learn.org/stable/modules/linear_model.html#logistic-regression\n",
      "  n_iter_i = _check_optimize_result(\n"
     ]
    },
    {
     "name": "stdout",
     "output_type": "stream",
     "text": [
      "LR Training Accuracy:  0.88922\n",
      "LR Accuracy on test data - Z - In Dist:  0.8604\n",
      "LR Accuracy on test data - Z - OOD:  0.8609\n",
      "\n",
      "\n",
      "\n",
      " Results for alpha value:  0.75\n"
     ]
    },
    {
     "name": "stderr",
     "output_type": "stream",
     "text": [
      "/software/anaconda3/envs/invariance_env/lib/python3.10/site-packages/sklearn/linear_model/_logistic.py:444: ConvergenceWarning: lbfgs failed to converge (status=1):\n",
      "STOP: TOTAL NO. of ITERATIONS REACHED LIMIT.\n",
      "\n",
      "Increase the number of iterations (max_iter) or scale the data as shown in:\n",
      "    https://scikit-learn.org/stable/modules/preprocessing.html\n",
      "Please also refer to the documentation for alternative solver options:\n",
      "    https://scikit-learn.org/stable/modules/linear_model.html#logistic-regression\n",
      "  n_iter_i = _check_optimize_result(\n"
     ]
    },
    {
     "name": "stdout",
     "output_type": "stream",
     "text": [
      "LR Training Accuracy:  0.89246\n",
      "LR Accuracy on test data - Z - In Dist:  0.8616\n",
      "LR Accuracy on test data - Z - OOD:  0.8342\n",
      "\n",
      "\n",
      "\n",
      " Results for alpha value:  0.9\n"
     ]
    },
    {
     "name": "stderr",
     "output_type": "stream",
     "text": [
      "/software/anaconda3/envs/invariance_env/lib/python3.10/site-packages/sklearn/linear_model/_logistic.py:444: ConvergenceWarning: lbfgs failed to converge (status=1):\n",
      "STOP: TOTAL NO. of ITERATIONS REACHED LIMIT.\n",
      "\n",
      "Increase the number of iterations (max_iter) or scale the data as shown in:\n",
      "    https://scikit-learn.org/stable/modules/preprocessing.html\n",
      "Please also refer to the documentation for alternative solver options:\n",
      "    https://scikit-learn.org/stable/modules/linear_model.html#logistic-regression\n",
      "  n_iter_i = _check_optimize_result(\n"
     ]
    },
    {
     "name": "stdout",
     "output_type": "stream",
     "text": [
      "LR Training Accuracy:  0.90384\n",
      "LR Accuracy on test data - Z - In Dist:  0.8821\n",
      "LR Accuracy on test data - Z - OOD:  0.7535\n",
      "\n",
      "\n",
      "\n",
      " Results for alpha value:  0.95\n"
     ]
    },
    {
     "name": "stderr",
     "output_type": "stream",
     "text": [
      "/software/anaconda3/envs/invariance_env/lib/python3.10/site-packages/sklearn/linear_model/_logistic.py:444: ConvergenceWarning: lbfgs failed to converge (status=1):\n",
      "STOP: TOTAL NO. of ITERATIONS REACHED LIMIT.\n",
      "\n",
      "Increase the number of iterations (max_iter) or scale the data as shown in:\n",
      "    https://scikit-learn.org/stable/modules/preprocessing.html\n",
      "Please also refer to the documentation for alternative solver options:\n",
      "    https://scikit-learn.org/stable/modules/linear_model.html#logistic-regression\n",
      "  n_iter_i = _check_optimize_result(\n"
     ]
    },
    {
     "name": "stdout",
     "output_type": "stream",
     "text": [
      "LR Training Accuracy:  0.91116\n",
      "LR Accuracy on test data - Z - In Dist:  0.8882\n",
      "LR Accuracy on test data - Z - OOD:  0.6686\n",
      "\n",
      "\n",
      "\n",
      " Results for alpha value:  0.99\n"
     ]
    },
    {
     "name": "stderr",
     "output_type": "stream",
     "text": [
      "/software/anaconda3/envs/invariance_env/lib/python3.10/site-packages/sklearn/linear_model/_logistic.py:444: ConvergenceWarning: lbfgs failed to converge (status=1):\n",
      "STOP: TOTAL NO. of ITERATIONS REACHED LIMIT.\n",
      "\n",
      "Increase the number of iterations (max_iter) or scale the data as shown in:\n",
      "    https://scikit-learn.org/stable/modules/preprocessing.html\n",
      "Please also refer to the documentation for alternative solver options:\n",
      "    https://scikit-learn.org/stable/modules/linear_model.html#logistic-regression\n",
      "  n_iter_i = _check_optimize_result(\n"
     ]
    },
    {
     "name": "stdout",
     "output_type": "stream",
     "text": [
      "LR Training Accuracy:  0.92392\n",
      "LR Accuracy on test data - Z - In Dist:  0.903\n",
      "LR Accuracy on test data - Z - OOD:  0.4855\n",
      "\n",
      "\n",
      "\n",
      " Results for alpha value:  1.0\n"
     ]
    },
    {
     "name": "stderr",
     "output_type": "stream",
     "text": [
      "/software/anaconda3/envs/invariance_env/lib/python3.10/site-packages/sklearn/linear_model/_logistic.py:444: ConvergenceWarning: lbfgs failed to converge (status=1):\n",
      "STOP: TOTAL NO. of ITERATIONS REACHED LIMIT.\n",
      "\n",
      "Increase the number of iterations (max_iter) or scale the data as shown in:\n",
      "    https://scikit-learn.org/stable/modules/preprocessing.html\n",
      "Please also refer to the documentation for alternative solver options:\n",
      "    https://scikit-learn.org/stable/modules/linear_model.html#logistic-regression\n",
      "  n_iter_i = _check_optimize_result(\n"
     ]
    },
    {
     "name": "stdout",
     "output_type": "stream",
     "text": [
      "LR Training Accuracy:  0.92894\n",
      "LR Accuracy on test data - Z - In Dist:  0.9082\n",
      "LR Accuracy on test data - Z - OOD:  0.1366\n",
      "\n",
      "\n",
      "\n"
     ]
    }
   ],
   "source": [
    "\n",
    "\n",
    "contrast_factor = 0.3 # 0 gray - 1 original image - 2 increases the contrast by a factor of 2.\n",
    "angle = 70\n",
    "batch_size = 64\n",
    "\n",
    "distributions = [0.5, 0.75, 0.90, 0.95, 0.99,1.0]\n",
    "\n",
    "for dist_value in distributions:\n",
    "    print(\" Results for alpha value: \", dist_value)\n",
    "    # Creating sets of images in a way that correlates the way images are modified with label\n",
    "    train_imgs, train_labels2, train_mod_labels2 = correlate_label_with_img_modification(\n",
    "        train_dataset, contrast_factor, mod_percent= dist_value, binarize_label=False, mod_type=\"contrast\")\n",
    "    \n",
    "    test_imgs_indist, test_labels2_indist, test_mod_labels2_indist = correlate_label_with_img_modification(\n",
    "        test_dataset, contrast_factor, mod_percent= dist_value, binarize_label=False, mod_type=\"contrast\")\n",
    "\n",
    "    test_imgs_ood, test_labels2_ood, test_mod_labels2_ood = correlate_label_with_img_modification(\n",
    "        test_dataset, contrast_factor, mod_percent= 1-dist_value, binarize_label=False, mod_type=\"contrast\")\n",
    "\n",
    "\n",
    "    # Extract image features\n",
    "    Z_train = get_features(train_imgs, batch_size)\n",
    "    Z_test_indist= get_features(test_imgs_indist, batch_size)\n",
    "    Z_test_ood= get_features(test_imgs_ood, batch_size)\n",
    "\n",
    "\n",
    "    # Classification and recording prediction accuracy\n",
    "    logistic_regression_model2 = LogisticRegression(\n",
    "        multi_class='multinomial', solver='lbfgs', random_state=0).fit(Z_train, \n",
    "                                                                       train_labels2)\n",
    "    accuracy0 = logistic_regression_model2.score(Z_train, train_labels2)\n",
    "    accuracy1 = logistic_regression_model2.score(Z_test_indist, test_labels2_indist)\n",
    "    accuracy2 = logistic_regression_model2.score(Z_test_ood, test_labels2_ood)\n",
    "    print('LR Training Accuracy: ', accuracy0)\n",
    "    print('LR Accuracy on test data - Z - In Dist: ', accuracy1)\n",
    "    print('LR Accuracy on test data - Z - OOD: ', accuracy2)\n",
    "    print(\"\\n\"*2)\n"
   ]
  }
 ],
 "metadata": {
  "kernelspec": {
   "display_name": "Python [conda env:invariance_env]",
   "language": "python",
   "name": "conda-env-invariance_env-py"
  },
  "language_info": {
   "codemirror_mode": {
    "name": "ipython",
    "version": 3
   },
   "file_extension": ".py",
   "mimetype": "text/x-python",
   "name": "python",
   "nbconvert_exporter": "python",
   "pygments_lexer": "ipython3",
   "version": "3.10.4"
  }
 },
 "nbformat": 4,
 "nbformat_minor": 2
}
